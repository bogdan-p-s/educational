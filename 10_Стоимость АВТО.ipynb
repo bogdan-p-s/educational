{
 "cells": [
  {
   "cell_type": "markdown",
   "metadata": {},
   "source": [
    "# Определение стоимости автомобилей\n",
    "\n",
    "В нашем распоряжении исторические данные: технические характеристики, комплектации и цены автомобилей. Вам нужно построить модель для определения стоимости. "
   ]
  },
  {
   "cell_type": "markdown",
   "metadata": {},
   "source": [
    "### В рамках данного проекта нам предстоит:\n",
    "- проанализировать и обработать исторические данные по объявлениям продажи автомобилей\n",
    "- обучить несколько моделей и подобрать гиперпараметры\n",
    "- обучить итоговые модели с подобранными параметрами и сравнить результаты по качеству предсказания и временным показателям\n",
    "\n",
    "# 1. Подготовка данных"
   ]
  },
  {
   "cell_type": "code",
   "execution_count": 1,
   "metadata": {},
   "outputs": [],
   "source": [
    "import pandas as pd\n",
    "import numpy as np\n",
    "import matplotlib.pyplot as plt\n",
    "import seaborn as sns\n",
    "from sklearn.metrics import mean_squared_error\n",
    "from sklearn.model_selection import train_test_split\n",
    "from sklearn.preprocessing import StandardScaler\n",
    "from sklearn.preprocessing import OrdinalEncoder\n",
    "from sklearn.model_selection import cross_val_score\n",
    "from sklearn.model_selection import GridSearchCV\n",
    "import time\n",
    "from sklearn.tree import DecisionTreeRegressor\n",
    "from sklearn.ensemble import RandomForestRegressor\n",
    "from sklearn.linear_model import LinearRegression\n",
    "from catboost import CatBoostRegressor\n",
    "import lightgbm as lgb\n",
    "import xgboost as xgb\n",
    "import warnings"
   ]
  },
  {
   "cell_type": "markdown",
   "metadata": {},
   "source": [
    "Признаки:\n",
    "- DateCrawled — дата скачивания анкеты из базы\n",
    "- VehicleType — тип автомобильного кузова\n",
    "- RegistrationYear — год регистрации автомобиля\n",
    "- Gearbox — тип коробки передач\n",
    "- Power — мощность (л. с.)\n",
    "- Model — модель автомобиля\n",
    "- Kilometer — пробег (км)\n",
    "- RegistrationMonth — месяц регистрации автомобиля\n",
    "- FuelType — тип топлива\n",
    "- Brand — марка автомобиля\n",
    "- NotRepaired — была машина в ремонте или нет\n",
    "- DateCreated — дата создания анкеты\n",
    "- NumberOfPictures — количество фотографий автомобиля\n",
    "- PostalCode — почтовый индекс владельца анкеты (пользователя)\n",
    "- LastSeen — дата последней активности пользователя\n",
    "\n",
    "Целевой признак:\n",
    "- Price — цена (евро)"
   ]
  },
  {
   "cell_type": "code",
   "execution_count": 3,
   "metadata": {},
   "outputs": [
    {
     "data": {
      "text/html": [
       "<div>\n",
       "<style scoped>\n",
       "    .dataframe tbody tr th:only-of-type {\n",
       "        vertical-align: middle;\n",
       "    }\n",
       "\n",
       "    .dataframe tbody tr th {\n",
       "        vertical-align: top;\n",
       "    }\n",
       "\n",
       "    .dataframe thead th {\n",
       "        text-align: right;\n",
       "    }\n",
       "</style>\n",
       "<table border=\"1\" class=\"dataframe\">\n",
       "  <thead>\n",
       "    <tr style=\"text-align: right;\">\n",
       "      <th></th>\n",
       "      <th>DateCrawled</th>\n",
       "      <th>Price</th>\n",
       "      <th>VehicleType</th>\n",
       "      <th>RegistrationYear</th>\n",
       "      <th>Gearbox</th>\n",
       "      <th>Power</th>\n",
       "      <th>Model</th>\n",
       "      <th>Kilometer</th>\n",
       "      <th>RegistrationMonth</th>\n",
       "      <th>FuelType</th>\n",
       "      <th>Brand</th>\n",
       "      <th>NotRepaired</th>\n",
       "      <th>DateCreated</th>\n",
       "      <th>NumberOfPictures</th>\n",
       "      <th>PostalCode</th>\n",
       "      <th>LastSeen</th>\n",
       "    </tr>\n",
       "  </thead>\n",
       "  <tbody>\n",
       "    <tr>\n",
       "      <td>0</td>\n",
       "      <td>2016-03-24 11:52:17</td>\n",
       "      <td>480</td>\n",
       "      <td>NaN</td>\n",
       "      <td>1993</td>\n",
       "      <td>manual</td>\n",
       "      <td>0</td>\n",
       "      <td>golf</td>\n",
       "      <td>150000</td>\n",
       "      <td>0</td>\n",
       "      <td>petrol</td>\n",
       "      <td>volkswagen</td>\n",
       "      <td>NaN</td>\n",
       "      <td>2016-03-24 00:00:00</td>\n",
       "      <td>0</td>\n",
       "      <td>70435</td>\n",
       "      <td>2016-04-07 03:16:57</td>\n",
       "    </tr>\n",
       "    <tr>\n",
       "      <td>1</td>\n",
       "      <td>2016-03-24 10:58:45</td>\n",
       "      <td>18300</td>\n",
       "      <td>coupe</td>\n",
       "      <td>2011</td>\n",
       "      <td>manual</td>\n",
       "      <td>190</td>\n",
       "      <td>NaN</td>\n",
       "      <td>125000</td>\n",
       "      <td>5</td>\n",
       "      <td>gasoline</td>\n",
       "      <td>audi</td>\n",
       "      <td>yes</td>\n",
       "      <td>2016-03-24 00:00:00</td>\n",
       "      <td>0</td>\n",
       "      <td>66954</td>\n",
       "      <td>2016-04-07 01:46:50</td>\n",
       "    </tr>\n",
       "    <tr>\n",
       "      <td>2</td>\n",
       "      <td>2016-03-14 12:52:21</td>\n",
       "      <td>9800</td>\n",
       "      <td>suv</td>\n",
       "      <td>2004</td>\n",
       "      <td>auto</td>\n",
       "      <td>163</td>\n",
       "      <td>grand</td>\n",
       "      <td>125000</td>\n",
       "      <td>8</td>\n",
       "      <td>gasoline</td>\n",
       "      <td>jeep</td>\n",
       "      <td>NaN</td>\n",
       "      <td>2016-03-14 00:00:00</td>\n",
       "      <td>0</td>\n",
       "      <td>90480</td>\n",
       "      <td>2016-04-05 12:47:46</td>\n",
       "    </tr>\n",
       "    <tr>\n",
       "      <td>3</td>\n",
       "      <td>2016-03-17 16:54:04</td>\n",
       "      <td>1500</td>\n",
       "      <td>small</td>\n",
       "      <td>2001</td>\n",
       "      <td>manual</td>\n",
       "      <td>75</td>\n",
       "      <td>golf</td>\n",
       "      <td>150000</td>\n",
       "      <td>6</td>\n",
       "      <td>petrol</td>\n",
       "      <td>volkswagen</td>\n",
       "      <td>no</td>\n",
       "      <td>2016-03-17 00:00:00</td>\n",
       "      <td>0</td>\n",
       "      <td>91074</td>\n",
       "      <td>2016-03-17 17:40:17</td>\n",
       "    </tr>\n",
       "    <tr>\n",
       "      <td>4</td>\n",
       "      <td>2016-03-31 17:25:20</td>\n",
       "      <td>3600</td>\n",
       "      <td>small</td>\n",
       "      <td>2008</td>\n",
       "      <td>manual</td>\n",
       "      <td>69</td>\n",
       "      <td>fabia</td>\n",
       "      <td>90000</td>\n",
       "      <td>7</td>\n",
       "      <td>gasoline</td>\n",
       "      <td>skoda</td>\n",
       "      <td>no</td>\n",
       "      <td>2016-03-31 00:00:00</td>\n",
       "      <td>0</td>\n",
       "      <td>60437</td>\n",
       "      <td>2016-04-06 10:17:21</td>\n",
       "    </tr>\n",
       "  </tbody>\n",
       "</table>\n",
       "</div>"
      ],
      "text/plain": [
       "           DateCrawled  Price VehicleType  RegistrationYear Gearbox  Power  \\\n",
       "0  2016-03-24 11:52:17    480         NaN              1993  manual      0   \n",
       "1  2016-03-24 10:58:45  18300       coupe              2011  manual    190   \n",
       "2  2016-03-14 12:52:21   9800         suv              2004    auto    163   \n",
       "3  2016-03-17 16:54:04   1500       small              2001  manual     75   \n",
       "4  2016-03-31 17:25:20   3600       small              2008  manual     69   \n",
       "\n",
       "   Model  Kilometer  RegistrationMonth  FuelType       Brand NotRepaired  \\\n",
       "0   golf     150000                  0    petrol  volkswagen         NaN   \n",
       "1    NaN     125000                  5  gasoline        audi         yes   \n",
       "2  grand     125000                  8  gasoline        jeep         NaN   \n",
       "3   golf     150000                  6    petrol  volkswagen          no   \n",
       "4  fabia      90000                  7  gasoline       skoda          no   \n",
       "\n",
       "           DateCreated  NumberOfPictures  PostalCode             LastSeen  \n",
       "0  2016-03-24 00:00:00                 0       70435  2016-04-07 03:16:57  \n",
       "1  2016-03-24 00:00:00                 0       66954  2016-04-07 01:46:50  \n",
       "2  2016-03-14 00:00:00                 0       90480  2016-04-05 12:47:46  \n",
       "3  2016-03-17 00:00:00                 0       91074  2016-03-17 17:40:17  \n",
       "4  2016-03-31 00:00:00                 0       60437  2016-04-06 10:17:21  "
      ]
     },
     "execution_count": 3,
     "metadata": {},
     "output_type": "execute_result"
    }
   ],
   "source": [
    "data.head()"
   ]
  },
  {
   "cell_type": "code",
   "execution_count": 4,
   "metadata": {},
   "outputs": [
    {
     "name": "stdout",
     "output_type": "stream",
     "text": [
      "<class 'pandas.core.frame.DataFrame'>\n",
      "RangeIndex: 354369 entries, 0 to 354368\n",
      "Data columns (total 16 columns):\n",
      "DateCrawled          354369 non-null object\n",
      "Price                354369 non-null int64\n",
      "VehicleType          316879 non-null object\n",
      "RegistrationYear     354369 non-null int64\n",
      "Gearbox              334536 non-null object\n",
      "Power                354369 non-null int64\n",
      "Model                334664 non-null object\n",
      "Kilometer            354369 non-null int64\n",
      "RegistrationMonth    354369 non-null int64\n",
      "FuelType             321474 non-null object\n",
      "Brand                354369 non-null object\n",
      "NotRepaired          283215 non-null object\n",
      "DateCreated          354369 non-null object\n",
      "NumberOfPictures     354369 non-null int64\n",
      "PostalCode           354369 non-null int64\n",
      "LastSeen             354369 non-null object\n",
      "dtypes: int64(7), object(9)\n",
      "memory usage: 43.3+ MB\n"
     ]
    }
   ],
   "source": [
    "data.info()"
   ]
  },
  {
   "cell_type": "markdown",
   "metadata": {},
   "source": [
    "Перед нами большой пул исторических данных с объявлениями по продаже автомобилей\n",
    "\n",
    "Удалим столбцы с ненужной информацией:"
   ]
  },
  {
   "cell_type": "code",
   "execution_count": 5,
   "metadata": {},
   "outputs": [],
   "source": [
    "df = data.drop(['DateCrawled','PostalCode', 'LastSeen', 'NumberOfPictures'], axis=1)"
   ]
  },
  {
   "cell_type": "code",
   "execution_count": 6,
   "metadata": {},
   "outputs": [
    {
     "data": {
      "text/html": [
       "<div>\n",
       "<style scoped>\n",
       "    .dataframe tbody tr th:only-of-type {\n",
       "        vertical-align: middle;\n",
       "    }\n",
       "\n",
       "    .dataframe tbody tr th {\n",
       "        vertical-align: top;\n",
       "    }\n",
       "\n",
       "    .dataframe thead th {\n",
       "        text-align: right;\n",
       "    }\n",
       "</style>\n",
       "<table border=\"1\" class=\"dataframe\">\n",
       "  <thead>\n",
       "    <tr style=\"text-align: right;\">\n",
       "      <th></th>\n",
       "      <th>Price</th>\n",
       "      <th>VehicleType</th>\n",
       "      <th>RegistrationYear</th>\n",
       "      <th>Gearbox</th>\n",
       "      <th>Power</th>\n",
       "      <th>Model</th>\n",
       "      <th>Kilometer</th>\n",
       "      <th>RegistrationMonth</th>\n",
       "      <th>FuelType</th>\n",
       "      <th>Brand</th>\n",
       "      <th>NotRepaired</th>\n",
       "      <th>DateCreated</th>\n",
       "    </tr>\n",
       "  </thead>\n",
       "  <tbody>\n",
       "    <tr>\n",
       "      <td>0</td>\n",
       "      <td>480</td>\n",
       "      <td>NaN</td>\n",
       "      <td>1993</td>\n",
       "      <td>manual</td>\n",
       "      <td>0</td>\n",
       "      <td>golf</td>\n",
       "      <td>150000</td>\n",
       "      <td>0</td>\n",
       "      <td>petrol</td>\n",
       "      <td>volkswagen</td>\n",
       "      <td>NaN</td>\n",
       "      <td>2016-03-24 00:00:00</td>\n",
       "    </tr>\n",
       "    <tr>\n",
       "      <td>1</td>\n",
       "      <td>18300</td>\n",
       "      <td>coupe</td>\n",
       "      <td>2011</td>\n",
       "      <td>manual</td>\n",
       "      <td>190</td>\n",
       "      <td>NaN</td>\n",
       "      <td>125000</td>\n",
       "      <td>5</td>\n",
       "      <td>gasoline</td>\n",
       "      <td>audi</td>\n",
       "      <td>yes</td>\n",
       "      <td>2016-03-24 00:00:00</td>\n",
       "    </tr>\n",
       "    <tr>\n",
       "      <td>2</td>\n",
       "      <td>9800</td>\n",
       "      <td>suv</td>\n",
       "      <td>2004</td>\n",
       "      <td>auto</td>\n",
       "      <td>163</td>\n",
       "      <td>grand</td>\n",
       "      <td>125000</td>\n",
       "      <td>8</td>\n",
       "      <td>gasoline</td>\n",
       "      <td>jeep</td>\n",
       "      <td>NaN</td>\n",
       "      <td>2016-03-14 00:00:00</td>\n",
       "    </tr>\n",
       "    <tr>\n",
       "      <td>3</td>\n",
       "      <td>1500</td>\n",
       "      <td>small</td>\n",
       "      <td>2001</td>\n",
       "      <td>manual</td>\n",
       "      <td>75</td>\n",
       "      <td>golf</td>\n",
       "      <td>150000</td>\n",
       "      <td>6</td>\n",
       "      <td>petrol</td>\n",
       "      <td>volkswagen</td>\n",
       "      <td>no</td>\n",
       "      <td>2016-03-17 00:00:00</td>\n",
       "    </tr>\n",
       "    <tr>\n",
       "      <td>4</td>\n",
       "      <td>3600</td>\n",
       "      <td>small</td>\n",
       "      <td>2008</td>\n",
       "      <td>manual</td>\n",
       "      <td>69</td>\n",
       "      <td>fabia</td>\n",
       "      <td>90000</td>\n",
       "      <td>7</td>\n",
       "      <td>gasoline</td>\n",
       "      <td>skoda</td>\n",
       "      <td>no</td>\n",
       "      <td>2016-03-31 00:00:00</td>\n",
       "    </tr>\n",
       "  </tbody>\n",
       "</table>\n",
       "</div>"
      ],
      "text/plain": [
       "   Price VehicleType  RegistrationYear Gearbox  Power  Model  Kilometer  \\\n",
       "0    480         NaN              1993  manual      0   golf     150000   \n",
       "1  18300       coupe              2011  manual    190    NaN     125000   \n",
       "2   9800         suv              2004    auto    163  grand     125000   \n",
       "3   1500       small              2001  manual     75   golf     150000   \n",
       "4   3600       small              2008  manual     69  fabia      90000   \n",
       "\n",
       "   RegistrationMonth  FuelType       Brand NotRepaired          DateCreated  \n",
       "0                  0    petrol  volkswagen         NaN  2016-03-24 00:00:00  \n",
       "1                  5  gasoline        audi         yes  2016-03-24 00:00:00  \n",
       "2                  8  gasoline        jeep         NaN  2016-03-14 00:00:00  \n",
       "3                  6    petrol  volkswagen          no  2016-03-17 00:00:00  \n",
       "4                  7  gasoline       skoda          no  2016-03-31 00:00:00  "
      ]
     },
     "execution_count": 6,
     "metadata": {},
     "output_type": "execute_result"
    }
   ],
   "source": [
    "df.head()"
   ]
  },
  {
   "cell_type": "markdown",
   "metadata": {},
   "source": [
    "Пропуски в данных:"
   ]
  },
  {
   "cell_type": "code",
   "execution_count": 7,
   "metadata": {},
   "outputs": [
    {
     "data": {
      "text/plain": [
       "Price                    0\n",
       "VehicleType          37490\n",
       "RegistrationYear         0\n",
       "Gearbox              19833\n",
       "Power                    0\n",
       "Model                19705\n",
       "Kilometer                0\n",
       "RegistrationMonth        0\n",
       "FuelType             32895\n",
       "Brand                    0\n",
       "NotRepaired          71154\n",
       "DateCreated              0\n",
       "dtype: int64"
      ]
     },
     "execution_count": 7,
     "metadata": {},
     "output_type": "execute_result"
    }
   ],
   "source": [
    "df.isnull().sum()"
   ]
  },
  {
   "cell_type": "markdown",
   "metadata": {},
   "source": [
    "#### Взглянем на разброс данных с точки зрения возможных выбросов:"
   ]
  },
  {
   "cell_type": "code",
   "execution_count": 8,
   "metadata": {},
   "outputs": [],
   "source": [
    "numeric = ['Price', 'RegistrationYear', 'Power', 'Kilometer', 'RegistrationMonth']"
   ]
  },
  {
   "cell_type": "code",
   "execution_count": 9,
   "metadata": {
    "scrolled": true
   },
   "outputs": [
    {
     "data": {
      "image/png": "[encoded data removed]",
      "text/plain": [
       "<Figure size 432x288 with 1 Axes>"
      ]
     },
     "metadata": {
      "needs_background": "light"
     },
     "output_type": "display_data"
    },
    {
     "data": {
      "image/png": "[encoded data removed]",
      "text/plain": [
       "<Figure size 432x288 with 1 Axes>"
      ]
     },
     "metadata": {
      "needs_background": "light"
     },
     "output_type": "display_data"
    },
    {
     "data": {
      "image/png": "[encoded data removed]",
      "text/plain": [
       "<Figure size 432x288 with 1 Axes>"
      ]
     },
     "metadata": {
      "needs_background": "light"
     },
     "output_type": "display_data"
    },
    {
     "data": {
      "image/png": "[encoded data removed]",
      "text/plain": [
       "<Figure size 432x288 with 1 Axes>"
      ]
     },
     "metadata": {
      "needs_background": "light"
     },
     "output_type": "display_data"
    },
    {
     "data": {
      "image/png": "[encoded data removed]",
      "text/plain": [
       "<Figure size 432x288 with 1 Axes>"
      ]
     },
     "metadata": {
      "needs_background": "light"
     },
     "output_type": "display_data"
    }
   ],
   "source": [
    "for i in numeric:\n",
    "    df.boxplot(i)\n",
    "    plt.show()"
   ]
  },
  {
   "cell_type": "markdown",
   "metadata": {},
   "source": [
    "Наблюдения:\n",
    "- год регистрации - боксплот \"схлопнулся\", хотя на гистограмме все значения на пике 2000\n",
    "- мощность - аналогично, много данных с \"0\" и с выбросами \n",
    "- пробег - на первый взгляд все нормально\n",
    "- цена - много \"0\", есть хвост после 14к евро"
   ]
  },
  {
   "cell_type": "markdown",
   "metadata": {},
   "source": [
    "### Год регистрации\n",
    "Взглянем, какие данные есть в столбце:"
   ]
  },
  {
   "cell_type": "code",
   "execution_count": 9,
   "metadata": {
    "scrolled": true
   },
   "outputs": [
    {
     "data": {
      "text/plain": [
       "70     1000\n",
       "118    1001\n",
       "133    1039\n",
       "39     1111\n",
       "102    1200\n",
       "       ... \n",
       "91     9000\n",
       "143    9229\n",
       "119    9450\n",
       "134    9996\n",
       "67     9999\n",
       "Length: 151, dtype: int64"
      ]
     },
     "execution_count": 9,
     "metadata": {},
     "output_type": "execute_result"
    }
   ],
   "source": [
    "pd.Series(df['RegistrationYear'].unique()).sort_values()"
   ]
  },
  {
   "cell_type": "markdown",
   "metadata": {},
   "source": [
    "Большое количество выбросов\n",
    "\n",
    "**Возьмем в дальнейшую работы авто с годом регистрации в диапазоне 1920-2016:**"
   ]
  },
  {
   "cell_type": "code",
   "execution_count": 10,
   "metadata": {},
   "outputs": [],
   "source": [
    "df1 = df.query('1920 < RegistrationYear <= 2016').copy()"
   ]
  },
  {
   "cell_type": "markdown",
   "metadata": {},
   "source": [
    "#### Рассчитаем \"вораст\" автомобилей в месяцах:"
   ]
  },
  {
   "cell_type": "code",
   "execution_count": 11,
   "metadata": {},
   "outputs": [],
   "source": [
    "df1['year'] = pd.DatetimeIndex(df1['DateCreated']).year # определим год размещения объявления\n",
    "df1['month'] = pd.DatetimeIndex(df1['DateCreated']).month # и месяц\n",
    "df1['car_age'] = (df1['year'] - df1['RegistrationYear'])*12 # посчитаем, сколько автомобилю месяцев\n",
    "df1 = df1.drop(['RegistrationMonth', 'DateCreated', 'year', 'month'], axis=1) # лишнее можно удалить (год авто пока оставим)"
   ]
  },
  {
   "cell_type": "code",
   "execution_count": 12,
   "metadata": {},
   "outputs": [
    {
     "data": {
      "text/html": [
       "<div>\n",
       "<style scoped>\n",
       "    .dataframe tbody tr th:only-of-type {\n",
       "        vertical-align: middle;\n",
       "    }\n",
       "\n",
       "    .dataframe tbody tr th {\n",
       "        vertical-align: top;\n",
       "    }\n",
       "\n",
       "    .dataframe thead th {\n",
       "        text-align: right;\n",
       "    }\n",
       "</style>\n",
       "<table border=\"1\" class=\"dataframe\">\n",
       "  <thead>\n",
       "    <tr style=\"text-align: right;\">\n",
       "      <th></th>\n",
       "      <th>Price</th>\n",
       "      <th>VehicleType</th>\n",
       "      <th>RegistrationYear</th>\n",
       "      <th>Gearbox</th>\n",
       "      <th>Power</th>\n",
       "      <th>Model</th>\n",
       "      <th>Kilometer</th>\n",
       "      <th>FuelType</th>\n",
       "      <th>Brand</th>\n",
       "      <th>NotRepaired</th>\n",
       "      <th>car_age</th>\n",
       "    </tr>\n",
       "  </thead>\n",
       "  <tbody>\n",
       "    <tr>\n",
       "      <td>0</td>\n",
       "      <td>480</td>\n",
       "      <td>NaN</td>\n",
       "      <td>1993</td>\n",
       "      <td>manual</td>\n",
       "      <td>0</td>\n",
       "      <td>golf</td>\n",
       "      <td>150000</td>\n",
       "      <td>petrol</td>\n",
       "      <td>volkswagen</td>\n",
       "      <td>NaN</td>\n",
       "      <td>276</td>\n",
       "    </tr>\n",
       "    <tr>\n",
       "      <td>1</td>\n",
       "      <td>18300</td>\n",
       "      <td>coupe</td>\n",
       "      <td>2011</td>\n",
       "      <td>manual</td>\n",
       "      <td>190</td>\n",
       "      <td>NaN</td>\n",
       "      <td>125000</td>\n",
       "      <td>gasoline</td>\n",
       "      <td>audi</td>\n",
       "      <td>yes</td>\n",
       "      <td>60</td>\n",
       "    </tr>\n",
       "    <tr>\n",
       "      <td>2</td>\n",
       "      <td>9800</td>\n",
       "      <td>suv</td>\n",
       "      <td>2004</td>\n",
       "      <td>auto</td>\n",
       "      <td>163</td>\n",
       "      <td>grand</td>\n",
       "      <td>125000</td>\n",
       "      <td>gasoline</td>\n",
       "      <td>jeep</td>\n",
       "      <td>NaN</td>\n",
       "      <td>144</td>\n",
       "    </tr>\n",
       "  </tbody>\n",
       "</table>\n",
       "</div>"
      ],
      "text/plain": [
       "   Price VehicleType  RegistrationYear Gearbox  Power  Model  Kilometer  \\\n",
       "0    480         NaN              1993  manual      0   golf     150000   \n",
       "1  18300       coupe              2011  manual    190    NaN     125000   \n",
       "2   9800         suv              2004    auto    163  grand     125000   \n",
       "\n",
       "   FuelType       Brand NotRepaired  car_age  \n",
       "0    petrol  volkswagen         NaN      276  \n",
       "1  gasoline        audi         yes       60  \n",
       "2  gasoline        jeep         NaN      144  "
      ]
     },
     "execution_count": 12,
     "metadata": {},
     "output_type": "execute_result"
    }
   ],
   "source": [
    "df1.head(3)"
   ]
  },
  {
   "cell_type": "markdown",
   "metadata": {},
   "source": [
    "### Мощность\n",
    "\n",
    "В первую очередь необходимо решить проблему с большим количеством нулей в этом признаке.\n",
    "\n",
    "**Сделаем сводную таблицу с мощностями моделей каждого бренда авто по годам:**"
   ]
  },
  {
   "cell_type": "code",
   "execution_count": 13,
   "metadata": {},
   "outputs": [],
   "source": [
    "power_pivot = df1.pivot_table(index=['Brand', 'Model', 'RegistrationYear'], values='Power', aggfunc='mean')"
   ]
  },
  {
   "cell_type": "markdown",
   "metadata": {},
   "source": [
    "**Заменим нули в мощностях на соответвующие средние значения из сводной таблицы:**"
   ]
  },
  {
   "cell_type": "code",
   "execution_count": 14,
   "metadata": {},
   "outputs": [],
   "source": [
    "def fill_power(row, pivot):\n",
    "    if row['Power'] == 0:\n",
    "        tuple_index = tuple([row['Brand'], row['Model'], row['RegistrationYear']])\n",
    "        if tuple_index in pivot.index:\n",
    "            new_value = pivot.loc[tuple_index]['Power']\n",
    "            return int(new_value)\n",
    "    \n",
    "    else:\n",
    "        old_value = row['Power']\n",
    "        return int(old_value)"
   ]
  },
  {
   "cell_type": "code",
   "execution_count": 15,
   "metadata": {},
   "outputs": [],
   "source": [
    "df1['Power'] = df1.apply(fill_power, axis=1, args=[power_pivot])"
   ]
  },
  {
   "cell_type": "markdown",
   "metadata": {},
   "source": [
    "Проанализируем данные, в которых заполнить нули не удалось:"
   ]
  },
  {
   "cell_type": "code",
   "execution_count": 16,
   "metadata": {},
   "outputs": [
    {
     "data": {
      "text/plain": [
       "Price                  0\n",
       "VehicleType         2901\n",
       "RegistrationYear       0\n",
       "Gearbox             2815\n",
       "Power               5505\n",
       "Model               5505\n",
       "Kilometer              0\n",
       "FuelType            3039\n",
       "Brand                  0\n",
       "NotRepaired         3828\n",
       "car_age                0\n",
       "dtype: int64"
      ]
     },
     "execution_count": 16,
     "metadata": {},
     "output_type": "execute_result"
    }
   ],
   "source": [
    "df1[df1['Power'].isnull()].isnull().sum()"
   ]
  },
  {
   "cell_type": "markdown",
   "metadata": {},
   "source": [
    "Полностью отсутствуют данные о названии модели, большое количество пропусков в типе кузова, коробке передач и т.д.\n",
    "\n",
    "В связи с чем, **эти объекты лучше удалить, а не восстанавливать**\n",
    "\n",
    "**Для дальнейшей работы сделаем срез от 40 до 800 л.с.** (верхний порог подобрал по авто.ру, хотя формула Q3+1.5*IQR давала 251 лс) "
   ]
  },
  {
   "cell_type": "code",
   "execution_count": 17,
   "metadata": {},
   "outputs": [],
   "source": [
    "df2 = df1.query('40 < Power < 800')"
   ]
  },
  {
   "cell_type": "markdown",
   "metadata": {},
   "source": [
    "### Цена\n",
    "Имеем немалое количество машин с очень низкими ценами и с нулями. Хоть боксплот нижним \"усом\" и упирается в 0, отсечение цен по нижней планке мы все-таки сделаем\n",
    "\n",
    "Взглянем на распределение цен в интервале 0-1000 евро:"
   ]
  },
  {
   "cell_type": "code",
   "execution_count": 18,
   "metadata": {},
   "outputs": [
    {
     "data": {
      "image/png": "[encoded data removed]",
      "text/plain": [
       "<Figure size 432x288 with 1 Axes>"
      ]
     },
     "metadata": {
      "needs_background": "light"
     },
     "output_type": "display_data"
    }
   ],
   "source": [
    "df2['Price'].hist(bins=50, range=(0,1000))\n",
    "plt.show()"
   ]
  },
  {
   "cell_type": "markdown",
   "metadata": {},
   "source": [
    "Сложно представить автомобиль дешевле 200 евро (если, конечно, он не \"убит\"), **сделаем отсечку по 200 евро** (можно было и больше, но не хочется терять большое количество данных)\n",
    "\n",
    "Что насчет верхней отсечки? Общий боксплот указывает на выбросы свыше 16000 евро, а формула Q1-1.5*IQR дает значение 15400:"
   ]
  },
  {
   "cell_type": "code",
   "execution_count": 19,
   "metadata": {},
   "outputs": [
    {
     "data": {
      "image/png": "[encoded data removed]",
      "text/plain": [
       "<Figure size 432x288 with 1 Axes>"
      ]
     },
     "metadata": {
      "needs_background": "light"
     },
     "output_type": "display_data"
    }
   ],
   "source": [
    "df2.query('Price > 200').boxplot('Price')\n",
    "plt.show()"
   ]
  },
  {
   "cell_type": "markdown",
   "metadata": {},
   "source": [
    "**Не совсем правильно делать выводы по всем автомобилям сразу. Так как есть более дорогой и менее выпускаемый класс авто, который и может на общей картине превращаться в \"выбросы\"**\n",
    "\n",
    "Выделим топ 10 дорогих брендов и построем боксплот для них:"
   ]
  },
  {
   "cell_type": "code",
   "execution_count": 20,
   "metadata": {},
   "outputs": [
    {
     "data": {
      "text/html": [
       "<div>\n",
       "<style scoped>\n",
       "    .dataframe tbody tr th:only-of-type {\n",
       "        vertical-align: middle;\n",
       "    }\n",
       "\n",
       "    .dataframe tbody tr th {\n",
       "        vertical-align: top;\n",
       "    }\n",
       "\n",
       "    .dataframe thead th {\n",
       "        text-align: right;\n",
       "    }\n",
       "</style>\n",
       "<table border=\"1\" class=\"dataframe\">\n",
       "  <thead>\n",
       "    <tr style=\"text-align: right;\">\n",
       "      <th></th>\n",
       "      <th>Price</th>\n",
       "    </tr>\n",
       "    <tr>\n",
       "      <th>Brand</th>\n",
       "      <th></th>\n",
       "    </tr>\n",
       "  </thead>\n",
       "  <tbody>\n",
       "    <tr>\n",
       "      <td>porsche</td>\n",
       "      <td>11638.934593</td>\n",
       "    </tr>\n",
       "    <tr>\n",
       "      <td>mini</td>\n",
       "      <td>9150.337251</td>\n",
       "    </tr>\n",
       "    <tr>\n",
       "      <td>land_rover</td>\n",
       "      <td>8590.899807</td>\n",
       "    </tr>\n",
       "    <tr>\n",
       "      <td>sonstige_autos</td>\n",
       "      <td>7598.667464</td>\n",
       "    </tr>\n",
       "    <tr>\n",
       "      <td>jeep</td>\n",
       "      <td>7217.918495</td>\n",
       "    </tr>\n",
       "    <tr>\n",
       "      <td>jaguar</td>\n",
       "      <td>6820.575569</td>\n",
       "    </tr>\n",
       "    <tr>\n",
       "      <td>audi</td>\n",
       "      <td>6356.040493</td>\n",
       "    </tr>\n",
       "    <tr>\n",
       "      <td>bmw</td>\n",
       "      <td>6276.908293</td>\n",
       "    </tr>\n",
       "    <tr>\n",
       "      <td>mercedes_benz</td>\n",
       "      <td>6000.206663</td>\n",
       "    </tr>\n",
       "    <tr>\n",
       "      <td>skoda</td>\n",
       "      <td>5998.713208</td>\n",
       "    </tr>\n",
       "  </tbody>\n",
       "</table>\n",
       "</div>"
      ],
      "text/plain": [
       "                       Price\n",
       "Brand                       \n",
       "porsche         11638.934593\n",
       "mini             9150.337251\n",
       "land_rover       8590.899807\n",
       "sonstige_autos   7598.667464\n",
       "jeep             7217.918495\n",
       "jaguar           6820.575569\n",
       "audi             6356.040493\n",
       "bmw              6276.908293\n",
       "mercedes_benz    6000.206663\n",
       "skoda            5998.713208"
      ]
     },
     "execution_count": 20,
     "metadata": {},
     "output_type": "execute_result"
    }
   ],
   "source": [
    "top10 = df2.pivot_table(index='Brand', values='Price').sort_values('Price', ascending=False).head(10)\n",
    "top10"
   ]
  },
  {
   "cell_type": "code",
   "execution_count": 21,
   "metadata": {
    "scrolled": false
   },
   "outputs": [
    {
     "data": {
      "image/png": "[encoded data removed]",
      "text/plain": [
       "<Figure size 432x288 with 1 Axes>"
      ]
     },
     "metadata": {
      "needs_background": "light"
     },
     "output_type": "display_data"
    }
   ],
   "source": [
    "df2.query('Brand in @top10.index').boxplot('Price')\n",
    "plt.show()"
   ]
  },
  {
   "cell_type": "markdown",
   "metadata": {},
   "source": [
    "**Вот тут уже выбросов нет.**\n",
    "\n",
    "Кроме того, стоимость 20 000 сама по себе не похожа на выброс, поэтому **отсекать данные по верхнему значению мы не будем**\n",
    "\n",
    "Взглянем на измнение **средней стоимости автомобилей по годам в связке с количеством их выпуска (регистраций):**"
   ]
  },
  {
   "cell_type": "code",
   "execution_count": 22,
   "metadata": {},
   "outputs": [
    {
     "data": {
      "image/png": "[encoded data removed]",
      "text/plain": [
       "<Figure size 432x288 with 1 Axes>"
      ]
     },
     "metadata": {
      "needs_background": "light"
     },
     "output_type": "display_data"
    }
   ],
   "source": [
    "plt.plot(df2.pivot_table(index='RegistrationYear', values='Price'), label='Средняя цена')\n",
    "plt.plot(df2.pivot_table(index='RegistrationYear', values='Price', aggfunc='count'), label='Кол-во регистарций авто')\n",
    "plt.legend()\n",
    "plt.show()"
   ]
  },
  {
   "cell_type": "markdown",
   "metadata": {},
   "source": [
    "Интересная карнтина средней цены (особенно в отрыве от количества загружаемых объявлений), вероятно, что эти дорогие автомобили являются раритетными\n",
    "\n",
    "**Выделим автомобили стоимостью больше 200 евро**"
   ]
  },
  {
   "cell_type": "code",
   "execution_count": 23,
   "metadata": {},
   "outputs": [],
   "source": [
    "df3 = df2.query('Price > 200')"
   ]
  },
  {
   "cell_type": "markdown",
   "metadata": {},
   "source": [
    "### Тип кузова/коробки передач/топлива\n",
    "\n",
    "Эти признаки являются категориальными, заполним пропуски в них на самые популярные для соответсвующих моделей по годам"
   ]
  },
  {
   "cell_type": "code",
   "execution_count": 24,
   "metadata": {},
   "outputs": [],
   "source": [
    "def pivot_tab(columns):\n",
    "    return df3.pivot_table(index=['Brand', 'Model', 'RegistrationYear'], columns=columns, aggfunc='size')\n",
    " \n",
    "def fill_value(row, series, pivot): \n",
    "    if row[series] == 'unknown':\n",
    "        tuple_index = tuple([row['Brand'], row['Model'], row['RegistrationYear']])\n",
    "        if tuple_index in pivot.index:\n",
    "            return pivot.loc[tuple_index].idxmax()\n",
    "    else:\n",
    "        return row[series]"
   ]
  },
  {
   "cell_type": "code",
   "execution_count": 25,
   "metadata": {},
   "outputs": [],
   "source": [
    "pivot_VehicleType = pivot_tab('VehicleType') # делаем сводные таблицы\n",
    "pivot_Gearbox = pivot_tab('Gearbox')\n",
    "pivot_FuelType = pivot_tab('FuelType')"
   ]
  },
  {
   "cell_type": "code",
   "execution_count": 26,
   "metadata": {},
   "outputs": [],
   "source": [
    "warnings.filterwarnings(\"ignore\")\n",
    "df3['VehicleType'] = df3['VehicleType'].fillna('unknown') # заменяем пропуски на 'unknown' для работы с ними\n",
    "df3['Gearbox'] = df3['Gearbox'].fillna('unknown')\n",
    "df3['FuelType'] = df3['FuelType'].fillna('unknown')"
   ]
  },
  {
   "cell_type": "code",
   "execution_count": 27,
   "metadata": {},
   "outputs": [],
   "source": [
    "df3['VehicleType'] = df3.apply(fill_value, axis=1, args=['VehicleType', pivot_VehicleType])\n",
    "df3['Gearbox'] = df3.apply(fill_value, axis=1, args=['Gearbox', pivot_Gearbox])\n",
    "df3['FuelType'] = df3.apply(fill_value, axis=1, args=['FuelType', pivot_FuelType])"
   ]
  },
  {
   "cell_type": "markdown",
   "metadata": {},
   "source": [
    "Посмотрим, сколько пропусков удалось заполнить:"
   ]
  },
  {
   "cell_type": "code",
   "execution_count": 28,
   "metadata": {},
   "outputs": [
    {
     "data": {
      "text/plain": [
       "Price                   0\n",
       "VehicleType          4510\n",
       "RegistrationYear        0\n",
       "Gearbox               640\n",
       "Power                   0\n",
       "Model               10437\n",
       "Kilometer               0\n",
       "FuelType             2548\n",
       "Brand                   0\n",
       "NotRepaired         51992\n",
       "car_age                 0\n",
       "dtype: int64"
      ]
     },
     "execution_count": 28,
     "metadata": {},
     "output_type": "execute_result"
    }
   ],
   "source": [
    "df3.isnull().sum()"
   ]
  },
  {
   "cell_type": "markdown",
   "metadata": {},
   "source": [
    "**Не идеально, но уже лучше**\n",
    "\n",
    "### Модель и ремонт\n",
    "Пропуски в наименовании моделей авто и в ремонте заменим на 'unknown'"
   ]
  },
  {
   "cell_type": "code",
   "execution_count": 29,
   "metadata": {},
   "outputs": [],
   "source": [
    "df3['Model'] = df3['Model'].fillna('unknown')\n",
    "df3['NotRepaired'] = df3['NotRepaired'].fillna('unknown')\n",
    "\n",
    "df3 = df3.dropna() # удалим оставшивеся пропуски\n",
    "df3['Power'] = df3['Power'].astype('int')\n",
    "df3 = df3.drop('RegistrationYear', axis=1)"
   ]
  },
  {
   "cell_type": "markdown",
   "metadata": {},
   "source": [
    "### Корреляция признаков"
   ]
  },
  {
   "cell_type": "code",
   "execution_count": 30,
   "metadata": {},
   "outputs": [
    {
     "data": {
      "image/png": "[encoded data removed]",
      "text/plain": [
       "<Figure size 720x576 with 2 Axes>"
      ]
     },
     "metadata": {
      "needs_background": "light"
     },
     "output_type": "display_data"
    }
   ],
   "source": [
    "plt.figure(figsize=(10,8))\n",
    "sns.heatmap(df3.corr(), cmap='RdYlGn', center=0, annot=True)\n",
    "plt.title('Корреляция признаков', fontsize=22)\n",
    "plt.show()"
   ]
  },
  {
   "cell_type": "markdown",
   "metadata": {},
   "source": [
    "Максимальная корреляция 0,51(-0,51) цены с мощностью и возрастом авто.\n",
    "\n",
    "**Приемлемые и логичные показатели**, идем дальше\n",
    "\n",
    "### Кодирование категоральных признаков\n",
    "Для последующих работ сделаем три датасета:\n",
    "- исходный (без кодировки)\n",
    "- с кодировкой ОЕ\n",
    "- с кодировкой OHE\n"
   ]
  },
  {
   "cell_type": "code",
   "execution_count": 31,
   "metadata": {},
   "outputs": [],
   "source": [
    "cat_columns = ['VehicleType', 'Gearbox', 'Model', 'FuelType', 'Brand', 'NotRepaired']\n",
    "\n",
    "# OE\n",
    "df3_OE = df3.copy()\n",
    "encoder = OrdinalEncoder()\n",
    "encoder.fit(df3[cat_columns])\n",
    "df3_OE[cat_columns] = encoder.transform(df3[cat_columns])\n",
    "\n",
    "# OHE\n",
    "df3_OHE = pd.get_dummies(df3, drop_first=True)"
   ]
  },
  {
   "cell_type": "markdown",
   "metadata": {},
   "source": [
    "### Разделим данные на выборки"
   ]
  },
  {
   "cell_type": "code",
   "execution_count": 32,
   "metadata": {},
   "outputs": [],
   "source": [
    "# Original\n",
    "target_orig = df3['Price']\n",
    "features_orig = df3.drop(['Price'], axis=1)\n",
    "\n",
    "features_train_orig, features_valid_orig, target_train_orig, target_valid_orig = train_test_split(\n",
    "    features_orig, target_orig, test_size=0.25, random_state=123455)"
   ]
  },
  {
   "cell_type": "code",
   "execution_count": 33,
   "metadata": {},
   "outputs": [],
   "source": [
    "# OE\n",
    "target_OE = df3_OE['Price']\n",
    "features_OE = df3_OE.drop(['Price'], axis=1)\n",
    "\n",
    "features_train_OE, features_valid_OE, target_train_OE, target_valid_OE = train_test_split(\n",
    "    features_OE, target_OE, test_size=0.25, random_state=123455)"
   ]
  },
  {
   "cell_type": "code",
   "execution_count": 34,
   "metadata": {},
   "outputs": [],
   "source": [
    "# OHE\n",
    "target_OHE = df3_OHE['Price']\n",
    "features_OHE = df3_OHE.drop(['Price'], axis=1)\n",
    "\n",
    "features_train_OHE, features_valid_OHE, target_train_OHE, target_valid_OHE = train_test_split(\n",
    "    features_OHE, target_OHE, test_size=0.25, random_state=123455)"
   ]
  },
  {
   "cell_type": "code",
   "execution_count": 35,
   "metadata": {},
   "outputs": [
    {
     "data": {
      "text/html": [
       "<div>\n",
       "<style scoped>\n",
       "    .dataframe tbody tr th:only-of-type {\n",
       "        vertical-align: middle;\n",
       "    }\n",
       "\n",
       "    .dataframe tbody tr th {\n",
       "        vertical-align: top;\n",
       "    }\n",
       "\n",
       "    .dataframe thead th {\n",
       "        text-align: right;\n",
       "    }\n",
       "</style>\n",
       "<table border=\"1\" class=\"dataframe\">\n",
       "  <thead>\n",
       "    <tr style=\"text-align: right;\">\n",
       "      <th></th>\n",
       "      <th>VehicleType</th>\n",
       "      <th>Gearbox</th>\n",
       "      <th>Power</th>\n",
       "      <th>Model</th>\n",
       "      <th>Kilometer</th>\n",
       "      <th>FuelType</th>\n",
       "      <th>Brand</th>\n",
       "      <th>NotRepaired</th>\n",
       "      <th>car_age</th>\n",
       "    </tr>\n",
       "  </thead>\n",
       "  <tbody>\n",
       "    <tr>\n",
       "      <td>353380</td>\n",
       "      <td>sedan</td>\n",
       "      <td>manual</td>\n",
       "      <td>150</td>\n",
       "      <td>3er</td>\n",
       "      <td>150000</td>\n",
       "      <td>petrol</td>\n",
       "      <td>bmw</td>\n",
       "      <td>no</td>\n",
       "      <td>276</td>\n",
       "    </tr>\n",
       "  </tbody>\n",
       "</table>\n",
       "</div>"
      ],
      "text/plain": [
       "       VehicleType Gearbox  Power Model  Kilometer FuelType Brand NotRepaired  \\\n",
       "353380       sedan  manual    150   3er     150000   petrol   bmw          no   \n",
       "\n",
       "        car_age  \n",
       "353380      276  "
      ]
     },
     "execution_count": 35,
     "metadata": {},
     "output_type": "execute_result"
    }
   ],
   "source": [
    "features_train_orig.head(1)"
   ]
  },
  {
   "cell_type": "markdown",
   "metadata": {},
   "source": [
    "### Масштабирование"
   ]
  },
  {
   "cell_type": "code",
   "execution_count": 36,
   "metadata": {},
   "outputs": [],
   "source": [
    "numeric = ['Power', 'Kilometer', 'car_age']\n",
    "numeric_OE = ['VehicleType', 'Gearbox', 'Power', 'Model', 'Kilometer', 'FuelType', 'Brand', 'NotRepaired', 'car_age']\n",
    "\n",
    "def scaler_df(numeric, features_train, features_valid):\n",
    "    scaler = StandardScaler()\n",
    "    scaler.fit(features_train[numeric])\n",
    "    features_train[numeric] = scaler.transform(features_train[numeric])\n",
    "    features_valid[numeric] = scaler.transform(features_valid[numeric])\n",
    "    return features_train, features_valid\n",
    "\n",
    "features_train_orig, features_valid_orig = scaler_df(numeric, features_train_orig, features_valid_orig)\n",
    "features_train_OE, features_valid_OE = scaler_df(numeric_OE, features_train_OE, features_valid_OE)\n",
    "features_train_OHE, features_valid_OHE = scaler_df(numeric, features_train_OHE, features_valid_OHE)"
   ]
  },
  {
   "cell_type": "markdown",
   "metadata": {},
   "source": [
    "# 2. Обучение моделей\n",
    "\n",
    "Введем функции расчета RMSE и процесса обучения/предсказаний моделей:"
   ]
  },
  {
   "cell_type": "code",
   "execution_count": 37,
   "metadata": {},
   "outputs": [],
   "source": [
    "def rmse(target_valid, predicted):\n",
    "    return (mean_squared_error(target_valid, predicted)**0.5).round(2)\n",
    "\n",
    "def rmse_gridsearch(score_best):\n",
    "    return (((score_best)*(-1))**0.5).round(2)\n",
    "\n",
    "def fit_predict(model, features_cat, features_train, target_train, features_valid):\n",
    "    if features_cat != None:\n",
    "        model.fit(features_train, target_train, cat_features=features_cat, verbose=10)\n",
    "        predicted = model.predict(features_valid)\n",
    "    else:\n",
    "        model.fit(features_train, target_train)\n",
    "        predicted = model.predict(features_valid)\n",
    "    return predicted"
   ]
  },
  {
   "cell_type": "markdown",
   "metadata": {},
   "source": [
    "### Для начала:\n",
    "- создадим модели\n",
    "- обучим их с дефолтными параметрами на датасетах:\n",
    "    - без кодировки категориальных данных\n",
    "    - с кодировкой ОНЕ\n",
    "    - с кодировкой ОЕ\n",
    "- сделаем предсказания и оценим RMSE"
   ]
  },
  {
   "cell_type": "code",
   "execution_count": 38,
   "metadata": {},
   "outputs": [],
   "source": [
    "model_Cat = CatBoostRegressor(random_state=12345)\n",
    "model_LG = lgb.LGBMRegressor(random_state=12345)\n",
    "model_XGB = xgb.XGBRegressor(random_state=12345)\n",
    "model_RF = RandomForestRegressor(random_state=12345)\n",
    "model_LR = LinearRegression()"
   ]
  },
  {
   "cell_type": "code",
   "execution_count": 39,
   "metadata": {},
   "outputs": [],
   "source": [
    "cat_features = ['VehicleType', 'Gearbox', 'Model', 'FuelType', 'Brand', 'NotRepaired']"
   ]
  },
  {
   "cell_type": "code",
   "execution_count": null,
   "metadata": {},
   "outputs": [],
   "source": [
    "# CatBoost\n",
    "predicted_cat_orig = fit_predict(model_Cat, cat_features, features_train_orig, target_train_orig, features_valid_orig)\n",
    "predicted_cat_OHE = fit_predict(model_Cat, None, features_train_OHE, target_train_OHE, features_valid_OHE)\n",
    "predicted_cat_OE = fit_predict(model_Cat, None, features_train_OE, target_train_OE, features_valid_OE)"
   ]
  },
  {
   "cell_type": "code",
   "execution_count": 41,
   "metadata": {},
   "outputs": [],
   "source": [
    "# LGBM\n",
    "predicted_LG_OHE = fit_predict(model_LG, None, features_train_OHE, target_train_OHE, features_valid_OHE)\n",
    "predicted_LG_OE = fit_predict(model_LG, None, features_train_OE, target_train_OE, features_valid_OE)\n",
    "\n",
    "# RANDOM FOREST\n",
    "predicted_RF_OHE = fit_predict(model_RF, None, features_train_OHE, target_train_OHE, features_valid_OHE)\n",
    "predicted_RF_OE = fit_predict(model_RF, None, features_train_OE, target_train_OE, features_valid_OE)\n",
    "\n",
    "# LR\n",
    "predicted_LR_OHE = fit_predict(model_LR, None, features_train_OHE, target_train_OHE, features_valid_OHE)\n",
    "predicted_LR_OE = fit_predict(model_LR, None, features_train_OE, target_train_OE, features_valid_OE)"
   ]
  },
  {
   "cell_type": "markdown",
   "metadata": {},
   "source": [
    "Результаты:"
   ]
  },
  {
   "cell_type": "code",
   "execution_count": 42,
   "metadata": {},
   "outputs": [
    {
     "name": "stdout",
     "output_type": "stream",
     "text": [
      "Cat_Orig 1627.98\n",
      "Cat_OHE  1654.67\n",
      "Cat_OE   1657.33\n",
      "\n",
      "LG_OHE  1649.65\n",
      "LG_OE   1664.73\n",
      "\n",
      "RF_OHE  1581.01\n",
      "RF_OE   1604.4\n",
      "\n",
      "LR_OHE  674915841748.18\n",
      "LR_OE   2887.92\n"
     ]
    }
   ],
   "source": [
    "print('Cat_Orig', rmse(target_valid_orig, predicted_cat_orig))\n",
    "print('Cat_OHE ', rmse(target_valid_OHE, predicted_cat_OHE))\n",
    "print('Cat_OE  ', rmse(target_valid_OE, predicted_cat_OE))\n",
    "print()\n",
    "print('LG_OHE ', rmse(target_valid_OHE, predicted_LG_OHE))\n",
    "print('LG_OE  ', rmse(target_valid_OE, predicted_LG_OE))\n",
    "print()\n",
    "print('RF_OHE ', rmse(target_valid_OHE, predicted_RF_OHE))\n",
    "print('RF_OE  ', rmse(target_valid_OE, predicted_RF_OE))\n",
    "print()\n",
    "print('LR_OHE ', rmse(target_valid_OHE, predicted_LR_OHE))\n",
    "print('LR_OE  ', rmse(target_valid_OE, predicted_LR_OE))"
   ]
  },
  {
   "cell_type": "markdown",
   "metadata": {},
   "source": [
    "- **лучшие результаты с дефолтными параметрами показали CatBoost и RandomForest, далее LGBM и XGB_OHE**\n",
    "- сильно уступает LinearRegression, показав на данных с кодировкой ОНЕ очень странный результат\n",
    "\n",
    "### Подбор гиперпараметров"
   ]
  },
  {
   "cell_type": "code",
   "execution_count": 43,
   "metadata": {},
   "outputs": [],
   "source": [
    "def run_gridsearch(model, params, X, Y):\n",
    "    grid = GridSearchCV(model, params, scoring='neg_mean_squared_error', cv=3, n_jobs=-1)\n",
    "    grid.fit(X, Y)\n",
    "\n",
    "    print(grid.best_params_)\n",
    "    print(rmse_gridsearch(grid.best_score_))"
   ]
  },
  {
   "cell_type": "code",
   "execution_count": 44,
   "metadata": {},
   "outputs": [],
   "source": [
    "parametrs_Cat = {'depth': [4,7,10],\n",
    "                 'learning_rate': [0.03, 0.1, 0.15],\n",
    "                 'iterations': [100, 200, 300]\n",
    "              }\n",
    "\n",
    "parametrs_LG = {'max_depth': [20,50,75],\n",
    "                 'learning_rate': [0.01, 0.05, 0.1],\n",
    "                 'num_leaves': [300, 900, 1200],\n",
    "                 'n_estimators': [200]\n",
    "              }\n",
    "\n",
    "parametrs_RF = { 'n_estimators': [30, 70, 100],\n",
    "              'max_depth': [3,8,15]}"
   ]
  },
  {
   "cell_type": "markdown",
   "metadata": {},
   "source": [
    "#### Подбор гиперпараметров для CatBoost:"
   ]
  },
  {
   "cell_type": "code",
   "execution_count": null,
   "metadata": {},
   "outputs": [],
   "source": [
    "# orig\n",
    "run_gridsearch(model_Cat, parametrs_Cat, features_train_orig, target_train_orig)"
   ]
  },
  {
   "cell_type": "markdown",
   "metadata": {},
   "source": [
    "1573.48, при 'depth': 10, 'iterations': 300, 'learning_rate': 0.15"
   ]
  },
  {
   "cell_type": "code",
   "execution_count": null,
   "metadata": {},
   "outputs": [],
   "source": [
    "# OHE\n",
    "run_gridsearch(model_Cat, parametrs_Cat, features_train_OHE, target_train_OHE)"
   ]
  },
  {
   "cell_type": "markdown",
   "metadata": {},
   "source": [
    "1578.12, при 'depth': 10, 'iterations': 300, 'learning_rate': 0.15"
   ]
  },
  {
   "cell_type": "code",
   "execution_count": null,
   "metadata": {},
   "outputs": [],
   "source": [
    "# OE\n",
    "run_gridsearch(model_Cat, parametrs_Cat, features_train_OE, target_train_OE)"
   ]
  },
  {
   "cell_type": "markdown",
   "metadata": {},
   "source": [
    "1591,79, при 'depth': 10, 'iterations': 300, 'learning_rate': 0.15"
   ]
  },
  {
   "cell_type": "markdown",
   "metadata": {},
   "source": [
    "#### Подбор гиперпараметров для LGBM:"
   ]
  },
  {
   "cell_type": "code",
   "execution_count": null,
   "metadata": {},
   "outputs": [],
   "source": [
    "# OHE\n",
    "run_gridsearch(model_LG, parametrs_LG, features_train_OHE, target_train_OHE)"
   ]
  },
  {
   "cell_type": "markdown",
   "metadata": {},
   "source": [
    "1535.52, при 'learning_rate': 0.1, 'max_depth': 75, 'n_estimators': 200, 'num_leaves': 300"
   ]
  },
  {
   "cell_type": "code",
   "execution_count": null,
   "metadata": {},
   "outputs": [],
   "source": [
    "# OE\n",
    "run_gridsearch(model_LG, parametrs_LG, features_train_OE, target_train_OE)"
   ]
  },
  {
   "cell_type": "markdown",
   "metadata": {},
   "source": [
    "1561.14, при 'learning_rate': 0.1, 'max_depth': 50, 'n_estimators': 200, 'num_leaves': 300"
   ]
  },
  {
   "cell_type": "markdown",
   "metadata": {},
   "source": [
    "#### Подбор гиперпараметров для Random Forest:"
   ]
  },
  {
   "cell_type": "code",
   "execution_count": null,
   "metadata": {},
   "outputs": [],
   "source": [
    "# OHE\n",
    "grid = GridSearchCV(model_RF, parametrs_RF, scoring='neg_mean_squared_error', cv=3)\n",
    "grid.fit(features_train_OHE, target_train_OHE)\n",
    "print(grid.best_params_)\n",
    "rmse_gridsearch(grid.best_score_)"
   ]
  },
  {
   "cell_type": "markdown",
   "metadata": {},
   "source": [
    "- {'max_depth': 15, 'n_estimators': 100}\n",
    "- 1686.8781750773355"
   ]
  },
  {
   "cell_type": "markdown",
   "metadata": {},
   "source": [
    "### Выводы:\n",
    "\n",
    "Из проработаных моеделей можно выделить:\n",
    "- **CatBoost с RMSE=1573.48** с кодировкой ОНЕ,  при 'depth': 10, 'iterations': 300, 'learning_rate': 0.15\n",
    "- **LGBM с RMSE=1535,52** с кодировкой OHE, при 'learning_rate': 0.1, 'max_depth': 75, 'n_estimators': 200, 'num_leaves': 300\n",
    "- **LGBM с RMSE=1561,14** с кодировкой OE, при тех же параметрах\n",
    "\n",
    "# 3. Анализ моделей\n",
    "Сравним модели с подобранными параметрами по показателям:\n",
    "- качества предсказания\n",
    "- время обучения\n",
    "- время предсказания"
   ]
  },
  {
   "cell_type": "code",
   "execution_count": null,
   "metadata": {},
   "outputs": [],
   "source": [
    "model_Cat_final = CatBoostRegressor(depth=10, learning_rate=0.15, iterations=300, random_state=12345)\n",
    "model_LG_final = lgb.LGBMRegressor(learning_rate=0.1, max_depth=75, n_estimators=200, num_leaves=300, random_state=12345)"
   ]
  },
  {
   "cell_type": "code",
   "execution_count": 46,
   "metadata": {},
   "outputs": [],
   "source": [
    "def count_time(model_, X, Y, X_valid, Y_valid):\n",
    "    start_time = time.perf_counter()\n",
    "    model = model_\n",
    "    model.fit(X, Y)\n",
    "    time_1 = float('{0:.2f}'.format(time.perf_counter() - start_time))\n",
    "    \n",
    "    start_time = time.perf_counter()\n",
    "    predict = model.predict(X_valid)\n",
    "    RMSE = rmse(Y_valid, predict)\n",
    "    time_2 = float('{0:.2f}'.format(time.perf_counter() - start_time))\n",
    "    print(RMSE)\n",
    "    print(time_1)\n",
    "    print(time_2)\n",
    "    return RMSE, time_1, time_2"
   ]
  },
  {
   "cell_type": "markdown",
   "metadata": {},
   "source": [
    "#### CatBoost"
   ]
  },
  {
   "cell_type": "code",
   "execution_count": null,
   "metadata": {},
   "outputs": [],
   "source": [
    "RMSECat, timeCat1, timeCat2 = count_time(model_Cat_final, features_train_OHE, target_train_OHE, \n",
    "                                         features_valid_OHE, target_valid_OHE)"
   ]
  },
  {
   "cell_type": "code",
   "execution_count": 58,
   "metadata": {},
   "outputs": [
    {
     "name": "stdout",
     "output_type": "stream",
     "text": [
      "1551.0\n",
      "90.7\n",
      "0.31\n"
     ]
    }
   ],
   "source": [
    "print(RMSECat)\n",
    "print(timeCat1)\n",
    "print(timeCat2)"
   ]
  },
  {
   "cell_type": "markdown",
   "metadata": {},
   "source": [
    "#### LGBM на данных с кодировками ОНЕ и ОЕ:"
   ]
  },
  {
   "cell_type": "code",
   "execution_count": null,
   "metadata": {},
   "outputs": [],
   "source": [
    "RMSE_LG_OHE, time1_LG_OHE, time2_LG_OHE = count_time(model_LG_final, features_train_OHE, target_train_OHE, \n",
    "                                           features_valid_OHE, target_valid_OHE)"
   ]
  },
  {
   "cell_type": "markdown",
   "metadata": {},
   "source": [
    "- 1496.19\n",
    "- 48.27\n",
    "- 5.25"
   ]
  },
  {
   "cell_type": "code",
   "execution_count": null,
   "metadata": {},
   "outputs": [],
   "source": [
    "RMSE_LG_OE, time1_LG_OE, time2_LG_OE = count_time(model_LG_final, features_train_OE, target_train_OE, \n",
    "                                           features_valid_OE, target_valid_OE)"
   ]
  },
  {
   "cell_type": "markdown",
   "metadata": {},
   "source": [
    "- 1499.99\n",
    "- 34.40\n",
    "- 3.90"
   ]
  },
  {
   "cell_type": "code",
   "execution_count": null,
   "metadata": {},
   "outputs": [],
   "source": [
    "data_model = [['CatBoost', RMSECat,  timeCat1, timeCat2, timeCat1+timeCat2],\n",
    "                 ['LGBM_OHE', RMSE_LG_OHE,  time1_LG_OHE, time2_LG_OHE, time1_LG_OHE+time2_LG_OHE],\n",
    "                 ['LGBM_OE', RMSE_LG_OE,  time1_LG_OE, time2_LG_OE, time1_LG_OE+time2_LG_OE]\n",
    "                ]\n",
    "results = pd.DataFrame(data_model, columns = ['Model', 'RMSE','Time_fit','Time_predict', 'Time_total'])\n",
    "\n",
    "results"
   ]
  },
  {
   "cell_type": "markdown",
   "metadata": {},
   "source": [
    "### Выводы\n",
    "\n",
    "- мы проанализировали и обработали данные\n",
    "- обучили несколько моделей на данных с разными способами обработки категориальных признаков и подобрали гиперпараметры\n",
    "- обучили итоговые модели с подобранными параметрами и сравнили результаты по качеству предсказания и временным показателям, результаты:\n"
   ]
  },
  {
   "cell_type": "code",
   "execution_count": 56,
   "metadata": {},
   "outputs": [
    {
     "data": {
      "text/html": [
       "<div>\n",
       "<style scoped>\n",
       "    .dataframe tbody tr th:only-of-type {\n",
       "        vertical-align: middle;\n",
       "    }\n",
       "\n",
       "    .dataframe tbody tr th {\n",
       "        vertical-align: top;\n",
       "    }\n",
       "\n",
       "    .dataframe thead th {\n",
       "        text-align: right;\n",
       "    }\n",
       "</style>\n",
       "<table border=\"1\" class=\"dataframe\">\n",
       "  <thead>\n",
       "    <tr style=\"text-align: right;\">\n",
       "      <th></th>\n",
       "      <th>Model</th>\n",
       "      <th>RMSE</th>\n",
       "      <th>Time_fit</th>\n",
       "      <th>Time_predict</th>\n",
       "      <th>Time_total</th>\n",
       "    </tr>\n",
       "  </thead>\n",
       "  <tbody>\n",
       "    <tr>\n",
       "      <td>0</td>\n",
       "      <td>CatBoost</td>\n",
       "      <td>1551.00</td>\n",
       "      <td>91.99</td>\n",
       "      <td>0.39</td>\n",
       "      <td>92.38</td>\n",
       "    </tr>\n",
       "    <tr>\n",
       "      <td>1</td>\n",
       "      <td>LGBM_OHE</td>\n",
       "      <td>1496.19</td>\n",
       "      <td>48.27</td>\n",
       "      <td>5.25</td>\n",
       "      <td>53.52</td>\n",
       "    </tr>\n",
       "    <tr>\n",
       "      <td>2</td>\n",
       "      <td>LGBM_OE</td>\n",
       "      <td>1499.99</td>\n",
       "      <td>34.40</td>\n",
       "      <td>3.90</td>\n",
       "      <td>38.30</td>\n",
       "    </tr>\n",
       "  </tbody>\n",
       "</table>\n",
       "</div>"
      ],
      "text/plain": [
       "      Model     RMSE  Time_fit  Time_predict  Time_total\n",
       "0  CatBoost  1551.00     91.99          0.39       92.38\n",
       "1  LGBM_OHE  1496.19     48.27          5.25       53.52\n",
       "2   LGBM_OE  1499.99     34.40          3.90       38.30"
      ]
     },
     "execution_count": 56,
     "metadata": {},
     "output_type": "execute_result"
    }
   ],
   "source": [
    "results"
   ]
  },
  {
   "cell_type": "markdown",
   "metadata": {},
   "source": [
    "**Модели LightGBM показали лучшие результаты с точки зрения качества предсказаний и времени обучения:**\n",
    "- для LightGBM на данных с кодировкой ОЕ **RMSE=1499.99, Time_fit=34.4 с, Time_predict=3.9 с**\n",
    "\n",
    "**С точки зрения времени предсказания лучший результат у CatBoost Time_predict=0,39**, при этом Time_fit=91,99, а RMSE=1551"
   ]
  }
 ],
 "metadata": {
  "kernelspec": {
   "display_name": "Python 3",
   "language": "python",
   "name": "python3"
  },
  "language_info": {
   "codemirror_mode": {
    "name": "ipython",
    "version": 3
   },
   "file_extension": ".py",
   "mimetype": "text/x-python",
   "name": "python",
   "nbconvert_exporter": "python",
   "pygments_lexer": "ipython3",
   "version": "3.7.6"
  }
 },
 "nbformat": 4,
 "nbformat_minor": 2
}
