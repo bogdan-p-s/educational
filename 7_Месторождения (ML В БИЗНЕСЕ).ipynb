{
 "cells": [
  {
   "cell_type": "markdown",
   "metadata": {},
   "source": [
    "# Описание проекта"
   ]
  },
  {
   "cell_type": "markdown",
   "metadata": {},
   "source": [
    "Вам предоставлены пробы нефти в трёх регионах: качество нефти и объём её запасов.\n",
    "\n",
    "Необходимо построить модель машинного обучения, которая поможет определить регион, где добыча принесёт наибольшую прибыль. Проанализируйте возможную прибыль и риски техникой *Bootstrap.*"
   ]
  },
  {
   "cell_type": "markdown",
   "metadata": {},
   "source": [
    "### Для выполенения работы нам будет необходимо:\n",
    "- проанализировать и подготовить данные\n",
    "- обучить модель и сделать предсказания для каждого региона\n",
    "- рассчитать RMSE модели каждого региона и средних запасов\n",
    "- определить необходимый минимальный запас продукта для безубыточной работы\n",
    "- по предсказаниям модели опредилить лучшие месторождения в каждом регионе и почитать суммарную прибыль и запасы продукта\n",
    "- с помощью метода **BOOTSTRAP** определить среднюю прибыль и риск убытков\n",
    "- определить регион для разгработки и обосновать выбор\n",
    "\n",
    "\n",
    "\n",
    "# 1. Загрузка и подготовка данных"
   ]
  },
  {
   "cell_type": "code",
   "execution_count": 1,
   "metadata": {},
   "outputs": [],
   "source": [
    "import pandas as pd\n",
    "import numpy as np\n",
    "import matplotlib.pyplot as plt\n",
    "from sklearn.preprocessing import StandardScaler\n",
    "from sklearn.model_selection import train_test_split\n",
    "from sklearn.linear_model import LinearRegression\n",
    "from sklearn.metrics import mean_squared_error\n",
    "from scipy import stats as st"
   ]
  },
  {
   "cell_type": "markdown",
   "metadata": {},
   "source": [
    "Загрузим данные и взглянем на них:"
   ]
  },
  {
   "cell_type": "code",
   "execution_count": 2,
   "metadata": {},
   "outputs": [],
   "source": [
    "region_data_1 = pd.read_csv('data_0.csv')\n",
    "region_data_2 = pd.read_csv('data_1.csv')\n",
    "region_data_3 = pd.read_csv('data_2.csv')\n",
    "regions = [region_data_1, region_data_2, region_data_3]"
   ]
  },
  {
   "cell_type": "code",
   "execution_count": 3,
   "metadata": {
    "scrolled": true
   },
   "outputs": [
    {
     "name": "stdout",
     "output_type": "stream",
     "text": [
      "          id        f0        f1        f2     product\n",
      "0      txEyH  0.705745 -0.497823  1.221170  105.280062\n",
      "1      2acmU  1.334711 -0.340164  4.365080   73.037750\n",
      "2      409Wp  1.022732  0.151990  1.419926   85.265647\n",
      "3      iJLyR -0.032172  0.139033  2.978566  168.620776\n",
      "4      Xdl7t  1.988431  0.155413  4.751769  154.036647\n",
      "...      ...       ...       ...       ...         ...\n",
      "99995  DLsed  0.971957  0.370953  6.075346  110.744026\n",
      "99996  QKivN  1.392429 -0.382606  1.273912  122.346843\n",
      "99997  3rnvd  1.029585  0.018787 -1.348308   64.375443\n",
      "99998  7kl59  0.998163 -0.528582  1.583869   74.040764\n",
      "99999  1CWhH  1.764754 -0.266417  5.722849  149.633246\n",
      "\n",
      "[100000 rows x 5 columns]\n",
      "          id         f0         f1        f2     product\n",
      "0      kBEdx -15.001348  -8.276000 -0.005876    3.179103\n",
      "1      62mP7  14.272088  -3.475083  0.999183   26.953261\n",
      "2      vyE1P   6.263187  -5.948386  5.001160  134.766305\n",
      "3      KcrkZ -13.081196 -11.506057  4.999415  137.945408\n",
      "4      AHL4O  12.702195  -8.147433  5.004363  134.766305\n",
      "...      ...        ...        ...       ...         ...\n",
      "99995  QywKC   9.535637  -6.878139  1.998296   53.906522\n",
      "99996  ptvty -10.160631 -12.558096  5.005581  137.945408\n",
      "99997  09gWa  -7.378891  -3.084104  4.998651  137.945408\n",
      "99998  rqwUm   0.665714  -6.152593  1.000146   30.132364\n",
      "99999  relB0  -3.426139  -7.794274 -0.003299    3.179103\n",
      "\n",
      "[100000 rows x 5 columns]\n",
      "          id        f0        f1        f2     product\n",
      "0      fwXo0 -1.146987  0.963328 -0.828965   27.758673\n",
      "1      WJtFt  0.262778  0.269839 -2.530187   56.069697\n",
      "2      ovLUW  0.194587  0.289035 -5.586433   62.871910\n",
      "3      q6cA6  2.236060 -0.553760  0.930038  114.572842\n",
      "4      WPMUX -0.515993  1.716266  5.899011  149.600746\n",
      "...      ...       ...       ...       ...         ...\n",
      "99995  4GxBu -1.777037  1.125220  6.263374  172.327046\n",
      "99996  YKFjq -1.261523 -0.894828  2.524545  138.748846\n",
      "99997  tKPY3 -1.199934 -2.957637  5.219411  157.080080\n",
      "99998  nmxp2 -2.419896  2.417221 -5.548444   51.795253\n",
      "99999  V9kWn -2.551421 -2.025625  6.090891  102.775767\n",
      "\n",
      "[100000 rows x 5 columns]\n"
     ]
    }
   ],
   "source": [
    "for region in regions:\n",
    "    print(region)"
   ]
  },
  {
   "cell_type": "markdown",
   "metadata": {},
   "source": [
    "Датасеты представляют из себя данные каждого региона по 100000 месторождений, включая:\n",
    "- id — уникальный идентификатор скважины;\n",
    "- f0, f1, f2 — три признака точек (неважно, что они означают, но сами признаки значимы);\n",
    "- product — объём запасов в скважине (тыс. баррелей).\n",
    "\n",
    "Взглянем на разброс данных, на наличие выбросов и пропусков:"
   ]
  },
  {
   "cell_type": "code",
   "execution_count": 4,
   "metadata": {
    "scrolled": true
   },
   "outputs": [
    {
     "data": {
      "image/png": "[encoded data removed]",
      "text/plain": [
       "<Figure size 432x288 with 1 Axes>"
      ]
     },
     "metadata": {
      "needs_background": "light"
     },
     "output_type": "display_data"
    },
    {
     "data": {
      "image/png": "[encoded data removed]",
      "text/plain": [
       "<Figure size 432x288 with 1 Axes>"
      ]
     },
     "metadata": {
      "needs_background": "light"
     },
     "output_type": "display_data"
    },
    {
     "data": {
      "image/png": "[encoded data removed]",
      "text/plain": [
       "<Figure size 432x288 with 1 Axes>"
      ]
     },
     "metadata": {
      "needs_background": "light"
     },
     "output_type": "display_data"
    }
   ],
   "source": [
    "for region in regions:\n",
    "    fig = plt.figure()\n",
    "    region.boxplot()"
   ]
  },
  {
   "cell_type": "code",
   "execution_count": 5,
   "metadata": {},
   "outputs": [
    {
     "name": "stdout",
     "output_type": "stream",
     "text": [
      "id         0\n",
      "f0         0\n",
      "f1         0\n",
      "f2         0\n",
      "product    0\n",
      "dtype: int64\n",
      "id         0\n",
      "f0         0\n",
      "f1         0\n",
      "f2         0\n",
      "product    0\n",
      "dtype: int64\n",
      "id         0\n",
      "f0         0\n",
      "f1         0\n",
      "f2         0\n",
      "product    0\n",
      "dtype: int64\n"
     ]
    }
   ],
   "source": [
    "for region in regions:\n",
    "    print(region.isnull().sum())"
   ]
  },
  {
   "cell_type": "markdown",
   "metadata": {},
   "source": [
    "Выбросы есть, но совем небольшие, оставим данные вы исходном виде. Пропусков нет\n",
    "\n",
    "**Удалим столбец с id в каждом регионе**, он нам не нужен:"
   ]
  },
  {
   "cell_type": "code",
   "execution_count": 6,
   "metadata": {},
   "outputs": [],
   "source": [
    "region_data_1 = region_data_1.drop('id', axis=1)\n",
    "region_data_2 = region_data_2.drop('id', axis=1)\n",
    "region_data_3 = region_data_3.drop('id', axis=1)"
   ]
  },
  {
   "cell_type": "markdown",
   "metadata": {},
   "source": [
    "# 2. Обучение и проверка модели\n",
    "\n",
    "**Разделим данные на обучающую и валидационную выборки в соотношении 75:25 для каждого региона:**"
   ]
  },
  {
   "cell_type": "code",
   "execution_count": 7,
   "metadata": {},
   "outputs": [],
   "source": [
    "def split_df(region):\n",
    "    target = region['product']\n",
    "    features = region.drop('product', axis=1)\n",
    "\n",
    "    features_train, features_valid, target_train, target_valid = train_test_split(\n",
    "        features, target, test_size=0.25, random_state=12345)\n",
    "    return features_train, features_valid, target_train, target_valid"
   ]
  },
  {
   "cell_type": "code",
   "execution_count": 8,
   "metadata": {},
   "outputs": [],
   "source": [
    "features_train_1, features_valid_1, target_train_1, target_valid_1 = split_df(region_data_1)\n",
    "features_train_2, features_valid_2, target_train_2, target_valid_2 = split_df(region_data_2)\n",
    "features_train_3, features_valid_3, target_train_3, target_valid_3 = split_df(region_data_3)"
   ]
  },
  {
   "cell_type": "markdown",
   "metadata": {},
   "source": [
    "**Обучим и проверим модели для каждого региона:**"
   ]
  },
  {
   "cell_type": "code",
   "execution_count": 9,
   "metadata": {},
   "outputs": [],
   "source": [
    "def training_validation_model(features_train, target_train, features_valid, target_valid):\n",
    "    model = LinearRegression()\n",
    "    model.fit(features_train, target_train)\n",
    "    predicted = model.predict(features_valid)\n",
    "    predicted = pd.Series(predicted, index=target_valid.index) #преобразуем в Series с индексами целевого признака\n",
    "    return predicted"
   ]
  },
  {
   "cell_type": "markdown",
   "metadata": {},
   "source": [
    "**Получим предсказания:**"
   ]
  },
  {
   "cell_type": "code",
   "execution_count": 10,
   "metadata": {},
   "outputs": [],
   "source": [
    "predicted_1 = training_validation_model(features_train_1, target_train_1, features_valid_1, target_valid_1)\n",
    "predicted_2 = training_validation_model(features_train_2, target_train_2, features_valid_2, target_valid_2)\n",
    "predicted_3 = training_validation_model(features_train_3, target_train_3, features_valid_3, target_valid_3)"
   ]
  },
  {
   "cell_type": "markdown",
   "metadata": {},
   "source": [
    "**Расчет RMSE модели каждого региона и средних запасов:**"
   ]
  },
  {
   "cell_type": "code",
   "execution_count": 11,
   "metadata": {},
   "outputs": [],
   "source": [
    "def rmse_and_mean_prod(region, target_valid, predicted):\n",
    "    RMSE = (mean_squared_error(target_valid, predicted)**0.5).round(2)\n",
    "    mean_product = (region['product'].mean()).round(2)\n",
    "    return RMSE,  mean_product\n",
    "RMSE_1,  mean_product_1 = rmse_and_mean_prod(region_data_1, target_valid_1, predicted_1)\n",
    "RMSE_2,  mean_product_2 = rmse_and_mean_prod(region_data_2, target_valid_2, predicted_2)\n",
    "RMSE_3,  mean_product_3 = rmse_and_mean_prod(region_data_3, target_valid_3, predicted_3)"
   ]
  },
  {
   "cell_type": "markdown",
   "metadata": {},
   "source": [
    "Соберем результаты в таблицу:"
   ]
  },
  {
   "cell_type": "code",
   "execution_count": 12,
   "metadata": {},
   "outputs": [],
   "source": [
    "data_rmse_and_mean_prod = [['1', RMSE_1,  mean_product_1],\n",
    "                 ['2', RMSE_2,  mean_product_2],\n",
    "                 ['3', RMSE_3,  mean_product_3]\n",
    "                ]\n",
    "df_rmse_and_mean_prod = pd.DataFrame(data_rmse_and_mean_prod, columns = ['Регион', 'RMSE', 'Ср. запас'])"
   ]
  },
  {
   "cell_type": "markdown",
   "metadata": {},
   "source": [
    "Подозрительный результат RMSE у региона 2, модель практически не ошибается, возможно там произошла \"утечка\" целевого признака, проверим корреляцию:"
   ]
  },
  {
   "cell_type": "code",
   "execution_count": 13,
   "metadata": {},
   "outputs": [
    {
     "data": {
      "text/html": [
       "<div>\n",
       "<style scoped>\n",
       "    .dataframe tbody tr th:only-of-type {\n",
       "        vertical-align: middle;\n",
       "    }\n",
       "\n",
       "    .dataframe tbody tr th {\n",
       "        vertical-align: top;\n",
       "    }\n",
       "\n",
       "    .dataframe thead th {\n",
       "        text-align: right;\n",
       "    }\n",
       "</style>\n",
       "<table border=\"1\" class=\"dataframe\">\n",
       "  <thead>\n",
       "    <tr style=\"text-align: right;\">\n",
       "      <th></th>\n",
       "      <th>f0</th>\n",
       "      <th>f1</th>\n",
       "      <th>f2</th>\n",
       "      <th>product</th>\n",
       "    </tr>\n",
       "  </thead>\n",
       "  <tbody>\n",
       "    <tr>\n",
       "      <td>f0</td>\n",
       "      <td>1.000000</td>\n",
       "      <td>0.182287</td>\n",
       "      <td>-0.001777</td>\n",
       "      <td>-0.030491</td>\n",
       "    </tr>\n",
       "    <tr>\n",
       "      <td>f1</td>\n",
       "      <td>0.182287</td>\n",
       "      <td>1.000000</td>\n",
       "      <td>-0.002595</td>\n",
       "      <td>-0.010155</td>\n",
       "    </tr>\n",
       "    <tr>\n",
       "      <td>f2</td>\n",
       "      <td>-0.001777</td>\n",
       "      <td>-0.002595</td>\n",
       "      <td>1.000000</td>\n",
       "      <td>0.999397</td>\n",
       "    </tr>\n",
       "    <tr>\n",
       "      <td>product</td>\n",
       "      <td>-0.030491</td>\n",
       "      <td>-0.010155</td>\n",
       "      <td>0.999397</td>\n",
       "      <td>1.000000</td>\n",
       "    </tr>\n",
       "  </tbody>\n",
       "</table>\n",
       "</div>"
      ],
      "text/plain": [
       "               f0        f1        f2   product\n",
       "f0       1.000000  0.182287 -0.001777 -0.030491\n",
       "f1       0.182287  1.000000 -0.002595 -0.010155\n",
       "f2      -0.001777 -0.002595  1.000000  0.999397\n",
       "product -0.030491 -0.010155  0.999397  1.000000"
      ]
     },
     "execution_count": 13,
     "metadata": {},
     "output_type": "execute_result"
    }
   ],
   "source": [
    "region_data_2.corr()"
   ]
  },
  {
   "cell_type": "markdown",
   "metadata": {},
   "source": [
    "Корреляция признака f2 и запасов практически 1. Мы не знаем, что это за признак, в реальной задаче стоило бы обратиться к заказчику по этому вопросу. А пока решающих выводов по второму региону делать не стоит\n",
    "\n",
    "### Вывод\n",
    "\n",
    "Мы **обучили модели линейной регрессии** для каждого региона и посчитали **средний запас продукта**:"
   ]
  },
  {
   "cell_type": "code",
   "execution_count": 14,
   "metadata": {},
   "outputs": [
    {
     "data": {
      "text/html": [
       "<div>\n",
       "<style scoped>\n",
       "    .dataframe tbody tr th:only-of-type {\n",
       "        vertical-align: middle;\n",
       "    }\n",
       "\n",
       "    .dataframe tbody tr th {\n",
       "        vertical-align: top;\n",
       "    }\n",
       "\n",
       "    .dataframe thead th {\n",
       "        text-align: right;\n",
       "    }\n",
       "</style>\n",
       "<table border=\"1\" class=\"dataframe\">\n",
       "  <thead>\n",
       "    <tr style=\"text-align: right;\">\n",
       "      <th></th>\n",
       "      <th>Регион</th>\n",
       "      <th>RMSE</th>\n",
       "      <th>Ср. запас</th>\n",
       "    </tr>\n",
       "  </thead>\n",
       "  <tbody>\n",
       "    <tr>\n",
       "      <td>0</td>\n",
       "      <td>1</td>\n",
       "      <td>37.58</td>\n",
       "      <td>92.50</td>\n",
       "    </tr>\n",
       "    <tr>\n",
       "      <td>1</td>\n",
       "      <td>2</td>\n",
       "      <td>0.89</td>\n",
       "      <td>68.83</td>\n",
       "    </tr>\n",
       "    <tr>\n",
       "      <td>2</td>\n",
       "      <td>3</td>\n",
       "      <td>40.03</td>\n",
       "      <td>95.00</td>\n",
       "    </tr>\n",
       "  </tbody>\n",
       "</table>\n",
       "</div>"
      ],
      "text/plain": [
       "  Регион   RMSE  Ср. запас\n",
       "0      1  37.58      92.50\n",
       "1      2   0.89      68.83\n",
       "2      3  40.03      95.00"
      ]
     },
     "execution_count": 14,
     "metadata": {},
     "output_type": "execute_result"
    }
   ],
   "source": [
    "df_rmse_and_mean_prod"
   ]
  },
  {
   "cell_type": "markdown",
   "metadata": {},
   "source": [
    "- в данных региона произошла \"утечка\" целевого признака, поэтому на будущие предсказания модели полагатсья не стоит\n",
    "- в части **качества предсказаний лучший результат у региона № 1 - RMSE = 37,58**\n",
    "- в части **среднийх запасов чуть лучший результат показал регион № 3**"
   ]
  },
  {
   "cell_type": "markdown",
   "metadata": {},
   "source": [
    "# 3. Подготовка к расчёту прибыли\n",
    "\n",
    "Заведем все необходимые данные:"
   ]
  },
  {
   "cell_type": "code",
   "execution_count": 15,
   "metadata": {},
   "outputs": [],
   "source": [
    "BUDGET = 10 # бюджет на разработку региона, млрд\n",
    "INCOME_BARREL = 450000 # доход с одного барреля\n",
    "BUDGET_ONE_FIELD = BUDGET/200 # стоимость разработки месторождения (делим на число скважин)"
   ]
  },
  {
   "cell_type": "markdown",
   "metadata": {},
   "source": [
    "Рассчитаем **минимальный объем запаса в месторождении** для его безубыточной разработки.\n",
    "\n",
    "Для чего поделим стоимость разработки месторождения на доход с одного барреля:"
   ]
  },
  {
   "cell_type": "code",
   "execution_count": 16,
   "metadata": {},
   "outputs": [
    {
     "data": {
      "text/plain": [
       "1.1111111111111112e-07"
      ]
     },
     "execution_count": 16,
     "metadata": {},
     "output_type": "execute_result"
    }
   ],
   "source": [
    "MINIMUM_VOLUME = BUDGET_ONE_FIELD/INCOME_BARREL\n",
    "MINIMUM_VOLUME"
   ]
  },
  {
   "cell_type": "markdown",
   "metadata": {},
   "source": [
    "**Минимальный запас равен 111.(1)** - ощутимо больше средних запасов в каждом регионе (92.50, 68.83, 95.00)\n",
    "\n",
    "### Вывод\n",
    "- **Необходимый минимальный запас должен быть не меньше 111.1 барреля** в каждом месторождении, чтобы \"выйти в ноль\"\n",
    "- **средние значения в каждом регионе (92.50, 68.83, 95.00) меньше этого значения**, возможно выбор самых лучших месторождений внутри каждого региона позволит преодолеть порог запаса в 111,1"
   ]
  },
  {
   "cell_type": "markdown",
   "metadata": {},
   "source": [
    "# 4. Расчёт прибыли и рисков \n",
    "\n",
    "Напишем функцию для расчёта прибыли по выбранным скважинам и предсказаниям модели:"
   ]
  },
  {
   "cell_type": "code",
   "execution_count": 17,
   "metadata": {},
   "outputs": [],
   "source": [
    "def sum_target(predicted, target_valid):\n",
    "    predicted_sorted = predicted.sort_values(ascending=False) # сортируем предсказания по убыванию\n",
    "    selected = target_valid[predicted_sorted.index][:200] # берем 200 соответствующих результатов\n",
    "    sum_target = selected.sum().round(2) # суммируем запасы\n",
    "    total_profit = (sum_target * INCOME_BARREL/1000000000 - BUDGET).round(3) # считаем прибыль (10 - стоимость разработки)\n",
    "    return sum_target, total_profit"
   ]
  },
  {
   "cell_type": "markdown",
   "metadata": {},
   "source": [
    "Определим суммарный запас и прибыль:"
   ]
  },
  {
   "cell_type": "code",
   "execution_count": 18,
   "metadata": {},
   "outputs": [],
   "source": [
    "product_sum_target_1, total_profit_1 = sum_target(predicted_1, target_valid_1)\n",
    "product_sum_target_2, total_profit_2 = sum_target(predicted_2, target_valid_2)\n",
    "product_sum_target_3, total_profit_3 = sum_target(predicted_3, target_valid_3)"
   ]
  },
  {
   "cell_type": "code",
   "execution_count": 19,
   "metadata": {},
   "outputs": [
    {
     "data": {
      "text/html": [
       "<div>\n",
       "<style scoped>\n",
       "    .dataframe tbody tr th:only-of-type {\n",
       "        vertical-align: middle;\n",
       "    }\n",
       "\n",
       "    .dataframe tbody tr th {\n",
       "        vertical-align: top;\n",
       "    }\n",
       "\n",
       "    .dataframe thead th {\n",
       "        text-align: right;\n",
       "    }\n",
       "</style>\n",
       "<table border=\"1\" class=\"dataframe\">\n",
       "  <thead>\n",
       "    <tr style=\"text-align: right;\">\n",
       "      <th></th>\n",
       "      <th>Регион</th>\n",
       "      <th>Запас, тыс</th>\n",
       "      <th>Прибыль, млрд</th>\n",
       "    </tr>\n",
       "  </thead>\n",
       "  <tbody>\n",
       "    <tr>\n",
       "      <td>0</td>\n",
       "      <td>1</td>\n",
       "      <td>29601.84</td>\n",
       "      <td>3.321</td>\n",
       "    </tr>\n",
       "    <tr>\n",
       "      <td>1</td>\n",
       "      <td>2</td>\n",
       "      <td>27589.08</td>\n",
       "      <td>2.415</td>\n",
       "    </tr>\n",
       "    <tr>\n",
       "      <td>2</td>\n",
       "      <td>3</td>\n",
       "      <td>28245.22</td>\n",
       "      <td>2.710</td>\n",
       "    </tr>\n",
       "  </tbody>\n",
       "</table>\n",
       "</div>"
      ],
      "text/plain": [
       "  Регион  Запас, тыс  Прибыль, млрд\n",
       "0      1    29601.84          3.321\n",
       "1      2    27589.08          2.415\n",
       "2      3    28245.22          2.710"
      ]
     },
     "execution_count": 19,
     "metadata": {},
     "output_type": "execute_result"
    }
   ],
   "source": [
    "data_top = [['1', product_sum_target_1, total_profit_1],\n",
    "                 ['2', product_sum_target_2, total_profit_2],\n",
    "                 ['3', product_sum_target_3, total_profit_3]\n",
    "                ]\n",
    "df_top = pd.DataFrame(data_top, columns = ['Регион', 'Запас, тыс','Прибыль, млрд'])\n",
    "df_top"
   ]
  },
  {
   "cell_type": "markdown",
   "metadata": {},
   "source": [
    "## Расчет рисков\n",
    "\n",
    "Напишем функцию, которая будет производить операцию bootstrap:\n",
    "1. 1000 раз делать выборку 500ста произвольных месторождений\n",
    "2. Из которых будет выбирать 200 лучших по предскзаниями\n",
    "3. Давать общую (на 1000 результатов) среднюю прибыль с дверительным интервалом и риск убытков:"
   ]
  },
  {
   "cell_type": "code",
   "execution_count": 20,
   "metadata": {},
   "outputs": [],
   "source": [
    "state = np.random.RandomState(12345)\n",
    "\n",
    "def bootstrap(target, predicted):\n",
    "    values = []\n",
    "    \n",
    "    for i in range(1000):\n",
    "        target_subsample = target.sample(frac=0.02, replace=True, random_state=state) # выбираем 500 месторождений\n",
    "        probs_subsample = predicted[target_subsample.index] # и соответствующие предсказания\n",
    "        sum_target_1, total_profit_1 = sum_target(probs_subsample, target_subsample) # считаем прибыль\n",
    "    \n",
    "        values.append(total_profit_1) # сохраняем значение прибыли\n",
    "\n",
    "    values = pd.Series(values) # переводим в Series\n",
    "    \n",
    "    # Средняя выручка:\n",
    "    mean = values.mean().round(4)\n",
    "        \n",
    "    # Вероятность убытков = соотношение результатов, которые меньше 10 млрд., к общему числу расчетов:\n",
    "    probability_of_losses = (values < 0).sum()/1000\n",
    "    \n",
    "    # Доверительынй интервал:\n",
    "    confidence_interval = st.t.interval(0.95, len(values)-1, values.mean(), values.sem())\n",
    "    print('Доверительный интервал = ', confidence_interval)\n",
    "    \n",
    "    lower = values.quantile(0.025).round(2)\n",
    "    upper = values.quantile(0.975).round(2)\n",
    "    \n",
    "    return mean, probability_of_losses, lower, upper"
   ]
  },
  {
   "cell_type": "code",
   "execution_count": 21,
   "metadata": {},
   "outputs": [],
   "source": [
    "mean_1, probability_of_losses_1, lower_1, upper_1 = bootstrap(target_valid_1, predicted_1)\n",
    "mean_2, probability_of_losses_2, lower_2, upper_2 = bootstrap(target_valid_2, predicted_2)\n",
    "mean_3, probability_of_losses_3, lower_3, upper_3 = bootstrap(target_valid_3, predicted_3)"
   ]
  },
  {
   "cell_type": "code",
   "execution_count": 22,
   "metadata": {},
   "outputs": [
    {
     "data": {
      "text/html": [
       "<div>\n",
       "<style scoped>\n",
       "    .dataframe tbody tr th:only-of-type {\n",
       "        vertical-align: middle;\n",
       "    }\n",
       "\n",
       "    .dataframe tbody tr th {\n",
       "        vertical-align: top;\n",
       "    }\n",
       "\n",
       "    .dataframe thead th {\n",
       "        text-align: right;\n",
       "    }\n",
       "</style>\n",
       "<table border=\"1\" class=\"dataframe\">\n",
       "  <thead>\n",
       "    <tr style=\"text-align: right;\">\n",
       "      <th></th>\n",
       "      <th>Ср. прибыль</th>\n",
       "      <th>Дов. интервал</th>\n",
       "      <th>Риск убытков</th>\n",
       "    </tr>\n",
       "    <tr>\n",
       "      <th>Регион</th>\n",
       "      <th></th>\n",
       "      <th></th>\n",
       "      <th></th>\n",
       "    </tr>\n",
       "  </thead>\n",
       "  <tbody>\n",
       "    <tr>\n",
       "      <td>1</td>\n",
       "      <td>0.4259</td>\n",
       "      <td>(-0.1, 0.95)</td>\n",
       "      <td>0.060</td>\n",
       "    </tr>\n",
       "    <tr>\n",
       "      <td>2</td>\n",
       "      <td>0.5183</td>\n",
       "      <td>(0.13, 0.95)</td>\n",
       "      <td>0.002</td>\n",
       "    </tr>\n",
       "    <tr>\n",
       "      <td>3</td>\n",
       "      <td>0.4202</td>\n",
       "      <td>(-0.12, 0.99)</td>\n",
       "      <td>0.061</td>\n",
       "    </tr>\n",
       "  </tbody>\n",
       "</table>\n",
       "</div>"
      ],
      "text/plain": [
       "        Ср. прибыль  Дов. интервал  Риск убытков\n",
       "Регион                                          \n",
       "1            0.4259   (-0.1, 0.95)         0.060\n",
       "2            0.5183   (0.13, 0.95)         0.002\n",
       "3            0.4202  (-0.12, 0.99)         0.061"
      ]
     },
     "execution_count": 22,
     "metadata": {},
     "output_type": "execute_result"
    }
   ],
   "source": [
    "data_bootstrap = [['1', mean_1, (lower_1, upper_1), probability_of_losses_1],\n",
    "                 ['2', mean_2, (lower_2, upper_2), probability_of_losses_2],\n",
    "                 ['3', mean_3, (lower_3, upper_3), probability_of_losses_3]\n",
    "                ]\n",
    "df_bootstrap = pd.DataFrame(data_bootstrap, columns = ['Регион', 'Ср. прибыль', 'Дов. интервал' , 'Риск убытков'])\n",
    "df_bootstrap.set_index('Регион')"
   ]
  },
  {
   "cell_type": "code",
   "execution_count": 23,
   "metadata": {},
   "outputs": [
    {
     "data": {
      "image/png": "[encoded data removed]",
      "text/plain": [
       "<Figure size 432x288 with 1 Axes>"
      ]
     },
     "metadata": {
      "needs_background": "light"
     },
     "output_type": "display_data"
    }
   ],
   "source": [
    "df_bootstrap.plot(kind='bar', y='Ср. прибыль', x='Регион')\n",
    "plt.title('Средняя прибыль')\n",
    "plt.ylim(0.4, 0.6)\n",
    "plt.show()"
   ]
  },
  {
   "cell_type": "markdown",
   "metadata": {},
   "source": [
    "Регион № 2 имеет лучшие показатели, вызвано это тем, что модель из-за \"утечки\" целевого признака раз за разом лучше угадывает 200 лучших месторождений из предложенных 500, а не потому, что в регионе месторождения лучше.\n",
    "\n",
    "**Приоритетным выглядит разработка региона № 1**, так как по сравнению с регионом № 2 имеет:\n",
    "- **бОльшую среднюю прибыль - 0,4259**;\n",
    "- **меньший риск убытков - 0,06** "
   ]
  },
  {
   "cell_type": "markdown",
   "metadata": {},
   "source": [
    "### ОБЩИЕ ВЫВОДЫ\n",
    "1. Мы **обучили модели линейной регрессии** для каждого региона и посчитали **средний запас продукта**:"
   ]
  },
  {
   "cell_type": "code",
   "execution_count": 24,
   "metadata": {},
   "outputs": [
    {
     "data": {
      "text/html": [
       "<div>\n",
       "<style scoped>\n",
       "    .dataframe tbody tr th:only-of-type {\n",
       "        vertical-align: middle;\n",
       "    }\n",
       "\n",
       "    .dataframe tbody tr th {\n",
       "        vertical-align: top;\n",
       "    }\n",
       "\n",
       "    .dataframe thead th {\n",
       "        text-align: right;\n",
       "    }\n",
       "</style>\n",
       "<table border=\"1\" class=\"dataframe\">\n",
       "  <thead>\n",
       "    <tr style=\"text-align: right;\">\n",
       "      <th></th>\n",
       "      <th>Регион</th>\n",
       "      <th>RMSE</th>\n",
       "      <th>Ср. запас</th>\n",
       "    </tr>\n",
       "  </thead>\n",
       "  <tbody>\n",
       "    <tr>\n",
       "      <td>0</td>\n",
       "      <td>1</td>\n",
       "      <td>37.58</td>\n",
       "      <td>92.50</td>\n",
       "    </tr>\n",
       "    <tr>\n",
       "      <td>1</td>\n",
       "      <td>2</td>\n",
       "      <td>0.89</td>\n",
       "      <td>68.83</td>\n",
       "    </tr>\n",
       "    <tr>\n",
       "      <td>2</td>\n",
       "      <td>3</td>\n",
       "      <td>40.03</td>\n",
       "      <td>95.00</td>\n",
       "    </tr>\n",
       "  </tbody>\n",
       "</table>\n",
       "</div>"
      ],
      "text/plain": [
       "  Регион   RMSE  Ср. запас\n",
       "0      1  37.58      92.50\n",
       "1      2   0.89      68.83\n",
       "2      3  40.03      95.00"
      ]
     },
     "execution_count": 24,
     "metadata": {},
     "output_type": "execute_result"
    }
   ],
   "source": [
    "df_rmse_and_mean_prod"
   ]
  },
  {
   "cell_type": "markdown",
   "metadata": {},
   "source": [
    "    - в данных региона №2 произошла \"утечка\" целевого признака, поэтому на будущие предсказания региона полагатсья не стоит;\n",
    "    - в части качества предсказаний лучший результат у региона № 1 - RMSE = 37,58 против 40.03;\n",
    "    - в части среднийх запасов чуть лучший результат показал регион № 3 - 95 против 92,5.\n",
    "\n",
    "2. Определили **необходимый минимальный запас продукта для безубыточной работы - 111.12 барреля**\n",
    "\n",
    "3. По предсказаниям модели **опредилили 200 лучших месторождений** в каждом регионе и почитали **суммарную прибыль и запасы продукта**:"
   ]
  },
  {
   "cell_type": "code",
   "execution_count": 25,
   "metadata": {},
   "outputs": [
    {
     "data": {
      "text/html": [
       "<div>\n",
       "<style scoped>\n",
       "    .dataframe tbody tr th:only-of-type {\n",
       "        vertical-align: middle;\n",
       "    }\n",
       "\n",
       "    .dataframe tbody tr th {\n",
       "        vertical-align: top;\n",
       "    }\n",
       "\n",
       "    .dataframe thead th {\n",
       "        text-align: right;\n",
       "    }\n",
       "</style>\n",
       "<table border=\"1\" class=\"dataframe\">\n",
       "  <thead>\n",
       "    <tr style=\"text-align: right;\">\n",
       "      <th></th>\n",
       "      <th>Регион</th>\n",
       "      <th>Запас, тыс</th>\n",
       "      <th>Прибыль, млрд</th>\n",
       "    </tr>\n",
       "  </thead>\n",
       "  <tbody>\n",
       "    <tr>\n",
       "      <td>0</td>\n",
       "      <td>1</td>\n",
       "      <td>29601.84</td>\n",
       "      <td>3.321</td>\n",
       "    </tr>\n",
       "    <tr>\n",
       "      <td>1</td>\n",
       "      <td>2</td>\n",
       "      <td>27589.08</td>\n",
       "      <td>2.415</td>\n",
       "    </tr>\n",
       "    <tr>\n",
       "      <td>2</td>\n",
       "      <td>3</td>\n",
       "      <td>28245.22</td>\n",
       "      <td>2.710</td>\n",
       "    </tr>\n",
       "  </tbody>\n",
       "</table>\n",
       "</div>"
      ],
      "text/plain": [
       "  Регион  Запас, тыс  Прибыль, млрд\n",
       "0      1    29601.84          3.321\n",
       "1      2    27589.08          2.415\n",
       "2      3    28245.22          2.710"
      ]
     },
     "execution_count": 25,
     "metadata": {},
     "output_type": "execute_result"
    }
   ],
   "source": [
    "df_top"
   ]
  },
  {
   "cell_type": "markdown",
   "metadata": {},
   "source": [
    "4. С помощью метода bootstrap **определили среднюю прибыль и риск убытков**, если \"в боевых условиях\" по предсказаниям модели выбирать 200 месторождений из 500 случайных в каждом регионе:"
   ]
  },
  {
   "cell_type": "code",
   "execution_count": 26,
   "metadata": {},
   "outputs": [
    {
     "data": {
      "text/html": [
       "<div>\n",
       "<style scoped>\n",
       "    .dataframe tbody tr th:only-of-type {\n",
       "        vertical-align: middle;\n",
       "    }\n",
       "\n",
       "    .dataframe tbody tr th {\n",
       "        vertical-align: top;\n",
       "    }\n",
       "\n",
       "    .dataframe thead th {\n",
       "        text-align: right;\n",
       "    }\n",
       "</style>\n",
       "<table border=\"1\" class=\"dataframe\">\n",
       "  <thead>\n",
       "    <tr style=\"text-align: right;\">\n",
       "      <th></th>\n",
       "      <th>Регион</th>\n",
       "      <th>Ср. прибыль</th>\n",
       "      <th>Дов. интервал</th>\n",
       "      <th>Риск убытков</th>\n",
       "    </tr>\n",
       "  </thead>\n",
       "  <tbody>\n",
       "    <tr>\n",
       "      <td>0</td>\n",
       "      <td>1</td>\n",
       "      <td>0.4259</td>\n",
       "      <td>(-0.1, 0.95)</td>\n",
       "      <td>0.060</td>\n",
       "    </tr>\n",
       "    <tr>\n",
       "      <td>1</td>\n",
       "      <td>2</td>\n",
       "      <td>0.5183</td>\n",
       "      <td>(0.13, 0.95)</td>\n",
       "      <td>0.002</td>\n",
       "    </tr>\n",
       "    <tr>\n",
       "      <td>2</td>\n",
       "      <td>3</td>\n",
       "      <td>0.4202</td>\n",
       "      <td>(-0.12, 0.99)</td>\n",
       "      <td>0.061</td>\n",
       "    </tr>\n",
       "  </tbody>\n",
       "</table>\n",
       "</div>"
      ],
      "text/plain": [
       "  Регион  Ср. прибыль  Дов. интервал  Риск убытков\n",
       "0      1       0.4259   (-0.1, 0.95)         0.060\n",
       "1      2       0.5183   (0.13, 0.95)         0.002\n",
       "2      3       0.4202  (-0.12, 0.99)         0.061"
      ]
     },
     "execution_count": 26,
     "metadata": {},
     "output_type": "execute_result"
    }
   ],
   "source": [
    "df_bootstrap"
   ]
  },
  {
   "cell_type": "markdown",
   "metadata": {},
   "source": [
    "Таким образом, свое **внимание стоит сконцентрировать на регионе № 1, так как он имеет лучшие показатели по средней прибыли - 0.4259 млрд. и риску убытков - 0.06** (регион 2 в расчет не берем, так как его показатели условлены некорректными данными).\n",
    "\n",
    "Кроме того, согласно расчетам, **в регионе № 1 у лучших 200 месторождений наибольшие запасы 29601.84 и прибыль 3.321** по сравнению с ТОП-200 скважин других регионов."
   ]
  }
 ],
 "metadata": {
  "kernelspec": {
   "display_name": "Python 3",
   "language": "python",
   "name": "python3"
  },
  "language_info": {
   "codemirror_mode": {
    "name": "ipython",
    "version": 3
   },
   "file_extension": ".py",
   "mimetype": "text/x-python",
   "name": "python",
   "nbconvert_exporter": "python",
   "pygments_lexer": "ipython3",
   "version": "3.7.6"
  }
 },
 "nbformat": 4,
 "nbformat_minor": 2
}
