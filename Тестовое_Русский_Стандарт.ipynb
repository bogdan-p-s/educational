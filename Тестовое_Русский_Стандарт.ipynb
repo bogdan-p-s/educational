{
  "cells": [
    {
      "cell_type": "markdown",
      "metadata": {
        "id": "view-in-github",
        "colab_type": "text"
      },
      "source": [
        "<a href=\"https://colab.research.google.com/github/bogdan-p-s/educational_projects/blob/master/%D0%A2%D0%B5%D1%81%D1%82%D0%BE%D0%B2%D0%BE%D0%B5_%D0%A0%D1%83%D1%81%D1%81%D0%BA%D0%B8%D0%B9_%D0%A1%D1%82%D0%B0%D0%BD%D0%B4%D0%B0%D1%80%D1%82.ipynb\" target=\"_parent\"><img src=\"https://colab.research.google.com/assets/colab-badge.svg\" alt=\"Open In Colab\"/></a>"
      ]
    },
    {
      "cell_type": "markdown",
      "source": [
        "# Задание 1"
      ],
      "metadata": {
        "id": "UdQCZXoLZ5xt"
      }
    },
    {
      "cell_type": "code",
      "execution_count": null,
      "metadata": {
        "colab": {
          "base_uri": "https://localhost:8080/"
        },
        "id": "mm4oDMqwaFo2",
        "outputId": "7926c317-ce9e-42a4-f3be-98cc2934a1b3"
      },
      "outputs": [
        {
          "name": "stdout",
          "output_type": "stream",
          "text": [
            "0.8118751155570006\n",
            "0.8118751155570006\n"
          ]
        }
      ],
      "source": [
        "''' Задание 1\n",
        "всего приборов - 100, бракованных - 5, проверяют 4 случайных. Необходимо найти вероятность того, что не забракуют партию '''\n",
        "\n",
        "# вероятность вытащить исправный\n",
        "p1 = 95/100 \n",
        "p2 = 94/99 # каждый раз снижается количество оставшихся исправных приборов, как и общее количество\n",
        "p3 = 93/98\n",
        "p4 = 92/97\n",
        "\n",
        "P = p1*p2*p3*p4\n",
        "print(P)\n",
        "\n",
        "# или таким способом:\n",
        "import math\n",
        "def f(x):\n",
        "  return math.factorial(x)\n",
        "good = f(95)/(f(4)*f(91))\n",
        "all = f(100)/(f(4)*f(96))\n",
        "\n",
        "print(good/all)"
      ]
    },
    {
      "cell_type": "markdown",
      "source": [
        "# Задание 2"
      ],
      "metadata": {
        "id": "Eb1gOBPg9V6X"
      }
    },
    {
      "cell_type": "code",
      "execution_count": null,
      "metadata": {
        "id": "DkPtZgz5v15S"
      },
      "outputs": [],
      "source": [
        "'''задание 2\n",
        "Моделируется время потраченное на занятия как экспоненциальная величина с неизвестным параметром λ, времена потраченные в разные недели независимые.\n",
        "Время занятий за первые 5 недель: 10 14 18 8 20\n",
        "Найти оценку максимума правдоподобия параметра - λ' \n",
        "n = 5 \n",
        "∑y = 70\n",
        "\n",
        "Плотность вероятностей получения величины:\n",
        "f = П λe^(-λy) # произведения отдельных плотностей от 1 до 5 значений\n",
        "l(λ) = ∑(ln(λ) + (-λy)) = 5 ln(λ)-λ∑y\n",
        "\n",
        "находим производную и приравниваем к 0, чтобы найти экстремум:\n",
        "5/λ' - ∑y = 0\n",
        "λ' = 5/∑y\n",
        "λ' = 5/70\n",
        "'''"
      ]
    },
    {
      "cell_type": "markdown",
      "source": [
        "# Задание 4"
      ],
      "metadata": {
        "id": "H-9m2rVDZ1vz"
      }
    },
    {
      "cell_type": "code",
      "execution_count": null,
      "metadata": {
        "id": "-py6BwsqFCT-"
      },
      "outputs": [],
      "source": [
        "''' Задание 4.\n",
        "Написать код SQL – запроса к таблице данных из задачи 3 (каждая задача решается одним запросом):\n",
        "1)\tКоличество уникальных/неуникальных Client_id.\n",
        "\n",
        "select count(CLIENT_ID) as count_id, count(distinct(CLIENT_ID)) as count_uniq_id\n",
        "from data\n",
        "\n",
        "2)\tПосчитать долю значений целевого признака (target=1) в разрезе категорий образования.\n",
        "-- Доля едениц внутри каждой группы образования\n",
        "with\n",
        "       all_entries as (SELECT EDUCATION, count(*) as count_all FROM data group by EDUCATION),\n",
        "       only_true as (SELECT EDUCATION, count(*) as count_one FROM data group by EDUCATION where Target=1 group by EDUCATION)\n",
        "select all_entries.EDUCATION, count_one, count_all, (count_one*100/count_all) as rate\n",
        "from all_entries join only_true on all_entries.EDUCATION = only_true.EDUCATION\n",
        "\n",
        "-- Доля едениц каждой группы относительно всех групп (сумма=100%)\n",
        "\n",
        "select EDUCATION, (Count(*)* 100/ (select Count(*) from data where Target=1)) as rate\n",
        "From data\n",
        "where Target=1\n",
        "group by EDUCATION\n",
        "\n",
        "3)\tНа сколько в среднем доход семьи заемщиков с Client_id=2n, больше дохода семьи заемщиков с Client_id=2n+1, где n - произвольное целое число.\n",
        "\n",
        "Если я правильно понял, задача сводится к выделению группы четных и нечетных id (кроме id=1, т к отсчет пойдет от 2*1=2)\n",
        "\n",
        "select AVG(PROFIT_FAMILY) - (select avg(PROFIT_FAMILY) FROM data ml where (CLIENT_ID%2=1) and CLIENT_ID!=1)\n",
        "FROM data where (CLIENT_ID%2=0)  and CLIENT_ID!=1\n",
        "'''\n"
      ]
    },
    {
      "cell_type": "markdown",
      "source": [
        "# Задание 5"
      ],
      "metadata": {
        "id": "DblA70pzZsu5"
      }
    },
    {
      "cell_type": "code",
      "source": [
        "data = pd.read_csv('/content/drive/MyDrive/Colab Notebooks/Тестовые/appl_score_sample.csv', sep = ';')\n",
        "\n",
        "# первые 20 строк и только 1 и 5 колонку\n",
        "subset_1 = data.iloc[:, [0,4]].head(20)\n",
        "\n",
        "# Мужчины со стажем > 50 мес:\n",
        "subset_2 = data[(data.SEX==1)&(data.STANDING_IN_MONTHS_LAST>50)]\n",
        "\n",
        "# Общий доход и логарифм от него\n",
        "data['CI'] = data['DCI'] + data['UCI']\n",
        "data['CI_log'] = np.log(data['CI']+1)\n",
        "\n",
        "# Средние доходы по категориям образования\n",
        "CI_by_education = data.pivot_table(index='EDUCATION', values='CI').reset_index()\n",
        "CI_by_education.columns = ['EDUCATION', 'MEAN_CI']\n",
        "\n",
        "# Замена отрицательных значений\n",
        "data.loc[data.TRANSPORT_AMOUNT<0, 'TRANSPORT_AMOUNT'] = data[data.TRANSPORT_AMOUNT>=0].TRANSPORT_AMOUNT.median()"
      ],
      "metadata": {
        "id": "xK6Zwk1O9XaH"
      },
      "execution_count": 58,
      "outputs": []
    },
    {
      "cell_type": "markdown",
      "source": [
        "# Задание 3"
      ],
      "metadata": {
        "id": "rVhy5V0jZxgi"
      }
    },
    {
      "cell_type": "code",
      "execution_count": null,
      "metadata": {
        "colab": {
          "base_uri": "https://localhost:8080/"
        },
        "id": "1Rceoh0T9-Mg",
        "outputId": "8df68253-cc76-4154-dc2d-7ef8e4aa0830"
      },
      "outputs": [
        {
          "output_type": "stream",
          "name": "stdout",
          "text": [
            "Requirement already satisfied: CatBoost in /usr/local/lib/python3.7/dist-packages (1.0.4)\n",
            "Requirement already satisfied: matplotlib in /usr/local/lib/python3.7/dist-packages (from CatBoost) (3.2.2)\n",
            "Requirement already satisfied: plotly in /usr/local/lib/python3.7/dist-packages (from CatBoost) (5.5.0)\n",
            "Requirement already satisfied: pandas>=0.24.0 in /usr/local/lib/python3.7/dist-packages (from CatBoost) (1.1.5)\n",
            "Requirement already satisfied: graphviz in /usr/local/lib/python3.7/dist-packages (from CatBoost) (0.10.1)\n",
            "Requirement already satisfied: scipy in /usr/local/lib/python3.7/dist-packages (from CatBoost) (1.4.1)\n",
            "Requirement already satisfied: numpy>=1.16.0 in /usr/local/lib/python3.7/dist-packages (from CatBoost) (1.19.5)\n",
            "Requirement already satisfied: six in /usr/local/lib/python3.7/dist-packages (from CatBoost) (1.15.0)\n",
            "Requirement already satisfied: python-dateutil>=2.7.3 in /usr/local/lib/python3.7/dist-packages (from pandas>=0.24.0->CatBoost) (2.8.2)\n",
            "Requirement already satisfied: pytz>=2017.2 in /usr/local/lib/python3.7/dist-packages (from pandas>=0.24.0->CatBoost) (2018.9)\n",
            "Requirement already satisfied: kiwisolver>=1.0.1 in /usr/local/lib/python3.7/dist-packages (from matplotlib->CatBoost) (1.3.2)\n",
            "Requirement already satisfied: cycler>=0.10 in /usr/local/lib/python3.7/dist-packages (from matplotlib->CatBoost) (0.11.0)\n",
            "Requirement already satisfied: pyparsing!=2.0.4,!=2.1.2,!=2.1.6,>=2.0.1 in /usr/local/lib/python3.7/dist-packages (from matplotlib->CatBoost) (3.0.7)\n",
            "Requirement already satisfied: tenacity>=6.2.0 in /usr/local/lib/python3.7/dist-packages (from plotly->CatBoost) (8.0.1)\n",
            "Requirement already satisfied: shap in /usr/local/lib/python3.7/dist-packages (0.40.0)\n",
            "Requirement already satisfied: slicer==0.0.7 in /usr/local/lib/python3.7/dist-packages (from shap) (0.0.7)\n",
            "Requirement already satisfied: cloudpickle in /usr/local/lib/python3.7/dist-packages (from shap) (1.3.0)\n",
            "Requirement already satisfied: numpy in /usr/local/lib/python3.7/dist-packages (from shap) (1.19.5)\n",
            "Requirement already satisfied: pandas in /usr/local/lib/python3.7/dist-packages (from shap) (1.1.5)\n",
            "Requirement already satisfied: scikit-learn in /usr/local/lib/python3.7/dist-packages (from shap) (1.0.2)\n",
            "Requirement already satisfied: scipy in /usr/local/lib/python3.7/dist-packages (from shap) (1.4.1)\n",
            "Requirement already satisfied: tqdm>4.25.0 in /usr/local/lib/python3.7/dist-packages (from shap) (4.62.3)\n",
            "Requirement already satisfied: packaging>20.9 in /usr/local/lib/python3.7/dist-packages (from shap) (21.3)\n",
            "Requirement already satisfied: numba in /usr/local/lib/python3.7/dist-packages (from shap) (0.51.2)\n",
            "Requirement already satisfied: pyparsing!=3.0.5,>=2.0.2 in /usr/local/lib/python3.7/dist-packages (from packaging>20.9->shap) (3.0.7)\n",
            "Requirement already satisfied: llvmlite<0.35,>=0.34.0.dev0 in /usr/local/lib/python3.7/dist-packages (from numba->shap) (0.34.0)\n",
            "Requirement already satisfied: setuptools in /usr/local/lib/python3.7/dist-packages (from numba->shap) (57.4.0)\n",
            "Requirement already satisfied: python-dateutil>=2.7.3 in /usr/local/lib/python3.7/dist-packages (from pandas->shap) (2.8.2)\n",
            "Requirement already satisfied: pytz>=2017.2 in /usr/local/lib/python3.7/dist-packages (from pandas->shap) (2018.9)\n",
            "Requirement already satisfied: six>=1.5 in /usr/local/lib/python3.7/dist-packages (from python-dateutil>=2.7.3->pandas->shap) (1.15.0)\n",
            "Requirement already satisfied: joblib>=0.11 in /usr/local/lib/python3.7/dist-packages (from scikit-learn->shap) (1.1.0)\n",
            "Requirement already satisfied: threadpoolctl>=2.0.0 in /usr/local/lib/python3.7/dist-packages (from scikit-learn->shap) (3.0.0)\n"
          ]
        }
      ],
      "source": [
        "''' Задание 3 '''\n",
        "import pandas as pd\n",
        "import numpy as np\n",
        "import matplotlib.pyplot as plt\n",
        "import seaborn as sns\n",
        "\n",
        "from sklearn.model_selection import cross_val_score\n",
        "from sklearn.model_selection import train_test_split\n",
        "from sklearn.preprocessing import StandardScaler\n",
        "\n",
        "from sklearn.linear_model import LogisticRegression\n",
        "from sklearn.tree import DecisionTreeClassifier\n",
        "import lightgbm as lgb\n",
        "!pip install CatBoost\n",
        "from catboost import CatBoostClassifier\n",
        "from sklearn.model_selection import GridSearchCV\n",
        "\n",
        "from sklearn.pipeline import Pipeline\n",
        "#from sklearn.decomposition import PCA\n",
        "\n",
        "from sklearn.metrics import roc_auc_score, accuracy_score\n",
        "\n",
        "!pip install shap\n",
        "import shap\n",
        "\n",
        "SEED = 42"
      ]
    },
    {
      "cell_type": "markdown",
      "metadata": {
        "id": "vN9uRLkTGqYz"
      },
      "source": [
        "- CLIENT_ID\tID клиента \n",
        "- SEX\tпол (0 - женский, 1 - мужской)\n",
        "- CHILD_FLAG\tпризнак наличия детей (1/0-есть/нет) \n",
        "- REALTY_FLAG\tпризнак наличия недвижимости (1/0-есть/нет) \n",
        "- ACCOUNTS_FLAG\tпризнак счета в Банке (1/0-есть/нет)\n",
        "- E_MAIL_FLAG\tпризнак наличия электронной почты (1/0-есть/нет)\n",
        "- DCI\tдоход в руб.\n",
        "- PROFIT_FAMILY\tдоход семьи в руб. \n",
        "- UCI\tдоход по неосновному месту работы в руб. \n",
        "- FOREIGN_PASSPORT_FLAG\tпризнак наличия паспорта (1/0-есть/нет) \n",
        "- STANDING_IN_MONTHS_LAST\tстаж работы на последнем месте работы в мес. \n",
        "- EDUCATION\tобразование \n",
        "- TRANSPORT_AMOUNT\tколичество ТС в собственности\n",
        "- Target\tцелевой признак (который нужно предсказать)\n",
        "\n",
        "EDUCATION\n",
        "- 1 - ученая степень/MBA\n",
        "- 2 - второе высшее\n",
        "- 3 - высшее;\n",
        "- 4 - неоконченное высшее;\n",
        "- 5 - - среднее специальное\n",
        "- 6 - среднее;\n",
        "- 7 - ниже среднего;\n",
        "- -1 - не указано\n"
      ]
    },
    {
      "cell_type": "code",
      "execution_count": null,
      "metadata": {
        "id": "Z1kSG21IDEiI"
      },
      "outputs": [],
      "source": [
        "df = pd.read_csv('/content/drive/MyDrive/Colab Notebooks/Тестовые/appl_score_sample.csv', sep = ';')"
      ]
    },
    {
      "cell_type": "markdown",
      "metadata": {
        "id": "1w3lXy878EyR"
      },
      "source": [
        "#### Общая информация"
      ]
    },
    {
      "cell_type": "code",
      "execution_count": null,
      "metadata": {
        "colab": {
          "base_uri": "https://localhost:8080/"
        },
        "id": "tl3xEJcrDirB",
        "outputId": "67fcdbd4-2500-4755-c204-2ef9fa8f9fc7"
      },
      "outputs": [
        {
          "name": "stdout",
          "output_type": "stream",
          "text": [
            "<class 'pandas.core.frame.DataFrame'>\n",
            "RangeIndex: 2163 entries, 0 to 2162\n",
            "Data columns (total 14 columns):\n",
            " #   Column                   Non-Null Count  Dtype  \n",
            "---  ------                   --------------  -----  \n",
            " 0   CLIENT_ID                2163 non-null   int64  \n",
            " 1   SEX                      2163 non-null   int64  \n",
            " 2   CHILD_FLAG               2163 non-null   int64  \n",
            " 3   REALTY_FLAG              2163 non-null   int64  \n",
            " 4   ACCOUNTS_FLAG            2163 non-null   int64  \n",
            " 5   E_MAIL_FLAG              2163 non-null   int64  \n",
            " 6   DCI                      2163 non-null   float64\n",
            " 7   PROFIT_FAMILY            2163 non-null   float64\n",
            " 8   UCI                      2163 non-null   float64\n",
            " 9   FOREIGN_PASSPORT_FLAG    2163 non-null   int64  \n",
            " 10  STANDING_IN_MONTHS_LAST  2163 non-null   int64  \n",
            " 11  EDUCATION                2163 non-null   int64  \n",
            " 12  TRANSPORT_AMOUNT         2163 non-null   int64  \n",
            " 13  Target                   2163 non-null   int64  \n",
            "dtypes: float64(3), int64(11)\n",
            "memory usage: 236.7 KB\n"
          ]
        }
      ],
      "source": [
        "df.info()"
      ]
    },
    {
      "cell_type": "code",
      "execution_count": null,
      "metadata": {
        "colab": {
          "base_uri": "https://localhost:8080/"
        },
        "id": "PlfEZm7mDjU4",
        "outputId": "4dfce681-3385-4c06-fbf7-338bfba35ea6"
      },
      "outputs": [
        {
          "data": {
            "text/plain": [
              "SEX                        0.0\n",
              "CHILD_FLAG                 0.0\n",
              "REALTY_FLAG                0.0\n",
              "ACCOUNTS_FLAG              0.0\n",
              "E_MAIL_FLAG                0.0\n",
              "DCI                        0.0\n",
              "PROFIT_FAMILY              0.0\n",
              "UCI                        0.0\n",
              "FOREIGN_PASSPORT_FLAG      0.0\n",
              "STANDING_IN_MONTHS_LAST    0.0\n",
              "EDUCATION                  0.0\n",
              "TRANSPORT_AMOUNT           0.0\n",
              "Target                     0.0\n",
              "CI                         0.0\n",
              "CI_log                     0.0\n",
              "profit_family_log          0.0\n",
              "standing_log               0.0\n",
              "dtype: float64"
            ]
          },
          "execution_count": 97,
          "metadata": {},
          "output_type": "execute_result"
        }
      ],
      "source": [
        "df.isna().mean()"
      ]
    },
    {
      "cell_type": "code",
      "execution_count": null,
      "metadata": {
        "colab": {
          "base_uri": "https://localhost:8080/"
        },
        "id": "0EGpng1NF06Z",
        "outputId": "fa427e73-51d8-472d-909a-74382cca6f7d"
      },
      "outputs": [
        {
          "data": {
            "text/plain": [
              "0.5002311604253352"
            ]
          },
          "execution_count": 63,
          "metadata": {},
          "output_type": "execute_result"
        }
      ],
      "source": [
        "df.Target.mean()"
      ]
    },
    {
      "cell_type": "markdown",
      "metadata": {
        "id": "f1hYghbaH41V"
      },
      "source": [
        "Выборка сбалансирована"
      ]
    },
    {
      "cell_type": "markdown",
      "metadata": {
        "id": "1ncCb1kO1zL0"
      },
      "source": [
        "Линейная корреляция признаков:"
      ]
    },
    {
      "cell_type": "code",
      "execution_count": null,
      "metadata": {
        "colab": {
          "base_uri": "https://localhost:8080/",
          "height": 1000
        },
        "id": "R5ekewijzB_C",
        "outputId": "e0458d2f-4bd0-473b-a1f5-fedb553cf3e7"
      },
      "outputs": [
        {
          "data": {
            "image/png": "[encoded data removed]",
            "text/plain": [
              "<Figure size 1080x1080 with 2 Axes>"
            ]
          },
          "metadata": {},
          "output_type": "display_data"
        }
      ],
      "source": [
        "plt.figure(figsize=(15,15))\n",
        "sns.heatmap(df.corr(), cmap='RdYlGn', center=0, annot=True)\n",
        "plt.title('Корреляция признаков', fontsize=22)\n",
        "plt.show()"
      ]
    },
    {
      "cell_type": "markdown",
      "metadata": {
        "id": "M1gWGCTDzCV6"
      },
      "source": [
        "#### CLIENT_ID - высокая отрицательная корреляция этого признака с таргетом вызвана тем, в что в датасете все записи с таргетом = 1 идут первыми по порядку, начиная с 1 CLIENT_ID. Данный признак необходимо удалить"
      ]
    },
    {
      "cell_type": "code",
      "execution_count": null,
      "metadata": {
        "colab": {
          "base_uri": "https://localhost:8080/"
        },
        "id": "-Sz3ALMW-YHo",
        "outputId": "90fbbb00-fd70-4cdc-d20e-e742617c0bab"
      },
      "outputs": [
        {
          "data": {
            "text/plain": [
              "2093    2\n",
              "2047    1\n",
              "1324    1\n",
              "1334    1\n",
              "1332    1\n",
              "       ..\n",
              "617     1\n",
              "619     1\n",
              "621     1\n",
              "623     1\n",
              "2049    1\n",
              "Name: CLIENT_ID, Length: 2162, dtype: int64"
            ]
          },
          "execution_count": 6,
          "metadata": {},
          "output_type": "execute_result"
        }
      ],
      "source": [
        "df.CLIENT_ID.value_counts()"
      ]
    },
    {
      "cell_type": "code",
      "execution_count": null,
      "metadata": {
        "colab": {
          "base_uri": "https://localhost:8080/",
          "height": 112
        },
        "id": "b_3qPQ12-hXQ",
        "outputId": "8a437a24-bdf9-40b2-9ed5-30302c1f7a5d"
      },
      "outputs": [
        {
          "data": {
            "text/html": [
              "\n",
              "  <div id=\"df-174b140b-38ab-402f-998f-3e0e83342930\">\n",
              "    <div class=\"colab-df-container\">\n",
              "      <div>\n",
              "<style scoped>\n",
              "    .dataframe tbody tr th:only-of-type {\n",
              "        vertical-align: middle;\n",
              "    }\n",
              "\n",
              "    .dataframe tbody tr th {\n",
              "        vertical-align: top;\n",
              "    }\n",
              "\n",
              "    .dataframe thead th {\n",
              "        text-align: right;\n",
              "    }\n",
              "</style>\n",
              "<table border=\"1\" class=\"dataframe\">\n",
              "  <thead>\n",
              "    <tr style=\"text-align: right;\">\n",
              "      <th></th>\n",
              "      <th>CLIENT_ID</th>\n",
              "      <th>SEX</th>\n",
              "      <th>CHILD_FLAG</th>\n",
              "      <th>REALTY_FLAG</th>\n",
              "      <th>ACCOUNTS_FLAG</th>\n",
              "      <th>E_MAIL_FLAG</th>\n",
              "      <th>DCI</th>\n",
              "      <th>PROFIT_FAMILY</th>\n",
              "      <th>UCI</th>\n",
              "      <th>FOREIGN_PASSPORT_FLAG</th>\n",
              "      <th>STANDING_IN_MONTHS_LAST</th>\n",
              "      <th>EDUCATION</th>\n",
              "      <th>TRANSPORT_AMOUNT</th>\n",
              "      <th>Target</th>\n",
              "    </tr>\n",
              "  </thead>\n",
              "  <tbody>\n",
              "    <tr>\n",
              "      <th>2092</th>\n",
              "      <td>2093</td>\n",
              "      <td>1</td>\n",
              "      <td>1</td>\n",
              "      <td>0</td>\n",
              "      <td>0</td>\n",
              "      <td>0</td>\n",
              "      <td>25453.1191</td>\n",
              "      <td>30453.1191</td>\n",
              "      <td>5000.0</td>\n",
              "      <td>0</td>\n",
              "      <td>35</td>\n",
              "      <td>5</td>\n",
              "      <td>0</td>\n",
              "      <td>0</td>\n",
              "    </tr>\n",
              "    <tr>\n",
              "      <th>2093</th>\n",
              "      <td>2093</td>\n",
              "      <td>1</td>\n",
              "      <td>1</td>\n",
              "      <td>0</td>\n",
              "      <td>0</td>\n",
              "      <td>0</td>\n",
              "      <td>25453.1191</td>\n",
              "      <td>30453.1191</td>\n",
              "      <td>5000.0</td>\n",
              "      <td>0</td>\n",
              "      <td>35</td>\n",
              "      <td>5</td>\n",
              "      <td>0</td>\n",
              "      <td>1</td>\n",
              "    </tr>\n",
              "  </tbody>\n",
              "</table>\n",
              "</div>\n",
              "      <button class=\"colab-df-convert\" onclick=\"convertToInteractive('df-174b140b-38ab-402f-998f-3e0e83342930')\"\n",
              "              title=\"Convert this dataframe to an interactive table.\"\n",
              "              style=\"display:none;\">\n",
              "        \n",
              "  <svg xmlns=\"http://www.w3.org/2000/svg\" height=\"24px\"viewBox=\"0 0 24 24\"\n",
              "       width=\"24px\">\n",
              "    <path d=\"M0 0h24v24H0V0z\" fill=\"none\"/>\n",
              "    <path d=\"M18.56 5.44l.94 2.06.94-2.06 2.06-.94-2.06-.94-.94-2.06-.94 2.06-2.06.94zm-11 1L8.5 8.5l.94-2.06 2.06-.94-2.06-.94L8.5 2.5l-.94 2.06-2.06.94zm10 10l.94 2.06.94-2.06 2.06-.94-2.06-.94-.94-2.06-.94 2.06-2.06.94z\"/><path d=\"M17.41 7.96l-1.37-1.37c-.4-.4-.92-.59-1.43-.59-.52 0-1.04.2-1.43.59L10.3 9.45l-7.72 7.72c-.78.78-.78 2.05 0 2.83L4 21.41c.39.39.9.59 1.41.59.51 0 1.02-.2 1.41-.59l7.78-7.78 2.81-2.81c.8-.78.8-2.07 0-2.86zM5.41 20L4 18.59l7.72-7.72 1.47 1.35L5.41 20z\"/>\n",
              "  </svg>\n",
              "      </button>\n",
              "      \n",
              "  <style>\n",
              "    .colab-df-container {\n",
              "      display:flex;\n",
              "      flex-wrap:wrap;\n",
              "      gap: 12px;\n",
              "    }\n",
              "\n",
              "    .colab-df-convert {\n",
              "      background-color: #E8F0FE;\n",
              "      border: none;\n",
              "      border-radius: 50%;\n",
              "      cursor: pointer;\n",
              "      display: none;\n",
              "      fill: #1967D2;\n",
              "      height: 32px;\n",
              "      padding: 0 0 0 0;\n",
              "      width: 32px;\n",
              "    }\n",
              "\n",
              "    .colab-df-convert:hover {\n",
              "      background-color: #E2EBFA;\n",
              "      box-shadow: 0px 1px 2px rgba(60, 64, 67, 0.3), 0px 1px 3px 1px rgba(60, 64, 67, 0.15);\n",
              "      fill: #174EA6;\n",
              "    }\n",
              "\n",
              "    [theme=dark] .colab-df-convert {\n",
              "      background-color: #3B4455;\n",
              "      fill: #D2E3FC;\n",
              "    }\n",
              "\n",
              "    [theme=dark] .colab-df-convert:hover {\n",
              "      background-color: #434B5C;\n",
              "      box-shadow: 0px 1px 3px 1px rgba(0, 0, 0, 0.15);\n",
              "      filter: drop-shadow(0px 1px 2px rgba(0, 0, 0, 0.3));\n",
              "      fill: #FFFFFF;\n",
              "    }\n",
              "  </style>\n",
              "\n",
              "      <script>\n",
              "        const buttonEl =\n",
              "          document.querySelector('#df-174b140b-38ab-402f-998f-3e0e83342930 button.colab-df-convert');\n",
              "        buttonEl.style.display =\n",
              "          google.colab.kernel.accessAllowed ? 'block' : 'none';\n",
              "\n",
              "        async function convertToInteractive(key) {\n",
              "          const element = document.querySelector('#df-174b140b-38ab-402f-998f-3e0e83342930');\n",
              "          const dataTable =\n",
              "            await google.colab.kernel.invokeFunction('convertToInteractive',\n",
              "                                                     [key], {});\n",
              "          if (!dataTable) return;\n",
              "\n",
              "          const docLinkHtml = 'Like what you see? Visit the ' +\n",
              "            '<a target=\"_blank\" href=https://colab.research.google.com/notebooks/data_table.ipynb>data table notebook</a>'\n",
              "            + ' to learn more about interactive tables.';\n",
              "          element.innerHTML = '';\n",
              "          dataTable['output_type'] = 'display_data';\n",
              "          await google.colab.output.renderOutput(dataTable, element);\n",
              "          const docLink = document.createElement('div');\n",
              "          docLink.innerHTML = docLinkHtml;\n",
              "          element.appendChild(docLink);\n",
              "        }\n",
              "      </script>\n",
              "    </div>\n",
              "  </div>\n",
              "  "
            ],
            "text/plain": [
              "      CLIENT_ID  SEX  CHILD_FLAG  ...  EDUCATION  TRANSPORT_AMOUNT  Target\n",
              "2092       2093    1           1  ...          5                 0       0\n",
              "2093       2093    1           1  ...          5                 0       1\n",
              "\n",
              "[2 rows x 14 columns]"
            ]
          },
          "execution_count": 7,
          "metadata": {},
          "output_type": "execute_result"
        }
      ],
      "source": [
        "df[df.CLIENT_ID==2093]"
      ]
    },
    {
      "cell_type": "markdown",
      "metadata": {
        "id": "EWDwxeFg-rgz"
      },
      "source": [
        "Т.к. логика наполнения базы данных неизвестна (скорее всего это ошибка, т к, если бы клиент обращался дважды в разное время, что объяснило бы задвоение записи, но в этом случае был бы разный стаж), удалим данные с этим id "
      ]
    },
    {
      "cell_type": "code",
      "execution_count": null,
      "metadata": {
        "id": "24KYePL8zRlq"
      },
      "outputs": [],
      "source": [
        "df = df[df['CLIENT_ID']!=2093].copy()\n",
        "df = df.drop('CLIENT_ID', axis=1)"
      ]
    },
    {
      "cell_type": "markdown",
      "metadata": {
        "id": "q7w9D4gFwK1e"
      },
      "source": [
        "#### SEX и CHILD_FLAG"
      ]
    },
    {
      "cell_type": "code",
      "execution_count": null,
      "metadata": {
        "colab": {
          "base_uri": "https://localhost:8080/"
        },
        "id": "yMUzd0gOwKJS",
        "outputId": "5514cf33-2def-44d9-fe2f-501226849c75"
      },
      "outputs": [
        {
          "data": {
            "text/html": [
              "\n",
              "  <div id=\"df-24e4ea73-b706-44cc-9b91-d48550739796\">\n",
              "    <div class=\"colab-df-container\">\n",
              "      <div>\n",
              "<style scoped>\n",
              "    .dataframe tbody tr th:only-of-type {\n",
              "        vertical-align: middle;\n",
              "    }\n",
              "\n",
              "    .dataframe tbody tr th {\n",
              "        vertical-align: top;\n",
              "    }\n",
              "\n",
              "    .dataframe thead th {\n",
              "        text-align: right;\n",
              "    }\n",
              "</style>\n",
              "<table border=\"1\" class=\"dataframe\">\n",
              "  <thead>\n",
              "    <tr style=\"text-align: right;\">\n",
              "      <th></th>\n",
              "      <th>count</th>\n",
              "      <th>mean</th>\n",
              "    </tr>\n",
              "    <tr>\n",
              "      <th>SEX</th>\n",
              "      <th></th>\n",
              "      <th></th>\n",
              "    </tr>\n",
              "  </thead>\n",
              "  <tbody>\n",
              "    <tr>\n",
              "      <th>0</th>\n",
              "      <td>1098.0</td>\n",
              "      <td>0.444444</td>\n",
              "    </tr>\n",
              "    <tr>\n",
              "      <th>1</th>\n",
              "      <td>1063.0</td>\n",
              "      <td>0.557855</td>\n",
              "    </tr>\n",
              "  </tbody>\n",
              "</table>\n",
              "</div>\n",
              "      <button class=\"colab-df-convert\" onclick=\"convertToInteractive('df-24e4ea73-b706-44cc-9b91-d48550739796')\"\n",
              "              title=\"Convert this dataframe to an interactive table.\"\n",
              "              style=\"display:none;\">\n",
              "        \n",
              "  <svg xmlns=\"http://www.w3.org/2000/svg\" height=\"24px\"viewBox=\"0 0 24 24\"\n",
              "       width=\"24px\">\n",
              "    <path d=\"M0 0h24v24H0V0z\" fill=\"none\"/>\n",
              "    <path d=\"M18.56 5.44l.94 2.06.94-2.06 2.06-.94-2.06-.94-.94-2.06-.94 2.06-2.06.94zm-11 1L8.5 8.5l.94-2.06 2.06-.94-2.06-.94L8.5 2.5l-.94 2.06-2.06.94zm10 10l.94 2.06.94-2.06 2.06-.94-2.06-.94-.94-2.06-.94 2.06-2.06.94z\"/><path d=\"M17.41 7.96l-1.37-1.37c-.4-.4-.92-.59-1.43-.59-.52 0-1.04.2-1.43.59L10.3 9.45l-7.72 7.72c-.78.78-.78 2.05 0 2.83L4 21.41c.39.39.9.59 1.41.59.51 0 1.02-.2 1.41-.59l7.78-7.78 2.81-2.81c.8-.78.8-2.07 0-2.86zM5.41 20L4 18.59l7.72-7.72 1.47 1.35L5.41 20z\"/>\n",
              "  </svg>\n",
              "      </button>\n",
              "      \n",
              "  <style>\n",
              "    .colab-df-container {\n",
              "      display:flex;\n",
              "      flex-wrap:wrap;\n",
              "      gap: 12px;\n",
              "    }\n",
              "\n",
              "    .colab-df-convert {\n",
              "      background-color: #E8F0FE;\n",
              "      border: none;\n",
              "      border-radius: 50%;\n",
              "      cursor: pointer;\n",
              "      display: none;\n",
              "      fill: #1967D2;\n",
              "      height: 32px;\n",
              "      padding: 0 0 0 0;\n",
              "      width: 32px;\n",
              "    }\n",
              "\n",
              "    .colab-df-convert:hover {\n",
              "      background-color: #E2EBFA;\n",
              "      box-shadow: 0px 1px 2px rgba(60, 64, 67, 0.3), 0px 1px 3px 1px rgba(60, 64, 67, 0.15);\n",
              "      fill: #174EA6;\n",
              "    }\n",
              "\n",
              "    [theme=dark] .colab-df-convert {\n",
              "      background-color: #3B4455;\n",
              "      fill: #D2E3FC;\n",
              "    }\n",
              "\n",
              "    [theme=dark] .colab-df-convert:hover {\n",
              "      background-color: #434B5C;\n",
              "      box-shadow: 0px 1px 3px 1px rgba(0, 0, 0, 0.15);\n",
              "      filter: drop-shadow(0px 1px 2px rgba(0, 0, 0, 0.3));\n",
              "      fill: #FFFFFF;\n",
              "    }\n",
              "  </style>\n",
              "\n",
              "      <script>\n",
              "        const buttonEl =\n",
              "          document.querySelector('#df-24e4ea73-b706-44cc-9b91-d48550739796 button.colab-df-convert');\n",
              "        buttonEl.style.display =\n",
              "          google.colab.kernel.accessAllowed ? 'block' : 'none';\n",
              "\n",
              "        async function convertToInteractive(key) {\n",
              "          const element = document.querySelector('#df-24e4ea73-b706-44cc-9b91-d48550739796');\n",
              "          const dataTable =\n",
              "            await google.colab.kernel.invokeFunction('convertToInteractive',\n",
              "                                                     [key], {});\n",
              "          if (!dataTable) return;\n",
              "\n",
              "          const docLinkHtml = 'Like what you see? Visit the ' +\n",
              "            '<a target=\"_blank\" href=https://colab.research.google.com/notebooks/data_table.ipynb>data table notebook</a>'\n",
              "            + ' to learn more about interactive tables.';\n",
              "          element.innerHTML = '';\n",
              "          dataTable['output_type'] = 'display_data';\n",
              "          await google.colab.output.renderOutput(dataTable, element);\n",
              "          const docLink = document.createElement('div');\n",
              "          docLink.innerHTML = docLinkHtml;\n",
              "          element.appendChild(docLink);\n",
              "        }\n",
              "      </script>\n",
              "    </div>\n",
              "  </div>\n",
              "  "
            ],
            "text/plain": [
              "      count      mean\n",
              "SEX                  \n",
              "0    1098.0  0.444444\n",
              "1    1063.0  0.557855"
            ]
          },
          "execution_count": 9,
          "metadata": {},
          "output_type": "execute_result"
        }
      ],
      "source": [
        "df.pivot_table(index='SEX', values='Target', aggfunc=('count', 'mean'))"
      ]
    },
    {
      "cell_type": "code",
      "execution_count": null,
      "metadata": {
        "colab": {
          "base_uri": "https://localhost:8080/"
        },
        "id": "fNOP_r8ywKL1",
        "outputId": "00c7b53f-1dcc-470b-8f37-bee4e7595ac6"
      },
      "outputs": [
        {
          "data": {
            "text/html": [
              "\n",
              "  <div id=\"df-0c339737-d7e6-4d25-a007-52087f133fe2\">\n",
              "    <div class=\"colab-df-container\">\n",
              "      <div>\n",
              "<style scoped>\n",
              "    .dataframe tbody tr th:only-of-type {\n",
              "        vertical-align: middle;\n",
              "    }\n",
              "\n",
              "    .dataframe tbody tr th {\n",
              "        vertical-align: top;\n",
              "    }\n",
              "\n",
              "    .dataframe thead th {\n",
              "        text-align: right;\n",
              "    }\n",
              "</style>\n",
              "<table border=\"1\" class=\"dataframe\">\n",
              "  <thead>\n",
              "    <tr style=\"text-align: right;\">\n",
              "      <th></th>\n",
              "      <th>count</th>\n",
              "      <th>mean</th>\n",
              "    </tr>\n",
              "    <tr>\n",
              "      <th>CHILD_FLAG</th>\n",
              "      <th></th>\n",
              "      <th></th>\n",
              "    </tr>\n",
              "  </thead>\n",
              "  <tbody>\n",
              "    <tr>\n",
              "      <th>-1</th>\n",
              "      <td>2.0</td>\n",
              "      <td>0.500000</td>\n",
              "    </tr>\n",
              "    <tr>\n",
              "      <th>0</th>\n",
              "      <td>1042.0</td>\n",
              "      <td>0.592131</td>\n",
              "    </tr>\n",
              "    <tr>\n",
              "      <th>1</th>\n",
              "      <td>1117.0</td>\n",
              "      <td>0.414503</td>\n",
              "    </tr>\n",
              "  </tbody>\n",
              "</table>\n",
              "</div>\n",
              "      <button class=\"colab-df-convert\" onclick=\"convertToInteractive('df-0c339737-d7e6-4d25-a007-52087f133fe2')\"\n",
              "              title=\"Convert this dataframe to an interactive table.\"\n",
              "              style=\"display:none;\">\n",
              "        \n",
              "  <svg xmlns=\"http://www.w3.org/2000/svg\" height=\"24px\"viewBox=\"0 0 24 24\"\n",
              "       width=\"24px\">\n",
              "    <path d=\"M0 0h24v24H0V0z\" fill=\"none\"/>\n",
              "    <path d=\"M18.56 5.44l.94 2.06.94-2.06 2.06-.94-2.06-.94-.94-2.06-.94 2.06-2.06.94zm-11 1L8.5 8.5l.94-2.06 2.06-.94-2.06-.94L8.5 2.5l-.94 2.06-2.06.94zm10 10l.94 2.06.94-2.06 2.06-.94-2.06-.94-.94-2.06-.94 2.06-2.06.94z\"/><path d=\"M17.41 7.96l-1.37-1.37c-.4-.4-.92-.59-1.43-.59-.52 0-1.04.2-1.43.59L10.3 9.45l-7.72 7.72c-.78.78-.78 2.05 0 2.83L4 21.41c.39.39.9.59 1.41.59.51 0 1.02-.2 1.41-.59l7.78-7.78 2.81-2.81c.8-.78.8-2.07 0-2.86zM5.41 20L4 18.59l7.72-7.72 1.47 1.35L5.41 20z\"/>\n",
              "  </svg>\n",
              "      </button>\n",
              "      \n",
              "  <style>\n",
              "    .colab-df-container {\n",
              "      display:flex;\n",
              "      flex-wrap:wrap;\n",
              "      gap: 12px;\n",
              "    }\n",
              "\n",
              "    .colab-df-convert {\n",
              "      background-color: #E8F0FE;\n",
              "      border: none;\n",
              "      border-radius: 50%;\n",
              "      cursor: pointer;\n",
              "      display: none;\n",
              "      fill: #1967D2;\n",
              "      height: 32px;\n",
              "      padding: 0 0 0 0;\n",
              "      width: 32px;\n",
              "    }\n",
              "\n",
              "    .colab-df-convert:hover {\n",
              "      background-color: #E2EBFA;\n",
              "      box-shadow: 0px 1px 2px rgba(60, 64, 67, 0.3), 0px 1px 3px 1px rgba(60, 64, 67, 0.15);\n",
              "      fill: #174EA6;\n",
              "    }\n",
              "\n",
              "    [theme=dark] .colab-df-convert {\n",
              "      background-color: #3B4455;\n",
              "      fill: #D2E3FC;\n",
              "    }\n",
              "\n",
              "    [theme=dark] .colab-df-convert:hover {\n",
              "      background-color: #434B5C;\n",
              "      box-shadow: 0px 1px 3px 1px rgba(0, 0, 0, 0.15);\n",
              "      filter: drop-shadow(0px 1px 2px rgba(0, 0, 0, 0.3));\n",
              "      fill: #FFFFFF;\n",
              "    }\n",
              "  </style>\n",
              "\n",
              "      <script>\n",
              "        const buttonEl =\n",
              "          document.querySelector('#df-0c339737-d7e6-4d25-a007-52087f133fe2 button.colab-df-convert');\n",
              "        buttonEl.style.display =\n",
              "          google.colab.kernel.accessAllowed ? 'block' : 'none';\n",
              "\n",
              "        async function convertToInteractive(key) {\n",
              "          const element = document.querySelector('#df-0c339737-d7e6-4d25-a007-52087f133fe2');\n",
              "          const dataTable =\n",
              "            await google.colab.kernel.invokeFunction('convertToInteractive',\n",
              "                                                     [key], {});\n",
              "          if (!dataTable) return;\n",
              "\n",
              "          const docLinkHtml = 'Like what you see? Visit the ' +\n",
              "            '<a target=\"_blank\" href=https://colab.research.google.com/notebooks/data_table.ipynb>data table notebook</a>'\n",
              "            + ' to learn more about interactive tables.';\n",
              "          element.innerHTML = '';\n",
              "          dataTable['output_type'] = 'display_data';\n",
              "          await google.colab.output.renderOutput(dataTable, element);\n",
              "          const docLink = document.createElement('div');\n",
              "          docLink.innerHTML = docLinkHtml;\n",
              "          element.appendChild(docLink);\n",
              "        }\n",
              "      </script>\n",
              "    </div>\n",
              "  </div>\n",
              "  "
            ],
            "text/plain": [
              "             count      mean\n",
              "CHILD_FLAG                  \n",
              "-1             2.0  0.500000\n",
              " 0          1042.0  0.592131\n",
              " 1          1117.0  0.414503"
            ]
          },
          "execution_count": 10,
          "metadata": {},
          "output_type": "execute_result"
        }
      ],
      "source": [
        "df.pivot_table(index='CHILD_FLAG', values='Target', aggfunc=('count', 'mean'))"
      ]
    },
    {
      "cell_type": "code",
      "execution_count": null,
      "metadata": {
        "colab": {
          "base_uri": "https://localhost:8080/",
          "height": 143
        },
        "id": "grLFuIs2lkuv",
        "outputId": "502fed5e-d7c8-4b67-e620-6e0659476893"
      },
      "outputs": [
        {
          "output_type": "execute_result",
          "data": {
            "text/html": [
              "\n",
              "  <div id=\"df-efa79215-fec6-49a6-a95d-8caba4b9fb9e\">\n",
              "    <div class=\"colab-df-container\">\n",
              "      <div>\n",
              "<style scoped>\n",
              "    .dataframe tbody tr th:only-of-type {\n",
              "        vertical-align: middle;\n",
              "    }\n",
              "\n",
              "    .dataframe tbody tr th {\n",
              "        vertical-align: top;\n",
              "    }\n",
              "\n",
              "    .dataframe thead th {\n",
              "        text-align: right;\n",
              "    }\n",
              "</style>\n",
              "<table border=\"1\" class=\"dataframe\">\n",
              "  <thead>\n",
              "    <tr style=\"text-align: right;\">\n",
              "      <th></th>\n",
              "      <th>count</th>\n",
              "      <th>mean</th>\n",
              "    </tr>\n",
              "    <tr>\n",
              "      <th>CHILD_FLAG</th>\n",
              "      <th></th>\n",
              "      <th></th>\n",
              "    </tr>\n",
              "  </thead>\n",
              "  <tbody>\n",
              "    <tr>\n",
              "      <th>0</th>\n",
              "      <td>1042.0</td>\n",
              "      <td>0.592131</td>\n",
              "    </tr>\n",
              "    <tr>\n",
              "      <th>1</th>\n",
              "      <td>1117.0</td>\n",
              "      <td>0.414503</td>\n",
              "    </tr>\n",
              "  </tbody>\n",
              "</table>\n",
              "</div>\n",
              "      <button class=\"colab-df-convert\" onclick=\"convertToInteractive('df-efa79215-fec6-49a6-a95d-8caba4b9fb9e')\"\n",
              "              title=\"Convert this dataframe to an interactive table.\"\n",
              "              style=\"display:none;\">\n",
              "        \n",
              "  <svg xmlns=\"http://www.w3.org/2000/svg\" height=\"24px\"viewBox=\"0 0 24 24\"\n",
              "       width=\"24px\">\n",
              "    <path d=\"M0 0h24v24H0V0z\" fill=\"none\"/>\n",
              "    <path d=\"M18.56 5.44l.94 2.06.94-2.06 2.06-.94-2.06-.94-.94-2.06-.94 2.06-2.06.94zm-11 1L8.5 8.5l.94-2.06 2.06-.94-2.06-.94L8.5 2.5l-.94 2.06-2.06.94zm10 10l.94 2.06.94-2.06 2.06-.94-2.06-.94-.94-2.06-.94 2.06-2.06.94z\"/><path d=\"M17.41 7.96l-1.37-1.37c-.4-.4-.92-.59-1.43-.59-.52 0-1.04.2-1.43.59L10.3 9.45l-7.72 7.72c-.78.78-.78 2.05 0 2.83L4 21.41c.39.39.9.59 1.41.59.51 0 1.02-.2 1.41-.59l7.78-7.78 2.81-2.81c.8-.78.8-2.07 0-2.86zM5.41 20L4 18.59l7.72-7.72 1.47 1.35L5.41 20z\"/>\n",
              "  </svg>\n",
              "      </button>\n",
              "      \n",
              "  <style>\n",
              "    .colab-df-container {\n",
              "      display:flex;\n",
              "      flex-wrap:wrap;\n",
              "      gap: 12px;\n",
              "    }\n",
              "\n",
              "    .colab-df-convert {\n",
              "      background-color: #E8F0FE;\n",
              "      border: none;\n",
              "      border-radius: 50%;\n",
              "      cursor: pointer;\n",
              "      display: none;\n",
              "      fill: #1967D2;\n",
              "      height: 32px;\n",
              "      padding: 0 0 0 0;\n",
              "      width: 32px;\n",
              "    }\n",
              "\n",
              "    .colab-df-convert:hover {\n",
              "      background-color: #E2EBFA;\n",
              "      box-shadow: 0px 1px 2px rgba(60, 64, 67, 0.3), 0px 1px 3px 1px rgba(60, 64, 67, 0.15);\n",
              "      fill: #174EA6;\n",
              "    }\n",
              "\n",
              "    [theme=dark] .colab-df-convert {\n",
              "      background-color: #3B4455;\n",
              "      fill: #D2E3FC;\n",
              "    }\n",
              "\n",
              "    [theme=dark] .colab-df-convert:hover {\n",
              "      background-color: #434B5C;\n",
              "      box-shadow: 0px 1px 3px 1px rgba(0, 0, 0, 0.15);\n",
              "      filter: drop-shadow(0px 1px 2px rgba(0, 0, 0, 0.3));\n",
              "      fill: #FFFFFF;\n",
              "    }\n",
              "  </style>\n",
              "\n",
              "      <script>\n",
              "        const buttonEl =\n",
              "          document.querySelector('#df-efa79215-fec6-49a6-a95d-8caba4b9fb9e button.colab-df-convert');\n",
              "        buttonEl.style.display =\n",
              "          google.colab.kernel.accessAllowed ? 'block' : 'none';\n",
              "\n",
              "        async function convertToInteractive(key) {\n",
              "          const element = document.querySelector('#df-efa79215-fec6-49a6-a95d-8caba4b9fb9e');\n",
              "          const dataTable =\n",
              "            await google.colab.kernel.invokeFunction('convertToInteractive',\n",
              "                                                     [key], {});\n",
              "          if (!dataTable) return;\n",
              "\n",
              "          const docLinkHtml = 'Like what you see? Visit the ' +\n",
              "            '<a target=\"_blank\" href=https://colab.research.google.com/notebooks/data_table.ipynb>data table notebook</a>'\n",
              "            + ' to learn more about interactive tables.';\n",
              "          element.innerHTML = '';\n",
              "          dataTable['output_type'] = 'display_data';\n",
              "          await google.colab.output.renderOutput(dataTable, element);\n",
              "          const docLink = document.createElement('div');\n",
              "          docLink.innerHTML = docLinkHtml;\n",
              "          element.appendChild(docLink);\n",
              "        }\n",
              "      </script>\n",
              "    </div>\n",
              "  </div>\n",
              "  "
            ],
            "text/plain": [
              "             count      mean\n",
              "CHILD_FLAG                  \n",
              "0           1042.0  0.592131\n",
              "1           1117.0  0.414503"
            ]
          },
          "metadata": {},
          "execution_count": 21
        }
      ],
      "source": [
        "# так как записей с отрицательным значением всего 2, удалим их\n",
        "df = df[df.CHILD_FLAG>=0].copy()\n",
        "\n",
        "df.pivot_table(index='CHILD_FLAG', values='Target', aggfunc=('count', 'mean'))"
      ]
    },
    {
      "cell_type": "markdown",
      "metadata": {
        "id": "pOIbd4UUyMuk"
      },
      "source": [
        "Клиенты с детьми более ответственные, судя по всему"
      ]
    },
    {
      "cell_type": "markdown",
      "metadata": {
        "id": "MXyXMEKyllZj"
      },
      "source": [
        "EDUCATION - образование\n",
        "- 1 - ученая степень/MBA\n",
        "- 2 - второе высшее\n",
        "- 3 - высшее;\n",
        "- 4 - неоконченное высшее;\n",
        "- 5 - - среднее специальное\n",
        "- 6 - среднее;\n",
        "- 7 - ниже среднего;\n",
        "- -1 - не указано"
      ]
    },
    {
      "cell_type": "code",
      "execution_count": null,
      "metadata": {
        "colab": {
          "base_uri": "https://localhost:8080/"
        },
        "id": "dYr_n9YAmApl",
        "outputId": "534247da-d4df-4a26-820c-44966043c875"
      },
      "outputs": [
        {
          "data": {
            "text/html": [
              "\n",
              "  <div id=\"df-da289a11-0251-4c54-95e3-29f0e04d9dae\">\n",
              "    <div class=\"colab-df-container\">\n",
              "      <div>\n",
              "<style scoped>\n",
              "    .dataframe tbody tr th:only-of-type {\n",
              "        vertical-align: middle;\n",
              "    }\n",
              "\n",
              "    .dataframe tbody tr th {\n",
              "        vertical-align: top;\n",
              "    }\n",
              "\n",
              "    .dataframe thead th {\n",
              "        text-align: right;\n",
              "    }\n",
              "</style>\n",
              "<table border=\"1\" class=\"dataframe\">\n",
              "  <thead>\n",
              "    <tr style=\"text-align: right;\">\n",
              "      <th></th>\n",
              "      <th>count</th>\n",
              "      <th>mean</th>\n",
              "    </tr>\n",
              "    <tr>\n",
              "      <th>EDUCATION</th>\n",
              "      <th></th>\n",
              "      <th></th>\n",
              "    </tr>\n",
              "  </thead>\n",
              "  <tbody>\n",
              "    <tr>\n",
              "      <th>1</th>\n",
              "      <td>7.0</td>\n",
              "      <td>0.285714</td>\n",
              "    </tr>\n",
              "    <tr>\n",
              "      <th>2</th>\n",
              "      <td>40.0</td>\n",
              "      <td>0.325000</td>\n",
              "    </tr>\n",
              "    <tr>\n",
              "      <th>3</th>\n",
              "      <td>678.0</td>\n",
              "      <td>0.327434</td>\n",
              "    </tr>\n",
              "    <tr>\n",
              "      <th>4</th>\n",
              "      <td>264.0</td>\n",
              "      <td>0.704545</td>\n",
              "    </tr>\n",
              "    <tr>\n",
              "      <th>5</th>\n",
              "      <td>808.0</td>\n",
              "      <td>0.517327</td>\n",
              "    </tr>\n",
              "    <tr>\n",
              "      <th>6</th>\n",
              "      <td>352.0</td>\n",
              "      <td>0.656250</td>\n",
              "    </tr>\n",
              "    <tr>\n",
              "      <th>7</th>\n",
              "      <td>10.0</td>\n",
              "      <td>0.800000</td>\n",
              "    </tr>\n",
              "  </tbody>\n",
              "</table>\n",
              "</div>\n",
              "      <button class=\"colab-df-convert\" onclick=\"convertToInteractive('df-da289a11-0251-4c54-95e3-29f0e04d9dae')\"\n",
              "              title=\"Convert this dataframe to an interactive table.\"\n",
              "              style=\"display:none;\">\n",
              "        \n",
              "  <svg xmlns=\"http://www.w3.org/2000/svg\" height=\"24px\"viewBox=\"0 0 24 24\"\n",
              "       width=\"24px\">\n",
              "    <path d=\"M0 0h24v24H0V0z\" fill=\"none\"/>\n",
              "    <path d=\"M18.56 5.44l.94 2.06.94-2.06 2.06-.94-2.06-.94-.94-2.06-.94 2.06-2.06.94zm-11 1L8.5 8.5l.94-2.06 2.06-.94-2.06-.94L8.5 2.5l-.94 2.06-2.06.94zm10 10l.94 2.06.94-2.06 2.06-.94-2.06-.94-.94-2.06-.94 2.06-2.06.94z\"/><path d=\"M17.41 7.96l-1.37-1.37c-.4-.4-.92-.59-1.43-.59-.52 0-1.04.2-1.43.59L10.3 9.45l-7.72 7.72c-.78.78-.78 2.05 0 2.83L4 21.41c.39.39.9.59 1.41.59.51 0 1.02-.2 1.41-.59l7.78-7.78 2.81-2.81c.8-.78.8-2.07 0-2.86zM5.41 20L4 18.59l7.72-7.72 1.47 1.35L5.41 20z\"/>\n",
              "  </svg>\n",
              "      </button>\n",
              "      \n",
              "  <style>\n",
              "    .colab-df-container {\n",
              "      display:flex;\n",
              "      flex-wrap:wrap;\n",
              "      gap: 12px;\n",
              "    }\n",
              "\n",
              "    .colab-df-convert {\n",
              "      background-color: #E8F0FE;\n",
              "      border: none;\n",
              "      border-radius: 50%;\n",
              "      cursor: pointer;\n",
              "      display: none;\n",
              "      fill: #1967D2;\n",
              "      height: 32px;\n",
              "      padding: 0 0 0 0;\n",
              "      width: 32px;\n",
              "    }\n",
              "\n",
              "    .colab-df-convert:hover {\n",
              "      background-color: #E2EBFA;\n",
              "      box-shadow: 0px 1px 2px rgba(60, 64, 67, 0.3), 0px 1px 3px 1px rgba(60, 64, 67, 0.15);\n",
              "      fill: #174EA6;\n",
              "    }\n",
              "\n",
              "    [theme=dark] .colab-df-convert {\n",
              "      background-color: #3B4455;\n",
              "      fill: #D2E3FC;\n",
              "    }\n",
              "\n",
              "    [theme=dark] .colab-df-convert:hover {\n",
              "      background-color: #434B5C;\n",
              "      box-shadow: 0px 1px 3px 1px rgba(0, 0, 0, 0.15);\n",
              "      filter: drop-shadow(0px 1px 2px rgba(0, 0, 0, 0.3));\n",
              "      fill: #FFFFFF;\n",
              "    }\n",
              "  </style>\n",
              "\n",
              "      <script>\n",
              "        const buttonEl =\n",
              "          document.querySelector('#df-da289a11-0251-4c54-95e3-29f0e04d9dae button.colab-df-convert');\n",
              "        buttonEl.style.display =\n",
              "          google.colab.kernel.accessAllowed ? 'block' : 'none';\n",
              "\n",
              "        async function convertToInteractive(key) {\n",
              "          const element = document.querySelector('#df-da289a11-0251-4c54-95e3-29f0e04d9dae');\n",
              "          const dataTable =\n",
              "            await google.colab.kernel.invokeFunction('convertToInteractive',\n",
              "                                                     [key], {});\n",
              "          if (!dataTable) return;\n",
              "\n",
              "          const docLinkHtml = 'Like what you see? Visit the ' +\n",
              "            '<a target=\"_blank\" href=https://colab.research.google.com/notebooks/data_table.ipynb>data table notebook</a>'\n",
              "            + ' to learn more about interactive tables.';\n",
              "          element.innerHTML = '';\n",
              "          dataTable['output_type'] = 'display_data';\n",
              "          await google.colab.output.renderOutput(dataTable, element);\n",
              "          const docLink = document.createElement('div');\n",
              "          docLink.innerHTML = docLinkHtml;\n",
              "          element.appendChild(docLink);\n",
              "        }\n",
              "      </script>\n",
              "    </div>\n",
              "  </div>\n",
              "  "
            ],
            "text/plain": [
              "           count      mean\n",
              "EDUCATION                 \n",
              "1            7.0  0.285714\n",
              "2           40.0  0.325000\n",
              "3          678.0  0.327434\n",
              "4          264.0  0.704545\n",
              "5          808.0  0.517327\n",
              "6          352.0  0.656250\n",
              "7           10.0  0.800000"
            ]
          },
          "execution_count": 12,
          "metadata": {},
          "output_type": "execute_result"
        }
      ],
      "source": [
        "df.pivot_table(index='EDUCATION', values='Target', aggfunc=('count', 'mean'))"
      ]
    },
    {
      "cell_type": "code",
      "execution_count": null,
      "metadata": {
        "colab": {
          "base_uri": "https://localhost:8080/"
        },
        "id": "sMwGV3OalsWD",
        "outputId": "783b7af7-7fa8-4baa-a399-c84f1c998952"
      },
      "outputs": [
        {
          "data": {
            "text/plain": [
              "<matplotlib.axes._subplots.AxesSubplot at 0x7fd8ea78c810>"
            ]
          },
          "execution_count": 13,
          "metadata": {},
          "output_type": "execute_result"
        },
        {
          "data": {
            "image/png": "[encoded data removed]",
            "text/plain": [
              "<Figure size 432x288 with 1 Axes>"
            ]
          },
          "metadata": {},
          "output_type": "display_data"
        }
      ],
      "source": [
        "df.pivot_table(index='EDUCATION', values='Target').plot(kind='bar')"
      ]
    },
    {
      "cell_type": "markdown",
      "metadata": {
        "id": "-lMMmn4mu2Hy"
      },
      "source": [
        "Ввиду малочисленности представителей 1 и 7 категорий, объединим пользователей 1, 2 и 3 категорий в одну (показатели таргета нам это позволяют) и аналогично 6-7 \n",
        "\n",
        "(!!!)(на больших данных, возможно, этого делать не стоило бы, необходимо проверять)"
      ]
    },
    {
      "cell_type": "code",
      "execution_count": null,
      "metadata": {
        "colab": {
          "base_uri": "https://localhost:8080/",
          "height": 276
        },
        "id": "BZNw-i_DsX20",
        "outputId": "b2baf680-3f12-4b44-f5fc-efd7a737d17b"
      },
      "outputs": [
        {
          "output_type": "display_data",
          "data": {
            "image/png": "[encoded data removed]",
            "text/plain": [
              "<Figure size 432x288 with 1 Axes>"
            ]
          },
          "metadata": {
            "needs_background": "light"
          }
        }
      ],
      "source": [
        "df.loc[df.EDUCATION.isin([1,2,3]), 'EDUCATION'] = 1\n",
        "df.loc[df.EDUCATION.isin([6,7]), 'EDUCATION'] = 6\n",
        "\n",
        "df.pivot_table(index='EDUCATION', values='Target').plot(kind='bar');"
      ]
    },
    {
      "cell_type": "markdown",
      "metadata": {
        "id": "2JYQrf2Rkpv_"
      },
      "source": [
        "#### E_MAIL_FLAG - наличие электронной почты"
      ]
    },
    {
      "cell_type": "code",
      "execution_count": null,
      "metadata": {
        "colab": {
          "base_uri": "https://localhost:8080/",
          "height": 143
        },
        "id": "JQG2VudDNwmE",
        "outputId": "a1d08e7e-f7df-4aa3-89d0-980df0ffe8fa"
      },
      "outputs": [
        {
          "data": {
            "text/html": [
              "\n",
              "  <div id=\"df-15c8064c-67c3-4b08-b9a3-956c3f172120\">\n",
              "    <div class=\"colab-df-container\">\n",
              "      <div>\n",
              "<style scoped>\n",
              "    .dataframe tbody tr th:only-of-type {\n",
              "        vertical-align: middle;\n",
              "    }\n",
              "\n",
              "    .dataframe tbody tr th {\n",
              "        vertical-align: top;\n",
              "    }\n",
              "\n",
              "    .dataframe thead th {\n",
              "        text-align: right;\n",
              "    }\n",
              "</style>\n",
              "<table border=\"1\" class=\"dataframe\">\n",
              "  <thead>\n",
              "    <tr style=\"text-align: right;\">\n",
              "      <th></th>\n",
              "      <th>Target</th>\n",
              "    </tr>\n",
              "    <tr>\n",
              "      <th>E_MAIL_FLAG</th>\n",
              "      <th></th>\n",
              "    </tr>\n",
              "  </thead>\n",
              "  <tbody>\n",
              "    <tr>\n",
              "      <th>0</th>\n",
              "      <td>0.525704</td>\n",
              "    </tr>\n",
              "    <tr>\n",
              "      <th>1</th>\n",
              "      <td>0.420952</td>\n",
              "    </tr>\n",
              "  </tbody>\n",
              "</table>\n",
              "</div>\n",
              "      <button class=\"colab-df-convert\" onclick=\"convertToInteractive('df-15c8064c-67c3-4b08-b9a3-956c3f172120')\"\n",
              "              title=\"Convert this dataframe to an interactive table.\"\n",
              "              style=\"display:none;\">\n",
              "        \n",
              "  <svg xmlns=\"http://www.w3.org/2000/svg\" height=\"24px\"viewBox=\"0 0 24 24\"\n",
              "       width=\"24px\">\n",
              "    <path d=\"M0 0h24v24H0V0z\" fill=\"none\"/>\n",
              "    <path d=\"M18.56 5.44l.94 2.06.94-2.06 2.06-.94-2.06-.94-.94-2.06-.94 2.06-2.06.94zm-11 1L8.5 8.5l.94-2.06 2.06-.94-2.06-.94L8.5 2.5l-.94 2.06-2.06.94zm10 10l.94 2.06.94-2.06 2.06-.94-2.06-.94-.94-2.06-.94 2.06-2.06.94z\"/><path d=\"M17.41 7.96l-1.37-1.37c-.4-.4-.92-.59-1.43-.59-.52 0-1.04.2-1.43.59L10.3 9.45l-7.72 7.72c-.78.78-.78 2.05 0 2.83L4 21.41c.39.39.9.59 1.41.59.51 0 1.02-.2 1.41-.59l7.78-7.78 2.81-2.81c.8-.78.8-2.07 0-2.86zM5.41 20L4 18.59l7.72-7.72 1.47 1.35L5.41 20z\"/>\n",
              "  </svg>\n",
              "      </button>\n",
              "      \n",
              "  <style>\n",
              "    .colab-df-container {\n",
              "      display:flex;\n",
              "      flex-wrap:wrap;\n",
              "      gap: 12px;\n",
              "    }\n",
              "\n",
              "    .colab-df-convert {\n",
              "      background-color: #E8F0FE;\n",
              "      border: none;\n",
              "      border-radius: 50%;\n",
              "      cursor: pointer;\n",
              "      display: none;\n",
              "      fill: #1967D2;\n",
              "      height: 32px;\n",
              "      padding: 0 0 0 0;\n",
              "      width: 32px;\n",
              "    }\n",
              "\n",
              "    .colab-df-convert:hover {\n",
              "      background-color: #E2EBFA;\n",
              "      box-shadow: 0px 1px 2px rgba(60, 64, 67, 0.3), 0px 1px 3px 1px rgba(60, 64, 67, 0.15);\n",
              "      fill: #174EA6;\n",
              "    }\n",
              "\n",
              "    [theme=dark] .colab-df-convert {\n",
              "      background-color: #3B4455;\n",
              "      fill: #D2E3FC;\n",
              "    }\n",
              "\n",
              "    [theme=dark] .colab-df-convert:hover {\n",
              "      background-color: #434B5C;\n",
              "      box-shadow: 0px 1px 3px 1px rgba(0, 0, 0, 0.15);\n",
              "      filter: drop-shadow(0px 1px 2px rgba(0, 0, 0, 0.3));\n",
              "      fill: #FFFFFF;\n",
              "    }\n",
              "  </style>\n",
              "\n",
              "      <script>\n",
              "        const buttonEl =\n",
              "          document.querySelector('#df-15c8064c-67c3-4b08-b9a3-956c3f172120 button.colab-df-convert');\n",
              "        buttonEl.style.display =\n",
              "          google.colab.kernel.accessAllowed ? 'block' : 'none';\n",
              "\n",
              "        async function convertToInteractive(key) {\n",
              "          const element = document.querySelector('#df-15c8064c-67c3-4b08-b9a3-956c3f172120');\n",
              "          const dataTable =\n",
              "            await google.colab.kernel.invokeFunction('convertToInteractive',\n",
              "                                                     [key], {});\n",
              "          if (!dataTable) return;\n",
              "\n",
              "          const docLinkHtml = 'Like what you see? Visit the ' +\n",
              "            '<a target=\"_blank\" href=https://colab.research.google.com/notebooks/data_table.ipynb>data table notebook</a>'\n",
              "            + ' to learn more about interactive tables.';\n",
              "          element.innerHTML = '';\n",
              "          dataTable['output_type'] = 'display_data';\n",
              "          await google.colab.output.renderOutput(dataTable, element);\n",
              "          const docLink = document.createElement('div');\n",
              "          docLink.innerHTML = docLinkHtml;\n",
              "          element.appendChild(docLink);\n",
              "        }\n",
              "      </script>\n",
              "    </div>\n",
              "  </div>\n",
              "  "
            ],
            "text/plain": [
              "               Target\n",
              "E_MAIL_FLAG          \n",
              "0            0.525704\n",
              "1            0.420952"
            ]
          },
          "execution_count": 68,
          "metadata": {},
          "output_type": "execute_result"
        }
      ],
      "source": [
        "df.pivot_table(index='E_MAIL_FLAG', values='Target')"
      ]
    },
    {
      "cell_type": "code",
      "execution_count": null,
      "metadata": {
        "colab": {
          "base_uri": "https://localhost:8080/",
          "height": 143
        },
        "id": "gi6waC4NioYY",
        "outputId": "9d05725c-7d8e-4263-a78b-0cb695439e9d"
      },
      "outputs": [
        {
          "data": {
            "text/html": [
              "\n",
              "  <div id=\"df-826e1ab3-e95d-4dae-847e-493699f4b4a1\">\n",
              "    <div class=\"colab-df-container\">\n",
              "      <div>\n",
              "<style scoped>\n",
              "    .dataframe tbody tr th:only-of-type {\n",
              "        vertical-align: middle;\n",
              "    }\n",
              "\n",
              "    .dataframe tbody tr th {\n",
              "        vertical-align: top;\n",
              "    }\n",
              "\n",
              "    .dataframe thead th {\n",
              "        text-align: right;\n",
              "    }\n",
              "</style>\n",
              "<table border=\"1\" class=\"dataframe\">\n",
              "  <thead>\n",
              "    <tr style=\"text-align: right;\">\n",
              "      <th></th>\n",
              "      <th>ACCOUNTS_FLAG</th>\n",
              "      <th>CHILD_FLAG</th>\n",
              "      <th>DCI</th>\n",
              "      <th>EDUCATION</th>\n",
              "      <th>EDUCATION2</th>\n",
              "      <th>FOREIGN_PASSPORT_FLAG</th>\n",
              "      <th>PROFIT_FAMILY</th>\n",
              "      <th>REALTY_FLAG</th>\n",
              "      <th>SEX</th>\n",
              "      <th>STANDING_IN_MONTHS_LAST</th>\n",
              "      <th>TRANSPORT_AMOUNT</th>\n",
              "      <th>Target</th>\n",
              "      <th>UCI</th>\n",
              "    </tr>\n",
              "    <tr>\n",
              "      <th>E_MAIL_FLAG</th>\n",
              "      <th></th>\n",
              "      <th></th>\n",
              "      <th></th>\n",
              "      <th></th>\n",
              "      <th></th>\n",
              "      <th></th>\n",
              "      <th></th>\n",
              "      <th></th>\n",
              "      <th></th>\n",
              "      <th></th>\n",
              "      <th></th>\n",
              "      <th></th>\n",
              "      <th></th>\n",
              "    </tr>\n",
              "  </thead>\n",
              "  <tbody>\n",
              "    <tr>\n",
              "      <th>0</th>\n",
              "      <td>0.105263</td>\n",
              "      <td>0.549572</td>\n",
              "      <td>17135.533630</td>\n",
              "      <td>4.542228</td>\n",
              "      <td>4.006732</td>\n",
              "      <td>0.107099</td>\n",
              "      <td>34987.756417</td>\n",
              "      <td>0.489596</td>\n",
              "      <td>0.48164</td>\n",
              "      <td>52.891065</td>\n",
              "      <td>0.206242</td>\n",
              "      <td>0.525704</td>\n",
              "      <td>3429.526029</td>\n",
              "    </tr>\n",
              "    <tr>\n",
              "      <th>1</th>\n",
              "      <td>0.060952</td>\n",
              "      <td>0.417143</td>\n",
              "      <td>31295.613511</td>\n",
              "      <td>3.765714</td>\n",
              "      <td>2.754286</td>\n",
              "      <td>0.295238</td>\n",
              "      <td>52266.622379</td>\n",
              "      <td>0.500952</td>\n",
              "      <td>0.52381</td>\n",
              "      <td>40.596190</td>\n",
              "      <td>0.306667</td>\n",
              "      <td>0.420952</td>\n",
              "      <td>6944.320267</td>\n",
              "    </tr>\n",
              "  </tbody>\n",
              "</table>\n",
              "</div>\n",
              "      <button class=\"colab-df-convert\" onclick=\"convertToInteractive('df-826e1ab3-e95d-4dae-847e-493699f4b4a1')\"\n",
              "              title=\"Convert this dataframe to an interactive table.\"\n",
              "              style=\"display:none;\">\n",
              "        \n",
              "  <svg xmlns=\"http://www.w3.org/2000/svg\" height=\"24px\"viewBox=\"0 0 24 24\"\n",
              "       width=\"24px\">\n",
              "    <path d=\"M0 0h24v24H0V0z\" fill=\"none\"/>\n",
              "    <path d=\"M18.56 5.44l.94 2.06.94-2.06 2.06-.94-2.06-.94-.94-2.06-.94 2.06-2.06.94zm-11 1L8.5 8.5l.94-2.06 2.06-.94-2.06-.94L8.5 2.5l-.94 2.06-2.06.94zm10 10l.94 2.06.94-2.06 2.06-.94-2.06-.94-.94-2.06-.94 2.06-2.06.94z\"/><path d=\"M17.41 7.96l-1.37-1.37c-.4-.4-.92-.59-1.43-.59-.52 0-1.04.2-1.43.59L10.3 9.45l-7.72 7.72c-.78.78-.78 2.05 0 2.83L4 21.41c.39.39.9.59 1.41.59.51 0 1.02-.2 1.41-.59l7.78-7.78 2.81-2.81c.8-.78.8-2.07 0-2.86zM5.41 20L4 18.59l7.72-7.72 1.47 1.35L5.41 20z\"/>\n",
              "  </svg>\n",
              "      </button>\n",
              "      \n",
              "  <style>\n",
              "    .colab-df-container {\n",
              "      display:flex;\n",
              "      flex-wrap:wrap;\n",
              "      gap: 12px;\n",
              "    }\n",
              "\n",
              "    .colab-df-convert {\n",
              "      background-color: #E8F0FE;\n",
              "      border: none;\n",
              "      border-radius: 50%;\n",
              "      cursor: pointer;\n",
              "      display: none;\n",
              "      fill: #1967D2;\n",
              "      height: 32px;\n",
              "      padding: 0 0 0 0;\n",
              "      width: 32px;\n",
              "    }\n",
              "\n",
              "    .colab-df-convert:hover {\n",
              "      background-color: #E2EBFA;\n",
              "      box-shadow: 0px 1px 2px rgba(60, 64, 67, 0.3), 0px 1px 3px 1px rgba(60, 64, 67, 0.15);\n",
              "      fill: #174EA6;\n",
              "    }\n",
              "\n",
              "    [theme=dark] .colab-df-convert {\n",
              "      background-color: #3B4455;\n",
              "      fill: #D2E3FC;\n",
              "    }\n",
              "\n",
              "    [theme=dark] .colab-df-convert:hover {\n",
              "      background-color: #434B5C;\n",
              "      box-shadow: 0px 1px 3px 1px rgba(0, 0, 0, 0.15);\n",
              "      filter: drop-shadow(0px 1px 2px rgba(0, 0, 0, 0.3));\n",
              "      fill: #FFFFFF;\n",
              "    }\n",
              "  </style>\n",
              "\n",
              "      <script>\n",
              "        const buttonEl =\n",
              "          document.querySelector('#df-826e1ab3-e95d-4dae-847e-493699f4b4a1 button.colab-df-convert');\n",
              "        buttonEl.style.display =\n",
              "          google.colab.kernel.accessAllowed ? 'block' : 'none';\n",
              "\n",
              "        async function convertToInteractive(key) {\n",
              "          const element = document.querySelector('#df-826e1ab3-e95d-4dae-847e-493699f4b4a1');\n",
              "          const dataTable =\n",
              "            await google.colab.kernel.invokeFunction('convertToInteractive',\n",
              "                                                     [key], {});\n",
              "          if (!dataTable) return;\n",
              "\n",
              "          const docLinkHtml = 'Like what you see? Visit the ' +\n",
              "            '<a target=\"_blank\" href=https://colab.research.google.com/notebooks/data_table.ipynb>data table notebook</a>'\n",
              "            + ' to learn more about interactive tables.';\n",
              "          element.innerHTML = '';\n",
              "          dataTable['output_type'] = 'display_data';\n",
              "          await google.colab.output.renderOutput(dataTable, element);\n",
              "          const docLink = document.createElement('div');\n",
              "          docLink.innerHTML = docLinkHtml;\n",
              "          element.appendChild(docLink);\n",
              "        }\n",
              "      </script>\n",
              "    </div>\n",
              "  </div>\n",
              "  "
            ],
            "text/plain": [
              "             ACCOUNTS_FLAG  CHILD_FLAG  ...    Target          UCI\n",
              "E_MAIL_FLAG                             ...                       \n",
              "0                 0.105263    0.549572  ...  0.525704  3429.526029\n",
              "1                 0.060952    0.417143  ...  0.420952  6944.320267\n",
              "\n",
              "[2 rows x 13 columns]"
            ]
          },
          "execution_count": 69,
          "metadata": {},
          "output_type": "execute_result"
        }
      ],
      "source": [
        "df.pivot_table(index='E_MAIL_FLAG')"
      ]
    },
    {
      "cell_type": "markdown",
      "metadata": {
        "id": "pf3MJNv6jXln"
      },
      "source": [
        "Я бы не спешил удалять этот признак. У катеогрии людей с E_MAIL_FLAG=0:\n",
        "- меньше доход, в том числе семьи и по неосновному месту\n",
        "- больше стаж работы\n",
        "- меньше транспорта в собственности\n",
        "\n",
        "Возможно часть нулей в этом признаке связана с тем, что данные клиенты являются пожилыми людьми и электронной почтой не пользуются, т е этот признак может свидетельствовать о возрасте клиента (которого у нас нет)"
      ]
    },
    {
      "cell_type": "markdown",
      "metadata": {
        "id": "GbsYPJj_5ON8"
      },
      "source": [
        "#### REALTY_FLAG - признак наличия недвижимости (1/0-есть/нет) "
      ]
    },
    {
      "cell_type": "code",
      "execution_count": null,
      "metadata": {
        "colab": {
          "base_uri": "https://localhost:8080/",
          "height": 143
        },
        "id": "FN1T1DMnlNJ5",
        "outputId": "6fcfd908-c9bd-4a62-b221-8f359594a5b9"
      },
      "outputs": [
        {
          "data": {
            "text/html": [
              "\n",
              "  <div id=\"df-0779c45f-676d-4b4f-9105-ee1f831fe1f4\">\n",
              "    <div class=\"colab-df-container\">\n",
              "      <div>\n",
              "<style scoped>\n",
              "    .dataframe tbody tr th:only-of-type {\n",
              "        vertical-align: middle;\n",
              "    }\n",
              "\n",
              "    .dataframe tbody tr th {\n",
              "        vertical-align: top;\n",
              "    }\n",
              "\n",
              "    .dataframe thead th {\n",
              "        text-align: right;\n",
              "    }\n",
              "</style>\n",
              "<table border=\"1\" class=\"dataframe\">\n",
              "  <thead>\n",
              "    <tr style=\"text-align: right;\">\n",
              "      <th></th>\n",
              "      <th>count</th>\n",
              "      <th>mean</th>\n",
              "    </tr>\n",
              "    <tr>\n",
              "      <th>REALTY_FLAG</th>\n",
              "      <th></th>\n",
              "      <th></th>\n",
              "    </tr>\n",
              "  </thead>\n",
              "  <tbody>\n",
              "    <tr>\n",
              "      <th>0</th>\n",
              "      <td>1096.0</td>\n",
              "      <td>0.578467</td>\n",
              "    </tr>\n",
              "    <tr>\n",
              "      <th>1</th>\n",
              "      <td>1063.0</td>\n",
              "      <td>0.419567</td>\n",
              "    </tr>\n",
              "  </tbody>\n",
              "</table>\n",
              "</div>\n",
              "      <button class=\"colab-df-convert\" onclick=\"convertToInteractive('df-0779c45f-676d-4b4f-9105-ee1f831fe1f4')\"\n",
              "              title=\"Convert this dataframe to an interactive table.\"\n",
              "              style=\"display:none;\">\n",
              "        \n",
              "  <svg xmlns=\"http://www.w3.org/2000/svg\" height=\"24px\"viewBox=\"0 0 24 24\"\n",
              "       width=\"24px\">\n",
              "    <path d=\"M0 0h24v24H0V0z\" fill=\"none\"/>\n",
              "    <path d=\"M18.56 5.44l.94 2.06.94-2.06 2.06-.94-2.06-.94-.94-2.06-.94 2.06-2.06.94zm-11 1L8.5 8.5l.94-2.06 2.06-.94-2.06-.94L8.5 2.5l-.94 2.06-2.06.94zm10 10l.94 2.06.94-2.06 2.06-.94-2.06-.94-.94-2.06-.94 2.06-2.06.94z\"/><path d=\"M17.41 7.96l-1.37-1.37c-.4-.4-.92-.59-1.43-.59-.52 0-1.04.2-1.43.59L10.3 9.45l-7.72 7.72c-.78.78-.78 2.05 0 2.83L4 21.41c.39.39.9.59 1.41.59.51 0 1.02-.2 1.41-.59l7.78-7.78 2.81-2.81c.8-.78.8-2.07 0-2.86zM5.41 20L4 18.59l7.72-7.72 1.47 1.35L5.41 20z\"/>\n",
              "  </svg>\n",
              "      </button>\n",
              "      \n",
              "  <style>\n",
              "    .colab-df-container {\n",
              "      display:flex;\n",
              "      flex-wrap:wrap;\n",
              "      gap: 12px;\n",
              "    }\n",
              "\n",
              "    .colab-df-convert {\n",
              "      background-color: #E8F0FE;\n",
              "      border: none;\n",
              "      border-radius: 50%;\n",
              "      cursor: pointer;\n",
              "      display: none;\n",
              "      fill: #1967D2;\n",
              "      height: 32px;\n",
              "      padding: 0 0 0 0;\n",
              "      width: 32px;\n",
              "    }\n",
              "\n",
              "    .colab-df-convert:hover {\n",
              "      background-color: #E2EBFA;\n",
              "      box-shadow: 0px 1px 2px rgba(60, 64, 67, 0.3), 0px 1px 3px 1px rgba(60, 64, 67, 0.15);\n",
              "      fill: #174EA6;\n",
              "    }\n",
              "\n",
              "    [theme=dark] .colab-df-convert {\n",
              "      background-color: #3B4455;\n",
              "      fill: #D2E3FC;\n",
              "    }\n",
              "\n",
              "    [theme=dark] .colab-df-convert:hover {\n",
              "      background-color: #434B5C;\n",
              "      box-shadow: 0px 1px 3px 1px rgba(0, 0, 0, 0.15);\n",
              "      filter: drop-shadow(0px 1px 2px rgba(0, 0, 0, 0.3));\n",
              "      fill: #FFFFFF;\n",
              "    }\n",
              "  </style>\n",
              "\n",
              "      <script>\n",
              "        const buttonEl =\n",
              "          document.querySelector('#df-0779c45f-676d-4b4f-9105-ee1f831fe1f4 button.colab-df-convert');\n",
              "        buttonEl.style.display =\n",
              "          google.colab.kernel.accessAllowed ? 'block' : 'none';\n",
              "\n",
              "        async function convertToInteractive(key) {\n",
              "          const element = document.querySelector('#df-0779c45f-676d-4b4f-9105-ee1f831fe1f4');\n",
              "          const dataTable =\n",
              "            await google.colab.kernel.invokeFunction('convertToInteractive',\n",
              "                                                     [key], {});\n",
              "          if (!dataTable) return;\n",
              "\n",
              "          const docLinkHtml = 'Like what you see? Visit the ' +\n",
              "            '<a target=\"_blank\" href=https://colab.research.google.com/notebooks/data_table.ipynb>data table notebook</a>'\n",
              "            + ' to learn more about interactive tables.';\n",
              "          element.innerHTML = '';\n",
              "          dataTable['output_type'] = 'display_data';\n",
              "          await google.colab.output.renderOutput(dataTable, element);\n",
              "          const docLink = document.createElement('div');\n",
              "          docLink.innerHTML = docLinkHtml;\n",
              "          element.appendChild(docLink);\n",
              "        }\n",
              "      </script>\n",
              "    </div>\n",
              "  </div>\n",
              "  "
            ],
            "text/plain": [
              "              count      mean\n",
              "REALTY_FLAG                  \n",
              "0            1096.0  0.578467\n",
              "1            1063.0  0.419567"
            ]
          },
          "execution_count": 70,
          "metadata": {},
          "output_type": "execute_result"
        }
      ],
      "source": [
        "df.pivot_table(index='REALTY_FLAG', values='Target', aggfunc=('count', 'mean'))"
      ]
    },
    {
      "cell_type": "markdown",
      "metadata": {
        "id": "oWqH5K7i5Zf1"
      },
      "source": [
        "Все логично"
      ]
    },
    {
      "cell_type": "markdown",
      "metadata": {
        "id": "YiiW4F-D5vnM"
      },
      "source": [
        "#### ACCOUNTS_FLAG"
      ]
    },
    {
      "cell_type": "code",
      "execution_count": null,
      "metadata": {
        "colab": {
          "base_uri": "https://localhost:8080/",
          "height": 143
        },
        "id": "PSUkN0Ky5pyP",
        "outputId": "c11cc0cd-19fd-45a8-a895-593fc4f28bd9"
      },
      "outputs": [
        {
          "data": {
            "text/html": [
              "\n",
              "  <div id=\"df-e946db98-dd44-4a56-8c27-c5ff99935c20\">\n",
              "    <div class=\"colab-df-container\">\n",
              "      <div>\n",
              "<style scoped>\n",
              "    .dataframe tbody tr th:only-of-type {\n",
              "        vertical-align: middle;\n",
              "    }\n",
              "\n",
              "    .dataframe tbody tr th {\n",
              "        vertical-align: top;\n",
              "    }\n",
              "\n",
              "    .dataframe thead th {\n",
              "        text-align: right;\n",
              "    }\n",
              "</style>\n",
              "<table border=\"1\" class=\"dataframe\">\n",
              "  <thead>\n",
              "    <tr style=\"text-align: right;\">\n",
              "      <th></th>\n",
              "      <th>count</th>\n",
              "      <th>mean</th>\n",
              "    </tr>\n",
              "    <tr>\n",
              "      <th>ACCOUNTS_FLAG</th>\n",
              "      <th></th>\n",
              "      <th></th>\n",
              "    </tr>\n",
              "  </thead>\n",
              "  <tbody>\n",
              "    <tr>\n",
              "      <th>0</th>\n",
              "      <td>1955.0</td>\n",
              "      <td>0.486445</td>\n",
              "    </tr>\n",
              "    <tr>\n",
              "      <th>1</th>\n",
              "      <td>204.0</td>\n",
              "      <td>0.632353</td>\n",
              "    </tr>\n",
              "  </tbody>\n",
              "</table>\n",
              "</div>\n",
              "      <button class=\"colab-df-convert\" onclick=\"convertToInteractive('df-e946db98-dd44-4a56-8c27-c5ff99935c20')\"\n",
              "              title=\"Convert this dataframe to an interactive table.\"\n",
              "              style=\"display:none;\">\n",
              "        \n",
              "  <svg xmlns=\"http://www.w3.org/2000/svg\" height=\"24px\"viewBox=\"0 0 24 24\"\n",
              "       width=\"24px\">\n",
              "    <path d=\"M0 0h24v24H0V0z\" fill=\"none\"/>\n",
              "    <path d=\"M18.56 5.44l.94 2.06.94-2.06 2.06-.94-2.06-.94-.94-2.06-.94 2.06-2.06.94zm-11 1L8.5 8.5l.94-2.06 2.06-.94-2.06-.94L8.5 2.5l-.94 2.06-2.06.94zm10 10l.94 2.06.94-2.06 2.06-.94-2.06-.94-.94-2.06-.94 2.06-2.06.94z\"/><path d=\"M17.41 7.96l-1.37-1.37c-.4-.4-.92-.59-1.43-.59-.52 0-1.04.2-1.43.59L10.3 9.45l-7.72 7.72c-.78.78-.78 2.05 0 2.83L4 21.41c.39.39.9.59 1.41.59.51 0 1.02-.2 1.41-.59l7.78-7.78 2.81-2.81c.8-.78.8-2.07 0-2.86zM5.41 20L4 18.59l7.72-7.72 1.47 1.35L5.41 20z\"/>\n",
              "  </svg>\n",
              "      </button>\n",
              "      \n",
              "  <style>\n",
              "    .colab-df-container {\n",
              "      display:flex;\n",
              "      flex-wrap:wrap;\n",
              "      gap: 12px;\n",
              "    }\n",
              "\n",
              "    .colab-df-convert {\n",
              "      background-color: #E8F0FE;\n",
              "      border: none;\n",
              "      border-radius: 50%;\n",
              "      cursor: pointer;\n",
              "      display: none;\n",
              "      fill: #1967D2;\n",
              "      height: 32px;\n",
              "      padding: 0 0 0 0;\n",
              "      width: 32px;\n",
              "    }\n",
              "\n",
              "    .colab-df-convert:hover {\n",
              "      background-color: #E2EBFA;\n",
              "      box-shadow: 0px 1px 2px rgba(60, 64, 67, 0.3), 0px 1px 3px 1px rgba(60, 64, 67, 0.15);\n",
              "      fill: #174EA6;\n",
              "    }\n",
              "\n",
              "    [theme=dark] .colab-df-convert {\n",
              "      background-color: #3B4455;\n",
              "      fill: #D2E3FC;\n",
              "    }\n",
              "\n",
              "    [theme=dark] .colab-df-convert:hover {\n",
              "      background-color: #434B5C;\n",
              "      box-shadow: 0px 1px 3px 1px rgba(0, 0, 0, 0.15);\n",
              "      filter: drop-shadow(0px 1px 2px rgba(0, 0, 0, 0.3));\n",
              "      fill: #FFFFFF;\n",
              "    }\n",
              "  </style>\n",
              "\n",
              "      <script>\n",
              "        const buttonEl =\n",
              "          document.querySelector('#df-e946db98-dd44-4a56-8c27-c5ff99935c20 button.colab-df-convert');\n",
              "        buttonEl.style.display =\n",
              "          google.colab.kernel.accessAllowed ? 'block' : 'none';\n",
              "\n",
              "        async function convertToInteractive(key) {\n",
              "          const element = document.querySelector('#df-e946db98-dd44-4a56-8c27-c5ff99935c20');\n",
              "          const dataTable =\n",
              "            await google.colab.kernel.invokeFunction('convertToInteractive',\n",
              "                                                     [key], {});\n",
              "          if (!dataTable) return;\n",
              "\n",
              "          const docLinkHtml = 'Like what you see? Visit the ' +\n",
              "            '<a target=\"_blank\" href=https://colab.research.google.com/notebooks/data_table.ipynb>data table notebook</a>'\n",
              "            + ' to learn more about interactive tables.';\n",
              "          element.innerHTML = '';\n",
              "          dataTable['output_type'] = 'display_data';\n",
              "          await google.colab.output.renderOutput(dataTable, element);\n",
              "          const docLink = document.createElement('div');\n",
              "          docLink.innerHTML = docLinkHtml;\n",
              "          element.appendChild(docLink);\n",
              "        }\n",
              "      </script>\n",
              "    </div>\n",
              "  </div>\n",
              "  "
            ],
            "text/plain": [
              "                count      mean\n",
              "ACCOUNTS_FLAG                  \n",
              "0              1955.0  0.486445\n",
              "1               204.0  0.632353"
            ]
          },
          "execution_count": 18,
          "metadata": {},
          "output_type": "execute_result"
        }
      ],
      "source": [
        "df.pivot_table(index='ACCOUNTS_FLAG', values='Target', aggfunc=('count', 'mean'))"
      ]
    },
    {
      "cell_type": "markdown",
      "metadata": {
        "id": "y9gTGLpi7MvB"
      },
      "source": [
        "Большой процент штрафников в категории \"имеется счет\" вызывает вопросы,при этом, количество таких клиентов существенно ниже.\n",
        "\n",
        "Пока оставим это признак без измнений"
      ]
    },
    {
      "cell_type": "markdown",
      "metadata": {
        "id": "q1CJqJDeEWGB"
      },
      "source": [
        "#### DCI, PROFIT_FAMILY, UCI"
      ]
    },
    {
      "cell_type": "code",
      "execution_count": null,
      "metadata": {
        "colab": {
          "base_uri": "https://localhost:8080/",
          "height": 337
        },
        "id": "vEyOnPd4Nwjn",
        "outputId": "8a3a8fa1-0483-4c8f-f706-07ddb972162d"
      },
      "outputs": [
        {
          "data": {
            "text/plain": [
              "<matplotlib.axes._subplots.AxesSubplot at 0x7f431d236d90>"
            ]
          },
          "execution_count": 78,
          "metadata": {},
          "output_type": "execute_result"
        },
        {
          "data": {
            "image/png": "[encoded data removed]",
            "text/plain": [
              "<Figure size 720x360 with 1 Axes>"
            ]
          },
          "metadata": {},
          "output_type": "display_data"
        }
      ],
      "source": [
        "df.DCI.hist(bins=100, range=(0, 75000), figsize=(10, 5))"
      ]
    },
    {
      "cell_type": "code",
      "execution_count": null,
      "metadata": {
        "colab": {
          "base_uri": "https://localhost:8080/",
          "height": 337
        },
        "id": "5lh8TRnSGjlo",
        "outputId": "98a956ea-f9b9-4714-883e-47dd31287a44"
      },
      "outputs": [
        {
          "data": {
            "text/plain": [
              "<matplotlib.axes._subplots.AxesSubplot at 0x7f43129f2210>"
            ]
          },
          "execution_count": 79,
          "metadata": {},
          "output_type": "execute_result"
        },
        {
          "data": {
            "image/png": "[encoded data removed]",
            "text/plain": [
              "<Figure size 720x360 with 1 Axes>"
            ]
          },
          "metadata": {},
          "output_type": "display_data"
        }
      ],
      "source": [
        "df[df.UCI>0].UCI.hist(bins=100, range=(0, 75000), figsize=(10, 5))"
      ]
    },
    {
      "cell_type": "markdown",
      "metadata": {
        "id": "SQOLUhbLsYAB"
      },
      "source": [
        "Взглянем на клиентов с нулевыми основными доходами и долю target=1: "
      ]
    },
    {
      "cell_type": "code",
      "execution_count": null,
      "metadata": {
        "colab": {
          "base_uri": "https://localhost:8080/"
        },
        "id": "D6Xiyws_HEjU",
        "outputId": "5109f194-ba46-4cba-abe0-e8035aab8b95"
      },
      "outputs": [
        {
          "name": "stdout",
          "output_type": "stream",
          "text": [
            "count 181 8.38%\n",
            "0.6519337016574586\n",
            "count 1978 91.62%\n",
            "0.4863498483316481\n"
          ]
        }
      ],
      "source": [
        "print('count', len(df[df.DCI==0]), '{:.2%}'.format(len(df[df.DCI==0])/len(df)))\n",
        "print(df[df.DCI==0].Target.mean())\n",
        "\n",
        "print('count', len(df[df.DCI>0]), '{:.2%}'.format(len(df[df.DCI>0])/len(df)))\n",
        "print(df[df.DCI>0].Target.mean())"
      ]
    },
    {
      "cell_type": "markdown",
      "metadata": {
        "id": "U8tQIjQY3gBZ"
      },
      "source": [
        "Людей с нулевым личным доходом мало, но они есть"
      ]
    },
    {
      "cell_type": "code",
      "execution_count": null,
      "metadata": {
        "colab": {
          "base_uri": "https://localhost:8080/",
          "height": 357
        },
        "id": "YsXaQfU1EpGU",
        "outputId": "945aa453-834f-4446-9573-7b4f1c728a6f"
      },
      "outputs": [
        {
          "data": {
            "image/png": "[encoded data removed]",
            "text/plain": [
              "<Figure size 1080x144 with 1 Axes>"
            ]
          },
          "metadata": {},
          "output_type": "display_data"
        },
        {
          "data": {
            "image/png": "[encoded data removed]",
            "text/plain": [
              "<Figure size 1080x144 with 1 Axes>"
            ]
          },
          "metadata": {},
          "output_type": "display_data"
        }
      ],
      "source": [
        "plt.figure(figsize=(15, 2))\n",
        "sns.boxplot(x=df.DCI).set_title('Разборос доходов')\n",
        "\n",
        "plt.figure(figsize=(15, 2))\n",
        "#plt.xlim(-200000, 5000000)\n",
        "sns.boxplot(x=df.UCI).set_title('Разборс доп. доходов')\n",
        "plt.show()"
      ]
    },
    {
      "cell_type": "markdown",
      "metadata": {
        "id": "bAhSob37s9Zl"
      },
      "source": [
        "Есть очень большие значения, будем считать, что это не выбросы\n",
        "\n",
        "Посчитаем суммарный доход клиента (основной + дополнительный и взглянем на как меняется таргет по категориям дохода:)"
      ]
    },
    {
      "cell_type": "code",
      "execution_count": null,
      "metadata": {
        "colab": {
          "base_uri": "https://localhost:8080/",
          "height": 392
        },
        "id": "cbHDyfWPzYR-",
        "outputId": "f9c637e8-a518-4da0-ad82-f78f87c1aa1e"
      },
      "outputs": [
        {
          "output_type": "display_data",
          "data": {
            "image/png": "[encoded data removed]",
            "text/plain": [
              "<Figure size 432x288 with 1 Axes>"
            ]
          },
          "metadata": {
            "needs_background": "light"
          }
        }
      ],
      "source": [
        "df['CI'] = df['DCI'] + df['UCI']\n",
        "\n",
        "df['CI_qcut'] = pd.qcut(df['CI'],5)\n",
        "df.pivot_table(index='CI_qcut', values='Target', aggfunc='mean').plot(kind='bar')\n",
        "df = df.drop('CI_qcut', axis=1)"
      ]
    },
    {
      "cell_type": "markdown",
      "metadata": {
        "id": "TJqW5TKxthne"
      },
      "source": [
        "Картина логичная, чем больше доход у людей, тем меньше проблем с кредитами.\n",
        "\n",
        "С помощью логарифма сделаем распределение дохов нормальным:"
      ]
    },
    {
      "cell_type": "code",
      "execution_count": null,
      "metadata": {
        "colab": {
          "base_uri": "https://localhost:8080/",
          "height": 513
        },
        "id": "-ChPQeLAzYXD",
        "outputId": "55f24b20-3682-4fa5-e4c8-173024cbaf24"
      },
      "outputs": [
        {
          "output_type": "display_data",
          "data": {
            "image/png": "[encoded data removed]",
            "text/plain": [
              "<Figure size 432x288 with 1 Axes>"
            ]
          },
          "metadata": {
            "needs_background": "light"
          }
        },
        {
          "output_type": "display_data",
          "data": {
            "image/png": "[encoded data removed]",
            "text/plain": [
              "<Figure size 432x288 with 1 Axes>"
            ]
          },
          "metadata": {
            "needs_background": "light"
          }
        }
      ],
      "source": [
        "df['CI_log'] = np.log(df['CI']+1)\n",
        "\n",
        "df.CI.hist(bins=100)\n",
        "plt.show()\n",
        "df.CI_log.hist(bins=100)\n",
        "plt.show()"
      ]
    },
    {
      "cell_type": "markdown",
      "metadata": {
        "id": "EVjI10z8Qqch"
      },
      "source": [
        "По идее, доход семьи не должен быть меньше суммарно дохода. Для тех записей, где это не так, заменим значение дохода семьи на CI и возьмем логарифм:"
      ]
    },
    {
      "cell_type": "code",
      "execution_count": null,
      "metadata": {
        "id": "82czGwazPQ04"
      },
      "outputs": [],
      "source": [
        "df.loc[df.PROFIT_FAMILY<df.CI, 'PROFIT_FAMILY'] = df[df.PROFIT_FAMILY<df.CI].CI\n",
        "\n",
        "df['profit_family_log'] = np.log(df['PROFIT_FAMILY']+1)"
      ]
    },
    {
      "cell_type": "markdown",
      "metadata": {
        "id": "9o_EAyHU42N6"
      },
      "source": [
        "STANDING_IN_MONTHS_LAST - стаж работы на последнем месте работы в мес. "
      ]
    },
    {
      "cell_type": "code",
      "execution_count": null,
      "metadata": {
        "colab": {
          "base_uri": "https://localhost:8080/",
          "height": 265
        },
        "id": "pJ86FJtKzYZi",
        "outputId": "673443ab-47f6-4b13-affe-d95e5454380f"
      },
      "outputs": [
        {
          "data": {
            "image/png": "[encoded data removed]",
            "text/plain": [
              "<Figure size 432x288 with 1 Axes>"
            ]
          },
          "metadata": {},
          "output_type": "display_data"
        }
      ],
      "source": [
        "df.STANDING_IN_MONTHS_LAST.hist(bins=100);"
      ]
    },
    {
      "cell_type": "code",
      "execution_count": null,
      "metadata": {
        "colab": {
          "base_uri": "https://localhost:8080/",
          "height": 265
        },
        "id": "T9xqkIHKzYcG",
        "outputId": "8af31e4b-83a0-4c02-a024-db1e7357a142"
      },
      "outputs": [
        {
          "output_type": "display_data",
          "data": {
            "image/png": "[encoded data removed]",
            "text/plain": [
              "<Figure size 432x288 with 1 Axes>"
            ]
          },
          "metadata": {
            "needs_background": "light"
          }
        }
      ],
      "source": [
        "df['standing_log'] = np.log(df['STANDING_IN_MONTHS_LAST']+1)\n",
        "\n",
        "df['standing_log'].hist(bins=100);"
      ]
    },
    {
      "cell_type": "code",
      "execution_count": null,
      "metadata": {
        "colab": {
          "base_uri": "https://localhost:8080/",
          "height": 337
        },
        "id": "e3mQEWuczYg2",
        "outputId": "69b7e417-7d3f-4930-ab0a-f88550027268"
      },
      "outputs": [
        {
          "data": {
            "image/png": "[encoded data removed]",
            "text/plain": [
              "<Figure size 432x288 with 1 Axes>"
            ]
          },
          "metadata": {},
          "output_type": "display_data"
        }
      ],
      "source": [
        "df['standing_qcut'] = pd.qcut(df['STANDING_IN_MONTHS_LAST'],5)\n",
        "df.pivot_table(index='standing_qcut', values='Target', aggfunc='mean').plot(kind='bar')\n",
        "df = df.drop('standing_qcut', axis=1)"
      ]
    },
    {
      "cell_type": "markdown",
      "metadata": {
        "id": "lklUX2mguVzw"
      },
      "source": [
        "Чем больше стаж, тем надежнее заемщик"
      ]
    },
    {
      "cell_type": "markdown",
      "metadata": {
        "id": "K_29ucUZ7OP4"
      },
      "source": [
        "TRANSPORT_AMOUNT - количество ТС в собственности"
      ]
    },
    {
      "cell_type": "code",
      "execution_count": null,
      "metadata": {
        "colab": {
          "base_uri": "https://localhost:8080/",
          "height": 300
        },
        "id": "lCGiMKg-8F5h",
        "outputId": "95b43f18-27a1-45c9-eb10-e08e6dcab78e"
      },
      "outputs": [
        {
          "data": {
            "text/html": [
              "\n",
              "  <div id=\"df-bb8af25b-07ec-4a72-af33-842453b9db8f\">\n",
              "    <div class=\"colab-df-container\">\n",
              "      <div>\n",
              "<style scoped>\n",
              "    .dataframe tbody tr th:only-of-type {\n",
              "        vertical-align: middle;\n",
              "    }\n",
              "\n",
              "    .dataframe tbody tr th {\n",
              "        vertical-align: top;\n",
              "    }\n",
              "\n",
              "    .dataframe thead th {\n",
              "        text-align: right;\n",
              "    }\n",
              "</style>\n",
              "<table border=\"1\" class=\"dataframe\">\n",
              "  <thead>\n",
              "    <tr style=\"text-align: right;\">\n",
              "      <th></th>\n",
              "      <th>count</th>\n",
              "      <th>mean</th>\n",
              "    </tr>\n",
              "    <tr>\n",
              "      <th>TRANSPORT_AMOUNT</th>\n",
              "      <th></th>\n",
              "      <th></th>\n",
              "    </tr>\n",
              "  </thead>\n",
              "  <tbody>\n",
              "    <tr>\n",
              "      <th>-3</th>\n",
              "      <td>1.0</td>\n",
              "      <td>1.000000</td>\n",
              "    </tr>\n",
              "    <tr>\n",
              "      <th>-2</th>\n",
              "      <td>2.0</td>\n",
              "      <td>1.000000</td>\n",
              "    </tr>\n",
              "    <tr>\n",
              "      <th>-1</th>\n",
              "      <td>3.0</td>\n",
              "      <td>1.000000</td>\n",
              "    </tr>\n",
              "    <tr>\n",
              "      <th>0</th>\n",
              "      <td>1677.0</td>\n",
              "      <td>0.540847</td>\n",
              "    </tr>\n",
              "    <tr>\n",
              "      <th>1</th>\n",
              "      <td>446.0</td>\n",
              "      <td>0.347534</td>\n",
              "    </tr>\n",
              "    <tr>\n",
              "      <th>2</th>\n",
              "      <td>28.0</td>\n",
              "      <td>0.357143</td>\n",
              "    </tr>\n",
              "    <tr>\n",
              "      <th>3</th>\n",
              "      <td>2.0</td>\n",
              "      <td>1.000000</td>\n",
              "    </tr>\n",
              "  </tbody>\n",
              "</table>\n",
              "</div>\n",
              "      <button class=\"colab-df-convert\" onclick=\"convertToInteractive('df-bb8af25b-07ec-4a72-af33-842453b9db8f')\"\n",
              "              title=\"Convert this dataframe to an interactive table.\"\n",
              "              style=\"display:none;\">\n",
              "        \n",
              "  <svg xmlns=\"http://www.w3.org/2000/svg\" height=\"24px\"viewBox=\"0 0 24 24\"\n",
              "       width=\"24px\">\n",
              "    <path d=\"M0 0h24v24H0V0z\" fill=\"none\"/>\n",
              "    <path d=\"M18.56 5.44l.94 2.06.94-2.06 2.06-.94-2.06-.94-.94-2.06-.94 2.06-2.06.94zm-11 1L8.5 8.5l.94-2.06 2.06-.94-2.06-.94L8.5 2.5l-.94 2.06-2.06.94zm10 10l.94 2.06.94-2.06 2.06-.94-2.06-.94-.94-2.06-.94 2.06-2.06.94z\"/><path d=\"M17.41 7.96l-1.37-1.37c-.4-.4-.92-.59-1.43-.59-.52 0-1.04.2-1.43.59L10.3 9.45l-7.72 7.72c-.78.78-.78 2.05 0 2.83L4 21.41c.39.39.9.59 1.41.59.51 0 1.02-.2 1.41-.59l7.78-7.78 2.81-2.81c.8-.78.8-2.07 0-2.86zM5.41 20L4 18.59l7.72-7.72 1.47 1.35L5.41 20z\"/>\n",
              "  </svg>\n",
              "      </button>\n",
              "      \n",
              "  <style>\n",
              "    .colab-df-container {\n",
              "      display:flex;\n",
              "      flex-wrap:wrap;\n",
              "      gap: 12px;\n",
              "    }\n",
              "\n",
              "    .colab-df-convert {\n",
              "      background-color: #E8F0FE;\n",
              "      border: none;\n",
              "      border-radius: 50%;\n",
              "      cursor: pointer;\n",
              "      display: none;\n",
              "      fill: #1967D2;\n",
              "      height: 32px;\n",
              "      padding: 0 0 0 0;\n",
              "      width: 32px;\n",
              "    }\n",
              "\n",
              "    .colab-df-convert:hover {\n",
              "      background-color: #E2EBFA;\n",
              "      box-shadow: 0px 1px 2px rgba(60, 64, 67, 0.3), 0px 1px 3px 1px rgba(60, 64, 67, 0.15);\n",
              "      fill: #174EA6;\n",
              "    }\n",
              "\n",
              "    [theme=dark] .colab-df-convert {\n",
              "      background-color: #3B4455;\n",
              "      fill: #D2E3FC;\n",
              "    }\n",
              "\n",
              "    [theme=dark] .colab-df-convert:hover {\n",
              "      background-color: #434B5C;\n",
              "      box-shadow: 0px 1px 3px 1px rgba(0, 0, 0, 0.15);\n",
              "      filter: drop-shadow(0px 1px 2px rgba(0, 0, 0, 0.3));\n",
              "      fill: #FFFFFF;\n",
              "    }\n",
              "  </style>\n",
              "\n",
              "      <script>\n",
              "        const buttonEl =\n",
              "          document.querySelector('#df-bb8af25b-07ec-4a72-af33-842453b9db8f button.colab-df-convert');\n",
              "        buttonEl.style.display =\n",
              "          google.colab.kernel.accessAllowed ? 'block' : 'none';\n",
              "\n",
              "        async function convertToInteractive(key) {\n",
              "          const element = document.querySelector('#df-bb8af25b-07ec-4a72-af33-842453b9db8f');\n",
              "          const dataTable =\n",
              "            await google.colab.kernel.invokeFunction('convertToInteractive',\n",
              "                                                     [key], {});\n",
              "          if (!dataTable) return;\n",
              "\n",
              "          const docLinkHtml = 'Like what you see? Visit the ' +\n",
              "            '<a target=\"_blank\" href=https://colab.research.google.com/notebooks/data_table.ipynb>data table notebook</a>'\n",
              "            + ' to learn more about interactive tables.';\n",
              "          element.innerHTML = '';\n",
              "          dataTable['output_type'] = 'display_data';\n",
              "          await google.colab.output.renderOutput(dataTable, element);\n",
              "          const docLink = document.createElement('div');\n",
              "          docLink.innerHTML = docLinkHtml;\n",
              "          element.appendChild(docLink);\n",
              "        }\n",
              "      </script>\n",
              "    </div>\n",
              "  </div>\n",
              "  "
            ],
            "text/plain": [
              "                   count      mean\n",
              "TRANSPORT_AMOUNT                  \n",
              "-3                   1.0  1.000000\n",
              "-2                   2.0  1.000000\n",
              "-1                   3.0  1.000000\n",
              " 0                1677.0  0.540847\n",
              " 1                 446.0  0.347534\n",
              " 2                  28.0  0.357143\n",
              " 3                   2.0  1.000000"
            ]
          },
          "execution_count": 89,
          "metadata": {},
          "output_type": "execute_result"
        }
      ],
      "source": [
        "df.pivot_table(index='TRANSPORT_AMOUNT', values='Target', aggfunc= ('count','mean'))"
      ]
    },
    {
      "cell_type": "code",
      "execution_count": null,
      "metadata": {
        "colab": {
          "base_uri": "https://localhost:8080/",
          "height": 293
        },
        "id": "bikDn0dc7SV2",
        "outputId": "040e1fb5-2447-4196-9d14-985b1f8651e0"
      },
      "outputs": [
        {
          "data": {
            "text/plain": [
              "<matplotlib.axes._subplots.AxesSubplot at 0x7f431cdc8810>"
            ]
          },
          "execution_count": 90,
          "metadata": {},
          "output_type": "execute_result"
        },
        {
          "data": {
            "image/png": "[encoded data removed]",
            "text/plain": [
              "<Figure size 432x288 with 1 Axes>"
            ]
          },
          "metadata": {},
          "output_type": "display_data"
        }
      ],
      "source": [
        "df[df.TRANSPORT_AMOUNT>=0].pivot_table(index='TRANSPORT_AMOUNT', values='Target', aggfunc='mean').plot(kind='bar')"
      ]
    },
    {
      "cell_type": "markdown",
      "metadata": {
        "id": "p_zHwHOrudeH"
      },
      "source": [
        "Ввиду того, что существенной разницы по среднему показателю таргета у клиентов с 2 и 3 автомобилями нет, а так же того, что записей с этим показателем >=1 мало, преобразуем в бинарный признак (да бОльших данных, возможно, так делать не стоило, необходимо смотреть на выборки)\n",
        "\n",
        "отрицательные значения заменим на медиану\n"
      ]
    },
    {
      "cell_type": "code",
      "execution_count": null,
      "metadata": {
        "id": "KRENyv2x8j6P"
      },
      "outputs": [],
      "source": [
        "df.loc[df.TRANSPORT_AMOUNT<0, 'TRANSPORT_AMOUNT'] = df[df.TRANSPORT_AMOUNT>=0].TRANSPORT_AMOUNT.median()\n",
        "\n",
        "df.loc[df.TRANSPORT_AMOUNT>1, 'TRANSPORT_AMOUNT'] = 1"
      ]
    },
    {
      "cell_type": "code",
      "execution_count": null,
      "metadata": {
        "colab": {
          "base_uri": "https://localhost:8080/",
          "height": 293
        },
        "id": "gKAKVuI47S8P",
        "outputId": "0c485bf0-a3da-424e-9cff-ae24e699dc9d"
      },
      "outputs": [
        {
          "data": {
            "text/plain": [
              "<matplotlib.axes._subplots.AxesSubplot at 0x7f431265f510>"
            ]
          },
          "execution_count": 111,
          "metadata": {},
          "output_type": "execute_result"
        },
        {
          "data": {
            "image/png": "[encoded data removed]",
            "text/plain": [
              "<Figure size 432x288 with 1 Axes>"
            ]
          },
          "metadata": {},
          "output_type": "display_data"
        }
      ],
      "source": [
        "df[df.TRANSPORT_AMOUNT>=0].pivot_table(index='TRANSPORT_AMOUNT', values='Target', aggfunc='mean').plot(kind='bar')"
      ]
    },
    {
      "cell_type": "markdown",
      "metadata": {
        "id": "B88VaZisOqvf"
      },
      "source": [
        "## Modeling"
      ]
    },
    {
      "cell_type": "code",
      "execution_count": null,
      "metadata": {
        "id": "CTaPY16Rq0N4"
      },
      "outputs": [],
      "source": [
        "df1 = df.copy()\n",
        "df1['EDUCATION'] = df1['EDUCATION'].astype('category') \n",
        "df_ohe = pd.get_dummies(df1, drop_first=True, columns=['EDUCATION']) # OHE encoding - пробовал без него, результат хуже (кодируется у нас только образование)"
      ]
    },
    {
      "cell_type": "code",
      "execution_count": null,
      "metadata": {
        "colab": {
          "base_uri": "https://localhost:8080/",
          "height": 409
        },
        "id": "rE_rkZYMwqal",
        "outputId": "175cc088-e1d7-4ae7-b023-88616a99c0ab"
      },
      "outputs": [
        {
          "name": "stdout",
          "output_type": "stream",
          "text": [
            "scores = [0.71639232 0.69905264 0.69978138 0.79651063 0.75443583] \n",
            "mean score = 0.73323 +/- 0.03748\n"
          ]
        },
        {
          "data": {
            "image/png": "[encoded data removed]",
            "text/plain": [
              "<Figure size 432x432 with 1 Axes>"
            ]
          },
          "metadata": {},
          "output_type": "display_data"
        }
      ],
      "source": [
        "X = df_ohe.drop(['Target', 'DCI', 'UCI', 'CI', 'CI_log', 'standing_log', 'ACCOUNTS_FLAG', 'PROFIT_FAMILY'], axis=1)\n",
        "Y = df_ohe.Target\n",
        "\n",
        "def plot_features_scores(model, data, target, column_names, model_type):\n",
        "    model.fit(data, target)\n",
        "    if model_type == 'lr':\n",
        "        (pd.DataFrame(data={'score': model['lr'].coef_[0]},\n",
        "                      index=column_names).sort_values(by='score').plot(kind='barh', grid=True, figsize=(6,6), legend=False));\n",
        "    else: raise KeyError('Unknown model_type')\n",
        "\n",
        "lr_pip = Pipeline([\n",
        "               ('scale', StandardScaler()),\n",
        "               ('lr', LogisticRegression(#solver='liblinear',\n",
        "                                         #penalty='l1',\n",
        "                                         #max_iter=200,\n",
        "                                         class_weight='balanced',\n",
        "                                         random_state=SEED)\n",
        "               )])\n",
        "scores = cross_val_score(estimator=lr_pip, X=X, y=Y, \n",
        "                         cv=5, scoring='roc_auc', n_jobs=-1)\n",
        "print('scores = {} \\nmean score = {:.5f} +/- {:.5f}'.format(scores, scores.mean(), scores.std()))\n",
        "\n",
        "plot_features_scores(model=lr_pip, data=X, target=Y, column_names=X.columns, model_type='lr')"
      ]
    },
    {
      "cell_type": "code",
      "execution_count": null,
      "metadata": {
        "colab": {
          "base_uri": "https://localhost:8080/"
        },
        "id": "mmwaIxH95YUU",
        "outputId": "be4c0c21-2158-4a17-9f67-68450ec8aef9"
      },
      "outputs": [
        {
          "name": "stdout",
          "output_type": "stream",
          "text": [
            "{'model__C': 0.1, 'model__penalty': 'l2'}\n",
            "0.7334530417583819\n"
          ]
        }
      ],
      "source": [
        "log_reg = LogisticRegression(class_weight='balanced',\n",
        "                                         random_state=SEED)\n",
        "\n",
        "model_pipe = Pipeline([\n",
        "    ('scale', StandardScaler()),\n",
        "    ('model', log_reg)]\n",
        ")\n",
        "\n",
        "param_grid={'model__C': [0.001, 0.01, 0.1, 1, 10, 100, 1000],\n",
        "             'model__penalty': ['none', 'l2']}\n",
        "\n",
        "grid = GridSearchCV(model_pipe, param_grid, cv=5, scoring='roc_auc', n_jobs=-1)\n",
        "grid.fit(X, Y)\n",
        "print(grid.best_params_)\n",
        "print(grid.best_score_)"
      ]
    },
    {
      "cell_type": "markdown",
      "metadata": {
        "id": "kE4ahfJDUqKu"
      },
      "source": [
        "- Удаленные параметры подбирались исходя из коэффициентов в модели.\n",
        "- Лучшие результаты получились, когда мы из денежный признаков оставили только покатель семейного дохода (который предобрабатывается по условию - не меньше суммарного индвидуального дохода)"
      ]
    },
    {
      "cell_type": "markdown",
      "metadata": {
        "id": "JB9y3IHd8aN3"
      },
      "source": [
        "### CatBoost"
      ]
    },
    {
      "cell_type": "code",
      "execution_count": null,
      "metadata": {
        "colab": {
          "base_uri": "https://localhost:8080/"
        },
        "id": "WNsd_8cdf52h",
        "outputId": "04d22e6a-939f-41cc-bcd0-b7327575f92d"
      },
      "outputs": [
        {
          "output_type": "execute_result",
          "data": {
            "text/plain": [
              "0.7046573746151853"
            ]
          },
          "metadata": {},
          "execution_count": 13
        }
      ],
      "source": [
        "df_cat = df_ohe.copy()\n",
        "X_cb = df_cat.drop(['Target', 'DCI', 'UCI', 'CI', 'CI_log', 'standing_log', 'ACCOUNTS_FLAG', 'PROFIT_FAMILY'], axis=1)\n",
        "y_cb = df_cat.Target\n",
        "\n",
        "\n",
        "params = {'eval_metric':'AUC',\n",
        "          'silent':True,\n",
        "          'random_seed': SEED\n",
        "         }\n",
        "\n",
        "cb_pip = Pipeline([\n",
        "               ('scale', StandardScaler()),\n",
        "               ('cb', CatBoostClassifier(**params\n",
        "                                        )\n",
        "               )])\n",
        "scores = cross_val_score(estimator=cb_pip, X=X_cb, y=y_cb, \n",
        "                         cv=5, scoring='roc_auc', n_jobs=-1)\n",
        "scores.mean()"
      ]
    },
    {
      "cell_type": "code",
      "execution_count": null,
      "metadata": {
        "colab": {
          "base_uri": "https://localhost:8080/",
          "height": 404
        },
        "id": "zv1UkFU-GdEv",
        "outputId": "c1ace855-5c17-4501-f3a7-4f060bcbf095"
      },
      "outputs": [
        {
          "data": {
            "image/png": "[encoded data removed]",
            "text/plain": [
              "<Figure size 864x432 with 1 Axes>"
            ]
          },
          "metadata": {},
          "output_type": "display_data"
        }
      ],
      "source": [
        "params = {'eval_metric':'AUC',\n",
        "          'silent':True,\n",
        "          'random_seed': 42\n",
        "         }\n",
        "cb = CatBoostClassifier(**params)\n",
        "cb.fit(X_cb, y_cb)#, \n",
        "\n",
        "feature_importance_df = cb.get_feature_importance(prettified=True)\n",
        "feature_importance_df.columns = ['feature', 'importance']\n",
        "\n",
        "plt.figure(figsize=(12, 6));\n",
        "sns.barplot(x=\"importance\", y=\"feature\", data=feature_importance_df);\n",
        "plt.title('Важность факторов');"
      ]
    },
    {
      "cell_type": "code",
      "execution_count": null,
      "metadata": {
        "colab": {
          "base_uri": "https://localhost:8080/",
          "height": 390
        },
        "id": "qebyQ6c5Lmfa",
        "outputId": "f2bc3b17-4178-4a48-f8f3-95070f08fa77"
      },
      "outputs": [
        {
          "data": {
            "image/png": "[encoded data removed]",
            "text/plain": [
              "<Figure size 576x424.8 with 2 Axes>"
            ]
          },
          "metadata": {},
          "output_type": "display_data"
        }
      ],
      "source": [
        "explainer = shap.TreeExplainer(cb)\n",
        "shap_values = explainer.shap_values(df_cat.drop(['Target', 'DCI', 'UCI', 'CI', 'CI_log', 'standing_log', 'ACCOUNTS_FLAG', 'PROFIT_FAMILY'], axis=1))\n",
        "shap.summary_plot(shap_values, df_cat.drop(['Target', 'DCI', 'UCI', 'CI', 'CI_log', 'standing_log', 'ACCOUNTS_FLAG', 'PROFIT_FAMILY'], axis=1))"
      ]
    },
    {
      "cell_type": "code",
      "execution_count": null,
      "metadata": {
        "id": "f7EnylPZCMWi"
      },
      "outputs": [],
      "source": [
        "cb = CatBoostClassifier(random_seed=SEED, silent=True)\n",
        "\n",
        "model_pipe = Pipeline([\n",
        "    ('scale', StandardScaler()),\n",
        "    ('cb', cb)]\n",
        ")\n",
        "\n",
        "param_grid = {\n",
        "    'cb__eval_metric':['AUC'],\n",
        "    'cb__depth': [4, 16],\n",
        "    'cb__learning_rate': [0.01, 0.1],\n",
        "    'cb__l2_leaf_reg': [1, 4],\n",
        "    'cb__iterations': [100, 300],\n",
        "    #'cb__early_stopping_rounds': [30]\n",
        "}\n",
        "\n",
        "grid = GridSearchCV(model_pipe, param_grid, cv=4, scoring='roc_auc', n_jobs=-1)\n",
        "grid.fit(X_cb, y_cb)\n",
        "print(grid.best_params_)\n",
        "print(grid.best_score_)\n",
        "\n",
        "#'early_stopping_rounds': 200,"
      ]
    },
    {
      "cell_type": "markdown",
      "source": [
        "~ 72,5 - результат не сохранился, не было возможности прогнать еще раз или на большее широкой сетке"
      ],
      "metadata": {
        "id": "fRqF-myZKIFt"
      }
    },
    {
      "cell_type": "markdown",
      "metadata": {
        "id": "kDFAOU6xwOnW"
      },
      "source": [
        "#### Критерии выбора модели:\n",
        "- **интерпретируемость**, поэтому в первую очередь рассматривается логистическая регрессия, кроме того, можно было бы попробовать дерево решений небольшой глубины и опираться на саму логику построения дерева. Более сложные модели можно интерпретировать с помощью важности признаков и SHAP значений, однако в специфики скорринга, как я понимаю, это не подойдет.\n",
        "- точность\n",
        "- способность работы на ограниченной выборке данных (как в тестовом)\n",
        "\n",
        "\n",
        "#### Стабильна ли и не переобучена ли модель?\n",
        "**Модель можно считать стабильной и непереобученной потому, что:**\n",
        "- модель подбирается и валидируется с помощью кросс-валидации, подбор признаков осуществляется аналогично, кроме того, в моделях учтены параметры регуляризации, которые \"штрафуют\" модель за большие значения весов\n",
        "- средняя метрика ROC AUC у регресси получилась 73% с отклонением 0.03748\n",
        "\n",
        "#### Можно было сделать еще:\n",
        "- сделать \"производные\" признаки, например, попробовать кодировать категориальные переменные средними доходами\n",
        "- в качестве интерпретируемой модели попробовать неглубокое дерево решений\n",
        "- подобрать параметры в более широком диапазоне\n",
        "- использовать другие бустинги (изначально CatBoost выбрал ввиду опредленного кол-ва категориальный признаков, однако, в итоге они были закодированы по принципу OHE)"
      ]
    }
  ],
  "metadata": {
    "colab": {
      "collapsed_sections": [],
      "name": "Тестовое_Русский_Стандарт.ipynb",
      "provenance": [],
      "mount_file_id": "1shQuBN64OjYGvMejdFhJftTdNCxyJFCZ",
      "authorship_tag": "ABX9TyNqH06vIsbDk/g3PmRaJFLy",
      "include_colab_link": true
    },
    "kernelspec": {
      "display_name": "Python 3",
      "name": "python3"
    },
    "language_info": {
      "name": "python"
    }
  },
  "nbformat": 4,
  "nbformat_minor": 0
}